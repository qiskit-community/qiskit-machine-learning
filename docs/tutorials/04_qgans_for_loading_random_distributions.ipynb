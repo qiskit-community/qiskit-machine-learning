{
 "cells": [
  {
   "cell_type": "markdown",
   "metadata": {},
   "source": [
    "# qGANs for Loading Random Distributions\n",
    "\n",
    "Given $k$-dimensional data samples, we employ a quantum Generative Adversarial Network (qGAN) to learn the data's underlying random distribution and to load it directly into a quantum state:\n",
    "\n",
    "$$ \\big| g_{\\theta}\\rangle = \\sum_{j=0}^{2^n-1} \\sqrt{p_{\\theta}^{j}}\\big| j \\rangle $$\n",
    "\n",
    "where $p_{\\theta}^{j}$ describe the occurrence probabilities of the basis states $\\big| j\\rangle$. \n",
    "\n",
    "The aim of the qGAN training is to generate a state $\\big| g_{\\theta}\\rangle$ where $p_{\\theta}^{j}$, for $j\\in \\left\\{0, \\ldots, {2^n-1} \\right\\}$, describe a probability distribution that is close to the distribution underlying the training data $X=\\left\\{x^0, \\ldots, x^{k-1} \\right\\}$.\n",
    "\n",
    "For further details please refer to [Quantum Generative Adversarial Networks for Learning and Loading Random Distributions](https://arxiv.org/abs/1904.00043) _Zoufal, Lucchi, Woerner_ \\[2019\\].\n",
    "\n",
    "For an example of how to use a trained qGAN in an application, the pricing of financial derivatives, please see the\n",
    "[Option Pricing with qGANs](https://github.com/Qiskit/qiskit-finance/tree/main/docs/tutorials/10_qgan_option_pricing.ipynb) tutorial."
   ]
  },
  {
   "cell_type": "code",
   "execution_count": 1,
   "metadata": {},
   "outputs": [],
   "source": [
    "import numpy as np\n",
    "\n",
    "seed = 71\n",
    "np.random.seed = seed\n",
    "\n",
    "import matplotlib.pyplot as plt\n",
    "\n",
    "%matplotlib inline\n",
    "\n",
    "from qiskit import QuantumRegister, QuantumCircuit, BasicAer\n",
    "from qiskit.circuit.library import TwoLocal\n",
    "from qiskit_finance.circuit.library.probability_distributions import UniformDistribution\n",
    "\n",
    "from qiskit.utils import QuantumInstance, algorithm_globals\n",
    "from qiskit_machine_learning.algorithms import NumPyDiscriminator, QGAN\n",
    "\n",
    "algorithm_globals.random_seed = seed"
   ]
  },
  {
   "cell_type": "markdown",
   "metadata": {},
   "source": [
    "## Load the Training Data\n",
    "\n",
    "First, we need to load the $k$-dimensional training data samples (here k=1).\n",
    "\n",
    "Next, the data resolution is set, i.e. the min/max data values and the number of qubits used to represent each data dimension."
   ]
  },
  {
   "cell_type": "code",
   "execution_count": 2,
   "metadata": {},
   "outputs": [],
   "source": [
    "# Number training data samples\n",
    "N = 1000\n",
    "\n",
    "# Load data samples from log-normal distribution with mean=1 and standard deviation=1\n",
    "mu = 1\n",
    "sigma = 1\n",
    "real_data = np.random.lognormal(mean=mu, sigma=sigma, size=N)\n",
    "\n",
    "# Set the data resolution\n",
    "# Set upper and lower data values as list of k min/max data values [[min_0,max_0],...,[min_k-1,max_k-1]]\n",
    "bounds = np.array([0.0, 3.0])\n",
    "# Set number of qubits per data dimension as list of k qubit values[#q_0,...,#q_k-1]\n",
    "num_qubits = [2]\n",
    "k = len(num_qubits)"
   ]
  },
  {
   "cell_type": "markdown",
   "metadata": {},
   "source": [
    "## Initialize the qGAN\n",
    "\n",
    "The qGAN consists of a quantum generator $G_{\\theta}$, i.e., an ansatz, and a classical discriminator $D_{\\phi}$, a neural network.\n",
    "\n",
    "To implement the quantum generator, we choose a depth-$1$ ansatz that implements $R_Y$ rotations and $CZ$ gates which takes a uniform distribution as an input state. Notably, for $k>1$ the generator's parameters must be chosen carefully. For example, the circuit depth should be $>1$ because higher circuit depths enable the representation of more complex structures.\n",
    "\n",
    "The classical discriminator used here is based on a neural network implementation using NumPy. There is also a discriminator based on PyTorch which is not installed by default when installing Qiskit - see [Optional Install](https://github.com/Qiskit/qiskit-machine-learning#optional-installs) for more information.\n",
    "\n",
    "Here, both networks are updated with the ADAM optimization algorithm (ADAM is qGAN optimizer default)."
   ]
  },
  {
   "cell_type": "code",
   "execution_count": 3,
   "metadata": {},
   "outputs": [],
   "source": [
    "# Set number of training epochs\n",
    "# Note: The algorithm's runtime can be shortened by reducing the number of training epochs.\n",
    "num_epochs = 10\n",
    "# Batch size\n",
    "batch_size = 100\n",
    "\n",
    "# Initialize qGAN\n",
    "qgan = QGAN(real_data, bounds, num_qubits, batch_size, num_epochs, snapshot_dir=None)\n",
    "qgan.seed = 1\n",
    "# Set quantum instance to run the quantum generator\n",
    "quantum_instance = QuantumInstance(\n",
    "    backend=BasicAer.get_backend(\"statevector_simulator\"), seed_transpiler=seed, seed_simulator=seed\n",
    ")\n",
    "\n",
    "# Set entangler map\n",
    "entangler_map = [[0, 1]]\n",
    "\n",
    "\n",
    "# Set an initial state for the generator circuit\n",
    "init_dist = UniformDistribution(sum(num_qubits))\n",
    "\n",
    "# Set the ansatz circuit\n",
    "ansatz = TwoLocal(int(np.sum(num_qubits)), \"ry\", \"cz\", entanglement=entangler_map, reps=1)\n",
    "\n",
    "# Set generator's initial parameters - in order to reduce the training time and hence the\n",
    "# total running time for this notebook\n",
    "init_params = [3.0, 1.0, 0.6, 1.6]\n",
    "\n",
    "# You can increase the number of training epochs and use random initial parameters.\n",
    "# init_params = np.random.rand(ansatz.num_parameters_settable) * 2 * np.pi\n",
    "\n",
    "# Set generator circuit by adding the initial distribution infront of the ansatz\n",
    "g_circuit = ansatz.compose(init_dist, front=True)\n",
    "\n",
    "# Set quantum generator\n",
    "qgan.set_generator(generator_circuit=g_circuit, generator_init_params=init_params)\n",
    "# The parameters have an order issue that following is a temp. workaround\n",
    "qgan._generator._free_parameters = sorted(g_circuit.parameters, key=lambda p: p.name)\n",
    "# Set classical discriminator neural network\n",
    "discriminator = NumPyDiscriminator(len(num_qubits))\n",
    "qgan.set_discriminator(discriminator)"
   ]
  },
  {
   "cell_type": "markdown",
   "metadata": {},
   "source": [
    "## Run the qGAN Training\n",
    "\n",
    "During the training the discriminator's and the generator's parameters are updated alternately w.r.t the following loss functions:\n",
    "$$ L_G\\left(\\phi, \\theta\\right) = -\\frac{1}{m}\\sum\\limits_{l=1}^{m}\\left[\\log\\left(D_{\\phi}\\left(g^{l}\\right)\\right)\\right] $$\n",
    "and\n",
    "$$  L_D\\left(\\phi, \\theta\\right) =\n",
    "\t\\frac{1}{m}\\sum\\limits_{l=1}^{m}\\left[\\log D_{\\phi}\\left(x^{l}\\right) + \\log\\left(1-D_{\\phi}\\left(g^{l}\\right)\\right)\\right], $$\n",
    "with $m$ denoting the batch size and $g^l$ describing the data samples generated by the quantum generator.\n",
    "\n",
    "Please note that the training, for the purpose of this notebook, has been kept briefer by the selection of a known initial point (`init_params`). Without such prior knowledge be aware training may take some while."
   ]
  },
  {
   "cell_type": "code",
   "execution_count": 4,
   "metadata": {},
   "outputs": [],
   "source": [
    "# Run qGAN\n",
    "result = qgan.run(quantum_instance)"
   ]
  },
  {
   "cell_type": "code",
   "execution_count": 5,
   "metadata": {},
   "outputs": [
    {
     "name": "stdout",
     "output_type": "stream",
     "text": [
      "Training results:\n",
      "  params_d : [ 0.03833263  0.60871536 -0.48065424 ... -0.16435823 -0.20303728\n",
      " -0.08472926]\n",
      "  params_g : [2.9959939  0.99600094 0.59600395 1.60399394]\n",
      "  loss_d : 0.6932\n",
      "  loss_g : [0.6947]\n",
      "  rel_entr : 0.0941\n"
     ]
    }
   ],
   "source": [
    "print(\"Training results:\")\n",
    "for key, value in result.items():\n",
    "    print(f\"  {key} : {value}\")"
   ]
  },
  {
   "cell_type": "markdown",
   "metadata": {},
   "source": [
    "## Training Progress & Outcome\n",
    "\n",
    "Now, we plot the evolution of the generator's and the discriminator's loss functions during the training, as well as the progress in the relative entropy between the trained and the target distribution.\n",
    "\n",
    "Finally, we also compare the cumulative distribution function (CDF) of the trained distribution to the CDF of the target distribution."
   ]
  },
  {
   "cell_type": "code",
   "execution_count": 6,
   "metadata": {},
   "outputs": [
    {
     "data": {
      "image/png": "[encoded data removed]",
      "text/plain": [
       "<Figure size 432x360 with 1 Axes>"
      ]
     },
     "metadata": {
      "needs_background": "light"
     },
     "output_type": "display_data"
    }
   ],
   "source": [
    "# Plot progress w.r.t the generator's and the discriminator's loss function\n",
    "t_steps = np.arange(num_epochs)\n",
    "plt.figure(figsize=(6, 5))\n",
    "plt.title(\"Progress in the loss function\")\n",
    "plt.plot(\n",
    "    t_steps, qgan.g_loss, label=\"Generator loss function\", color=\"mediumvioletred\", linewidth=2\n",
    ")\n",
    "plt.plot(\n",
    "    t_steps, qgan.d_loss, label=\"Discriminator loss function\", color=\"rebeccapurple\", linewidth=2\n",
    ")\n",
    "plt.grid()\n",
    "plt.legend(loc=\"best\")\n",
    "plt.xlabel(\"time steps\")\n",
    "plt.ylabel(\"loss\")\n",
    "plt.show()"
   ]
  },
  {
   "cell_type": "code",
   "execution_count": 7,
   "metadata": {},
   "outputs": [
    {
     "data": {
      "image/png": "[encoded data removed]",
      "text/plain": [
       "<Figure size 432x360 with 1 Axes>"
      ]
     },
     "metadata": {
      "needs_background": "light"
     },
     "output_type": "display_data"
    }
   ],
   "source": [
    "# Plot progress w.r.t relative entropy\n",
    "plt.figure(figsize=(6, 5))\n",
    "plt.title(\"Relative Entropy\")\n",
    "plt.plot(\n",
    "    np.linspace(0, num_epochs, len(qgan.rel_entr)), qgan.rel_entr, color=\"mediumblue\", lw=4, ls=\":\"\n",
    ")\n",
    "plt.grid()\n",
    "plt.xlabel(\"time steps\")\n",
    "plt.ylabel(\"relative entropy\")\n",
    "plt.show()"
   ]
  },
  {
   "cell_type": "code",
   "execution_count": 8,
   "metadata": {
    "tags": [
     "nbsphinx-thumbnail"
    ]
   },
   "outputs": [
    {
     "data": {
      "image/png": "[encoded data removed]",
      "text/plain": [
       "<Figure size 432x360 with 1 Axes>"
      ]
     },
     "metadata": {
      "needs_background": "light"
     },
     "output_type": "display_data"
    }
   ],
   "source": [
    "# Plot the CDF of the resulting distribution against the target distribution, i.e. log-normal\n",
    "log_normal = np.random.lognormal(mean=1, sigma=1, size=100000)\n",
    "log_normal = np.round(log_normal)\n",
    "log_normal = log_normal[log_normal <= bounds[1]]\n",
    "temp = []\n",
    "for i in range(int(bounds[1] + 1)):\n",
    "    temp += [np.sum(log_normal == i)]\n",
    "log_normal = np.array(temp / sum(temp))\n",
    "\n",
    "plt.figure(figsize=(6, 5))\n",
    "plt.title(\"CDF (Cumulative Distribution Function)\")\n",
    "samples_g, prob_g = qgan.generator.get_output(qgan.quantum_instance, shots=10000)\n",
    "samples_g = np.array(samples_g)\n",
    "samples_g = samples_g.flatten()\n",
    "num_bins = len(prob_g)\n",
    "plt.bar(samples_g, np.cumsum(prob_g), color=\"royalblue\", width=0.8, label=\"simulation\")\n",
    "plt.plot(\n",
    "    np.cumsum(log_normal), \"-o\", label=\"log-normal\", color=\"deepskyblue\", linewidth=4, markersize=12\n",
    ")\n",
    "plt.xticks(np.arange(min(samples_g), max(samples_g) + 1, 1.0))\n",
    "plt.grid()\n",
    "plt.xlabel(\"x\")\n",
    "plt.ylabel(\"p(x)\")\n",
    "plt.legend(loc=\"best\")\n",
    "plt.show()"
   ]
  },
  {
   "cell_type": "code",
   "execution_count": 9,
   "metadata": {
    "ExecuteTime": {
     "end_time": "2019-08-22T01:49:13.439275Z",
     "start_time": "2019-08-22T01:49:13.430311Z"
    }
   },
   "outputs": [
    {
     "data": {
      "text/html": [
       "<h3>Version Information</h3><table><tr><th>Qiskit Software</th><th>Version</th></tr><tr><td><code>qiskit-terra</code></td><td>0.20.0.dev0+9c89b07</td></tr><tr><td><code>qiskit-aer</code></td><td>0.11.0</td></tr><tr><td><code>qiskit-ignis</code></td><td>0.7.0</td></tr><tr><td><code>qiskit-nature</code></td><td>0.4.0</td></tr><tr><td><code>qiskit-finance</code></td><td>0.4.0</td></tr><tr><td><code>qiskit-optimization</code></td><td>0.4.0</td></tr><tr><td><code>qiskit-machine-learning</code></td><td>0.4.0</td></tr><tr><th>System information</th></tr><tr><td>Python version</td><td>3.8.12</td></tr><tr><td>Python compiler</td><td>Clang 10.0.0 </td></tr><tr><td>Python build</td><td>default, Oct 12 2021 06:23:56</td></tr><tr><td>OS</td><td>Darwin</td></tr><tr><td>CPUs</td><td>2</td></tr><tr><td>Memory (Gb)</td><td>12.0</td></tr><tr><td colspan='2'>Fri Jan 28 06:08:16 2022 EST</td></tr></table>"
      ],
      "text/plain": [
       "<IPython.core.display.HTML object>"
      ]
     },
     "metadata": {},
     "output_type": "display_data"
    },
    {
     "data": {
      "text/html": [
       "<div style='width: 100%; background-color:#d5d9e0;padding-left: 10px; padding-bottom: 10px; padding-right: 10px; padding-top: 5px'><h3>This code is a part of Qiskit</h3><p>&copy; Copyright IBM 2017, 2022.</p><p>This code is licensed under the Apache License, Version 2.0. You may<br>obtain a copy of this license in the LICENSE.txt file in the root directory<br> of this source tree or at http://www.apache.org/licenses/LICENSE-2.0.<p>Any modifications or derivative works of this code must retain this<br>copyright notice, and modified files need to carry a notice indicating<br>that they have been altered from the originals.</p></div>"
      ],
      "text/plain": [
       "<IPython.core.display.HTML object>"
      ]
     },
     "metadata": {},
     "output_type": "display_data"
    }
   ],
   "source": [
    "import qiskit.tools.jupyter\n",
    "\n",
    "%qiskit_version_table\n",
    "%qiskit_copyright"
   ]
  }
 ],
 "metadata": {
  "celltoolbar": "Tags",
  "kernelspec": {
   "display_name": "Python 3 (ipykernel)",
   "language": "python",
   "name": "python3"
  },
  "language_info": {
   "codemirror_mode": {
    "name": "ipython",
    "version": 3
   },
   "file_extension": ".py",
   "mimetype": "text/x-python",
   "name": "python",
   "nbconvert_exporter": "python",
   "pygments_lexer": "ipython3",
   "version": "3.8.12"
  },
  "varInspector": {
   "cols": {
    "lenName": 16,
    "lenType": 16,
    "lenVar": 40
   },
   "kernels_config": {
    "python": {
     "delete_cmd_postfix": "",
     "delete_cmd_prefix": "del ",
     "library": "var_list.py",
     "varRefreshCmd": "print(var_dic_list())"
    },
    "r": {
     "delete_cmd_postfix": ") ",
     "delete_cmd_prefix": "rm(",
     "library": "var_list.r",
     "varRefreshCmd": "cat(var_dic_list()) "
    }
   },
   "types_to_exclude": [
    "module",
    "function",
    "builtin_function_or_method",
    "instance",
    "_Feature"
   ],
   "window_display": false
  }
 },
 "nbformat": 4,
 "nbformat_minor": 1
}
