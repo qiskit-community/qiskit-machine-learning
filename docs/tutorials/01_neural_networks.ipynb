{
 "cells": [
  {
   "cell_type": "markdown",
   "id": "brilliant-cross",
   "metadata": {},
   "source": [
    "# Quantum Neural Networks\n",
    "\n",
    "This notebook demonstrates the different generic quantum neural network (QNN) implementations provided in Qiskit Machine Learning.\n",
    "The networks are meant as application-agnostic computational units that can be used for many different use cases. \n",
    "Depending on the application, a particular type of network might more or less suitable and might require to be set up in a particular way.\n",
    "The following different available neural networks will now be discussed in more detail:\n",
    "\n",
    "1. `NeuralNetwork`: The interface for neural networks.\n",
    "2. `OpflowQNN`: A network based on the evaluation of quantum mechanical observables.\n",
    "3. `TwoLayerQNN`: A special `OpflowQNN` implementation for convenience. \n",
    "3. `CircuitQNN`: A network based on the samples resulting from measuring a quantum circuit."
   ]
  },
  {
   "cell_type": "code",
   "execution_count": 1,
   "id": "annual-engine",
   "metadata": {},
   "outputs": [],
   "source": [
    "import numpy as np\n",
    "\n",
    "from qiskit import Aer, QuantumCircuit\n",
    "from qiskit.circuit import Parameter\n",
    "from qiskit.circuit.library import RealAmplitudes, ZZFeatureMap\n",
    "from qiskit.opflow import StateFn, PauliSumOp, AerPauliExpectation, ListOp, Gradient\n",
    "from qiskit.utils import QuantumInstance"
   ]
  },
  {
   "cell_type": "code",
   "execution_count": 2,
   "id": "single-likelihood",
   "metadata": {},
   "outputs": [],
   "source": [
    "# set method to calculcate expected values\n",
    "expval = AerPauliExpectation()\n",
    "\n",
    "# define gradient method\n",
    "gradient = Gradient()\n",
    "\n",
    "# define quantum instances (statevector and sample based)\n",
    "qi_sv = QuantumInstance(Aer.get_backend('aer_simulator_statevector'))\n",
    "\n",
    "# we set shots to 10 as this will determine the number of samples later on.\n",
    "qi_qasm = QuantumInstance(Aer.get_backend('aer_simulator'), shots=10)"
   ]
  },
  {
   "cell_type": "markdown",
   "id": "roman-lindsay",
   "metadata": {},
   "source": [
    "## 1. `NeuralNetwork`\n",
    "\n",
    "The `NeuralNetwork` represents the interface for all neural networks available in Qiskit Machine Learning.\n",
    "It exposes a forward and a backward pass taking the data samples and trainable weights as input.\n",
    "A `NeuralNetwork` does not contain any training capabilities, these are pushed to the actual algorithms / applications. Thus, a `NeuralNetwork` also does not store the values for trainable weights. In the following, different implementations of this interfaces are introduced.\n",
    "\n",
    "Suppose a `NeuralNetwork` called `nn`.\n",
    "Then, the `nn.forward(input, weights)` pass takes either flat inputs for the data and weights of size `nn.num_inputs` and `nn.num_weights`, respectively.\n",
    "`NeuralNetwork` supports batching of inputs and returns batches of output of the corresponding shape."
   ]
  },
  {
   "cell_type": "markdown",
   "id": "billion-uniform",
   "metadata": {},
   "source": [
    "## 2. `OpflowQNN`\n",
    "\n",
    "The `OpflowQNN` takes a (parametrized) operator from Qiskit and leverages Qiskit's gradient framework to provide the backward pass. \n",
    "Such an operator can for instance be an expected value of a quantum mechanical observable with respect to a parametrized quantum state. The Parameters can be used to load classical data as well as represent trainable weights.\n",
    "The `OpflowQNN` also allows lists of operators and more complex structures to construct more complex QNNs."
   ]
  },
  {
   "cell_type": "code",
   "execution_count": 3,
   "id": "separate-presence",
   "metadata": {},
   "outputs": [],
   "source": [
    "from qiskit_machine_learning.neural_networks import OpflowQNN"
   ]
  },
  {
   "cell_type": "code",
   "execution_count": 4,
   "id": "popular-artwork",
   "metadata": {},
   "outputs": [
    {
     "name": "stdout",
     "output_type": "stream",
     "text": [
      "ComposedOp([\n",
      "  OperatorMeasurement(1.0 * Z\n",
      "  + 1.0 * X),\n",
      "  CircuitStateFn(\n",
      "       ┌───┐┌────────────┐┌─────────────┐\n",
      "  q_0: ┤ H ├┤ RY(input1) ├┤ RX(weight1) ├\n",
      "       └───┘└────────────┘└─────────────┘\n",
      "  )\n",
      "])\n"
     ]
    }
   ],
   "source": [
    "# construct parametrized circuit\n",
    "params1 = [Parameter('input1'), Parameter('weight1')]\n",
    "qc1 = QuantumCircuit(1)\n",
    "qc1.h(0)\n",
    "qc1.ry(params1[0], 0)\n",
    "qc1.rx(params1[1], 0)\n",
    "qc_sfn1 = StateFn(qc1)\n",
    "\n",
    "# construct cost operator\n",
    "H1 = StateFn(PauliSumOp.from_list([('Z', 1.0), ('X', 1.0)]))\n",
    "\n",
    "# combine operator and circuit to objective function\n",
    "op1 = ~H1 @ qc_sfn1\n",
    "print(op1)"
   ]
  },
  {
   "cell_type": "code",
   "execution_count": 5,
   "id": "italian-clear",
   "metadata": {},
   "outputs": [],
   "source": [
    "# construct OpflowQNN with the operator, the input parameters, the weight parameters, \n",
    "# the expected value, gradient, and quantum instance.\n",
    "qnn1 = OpflowQNN(op1, [params1[0]], [params1[1]], expval, gradient, qi_sv)"
   ]
  },
  {
   "cell_type": "code",
   "execution_count": 6,
   "id": "forty-routine",
   "metadata": {},
   "outputs": [],
   "source": [
    "# define (random) input and weights\n",
    "input1 = np.random.rand(qnn1.num_inputs)\n",
    "weights1 = np.random.rand(qnn1.num_weights)"
   ]
  },
  {
   "cell_type": "code",
   "execution_count": 7,
   "id": "recovered-marriage",
   "metadata": {},
   "outputs": [
    {
     "data": {
      "text/plain": [
       "array([[0.81422018]])"
      ]
     },
     "execution_count": 7,
     "metadata": {},
     "output_type": "execute_result"
    }
   ],
   "source": [
    "# QNN forward pass\n",
    "qnn1.forward(input1, weights1)"
   ]
  },
  {
   "cell_type": "code",
   "execution_count": 8,
   "id": "approved-compound",
   "metadata": {},
   "outputs": [
    {
     "data": {
      "text/plain": [
       "array([[0.81422018],\n",
       "       [0.81422018]])"
      ]
     },
     "execution_count": 8,
     "metadata": {},
     "output_type": "execute_result"
    }
   ],
   "source": [
    "# QNN batched forward pass\n",
    "qnn1.forward([input1, input1], weights1)"
   ]
  },
  {
   "cell_type": "code",
   "execution_count": 9,
   "id": "considerable-embassy",
   "metadata": {},
   "outputs": [
    {
     "data": {
      "text/plain": [
       "(array([[[-1.15629599]]]), array([[[0.0008565]]]))"
      ]
     },
     "execution_count": 9,
     "metadata": {},
     "output_type": "execute_result"
    }
   ],
   "source": [
    "# QNN backward pass\n",
    "qnn1.backward(input1, weights1)"
   ]
  },
  {
   "cell_type": "code",
   "execution_count": 10,
   "id": "moved-matrix",
   "metadata": {},
   "outputs": [
    {
     "data": {
      "text/plain": [
       "(array([[[-1.15629599]],\n",
       " \n",
       "        [[-1.15629599]]]),\n",
       " array([[[0.0008565]],\n",
       " \n",
       "        [[0.0008565]]]))"
      ]
     },
     "execution_count": 10,
     "metadata": {},
     "output_type": "execute_result"
    }
   ],
   "source": [
    "# QNN batched backward pass\n",
    "qnn1.backward([input1, input1], weights1)"
   ]
  },
  {
   "cell_type": "markdown",
   "id": "completed-dressing",
   "metadata": {},
   "source": [
    "Combining multiple observables in a `ListOp` also allows to create more complex QNNs"
   ]
  },
  {
   "cell_type": "code",
   "execution_count": 11,
   "id": "academic-roads",
   "metadata": {},
   "outputs": [],
   "source": [
    "op2 = ListOp([op1, op1])\n",
    "qnn2 = OpflowQNN(op2, [params1[0]], [params1[1]], expval, gradient, qi_sv)"
   ]
  },
  {
   "cell_type": "code",
   "execution_count": 12,
   "id": "important-density",
   "metadata": {},
   "outputs": [
    {
     "data": {
      "text/plain": [
       "array([[0.81422018, 0.81422018]])"
      ]
     },
     "execution_count": 12,
     "metadata": {},
     "output_type": "execute_result"
    }
   ],
   "source": [
    "# QNN forward pass\n",
    "qnn2.forward(input1, weights1)"
   ]
  },
  {
   "cell_type": "code",
   "execution_count": 13,
   "id": "informal-biology",
   "metadata": {},
   "outputs": [
    {
     "data": {
      "text/plain": [
       "(array([[[-1.15629599],\n",
       "         [-1.15629599]]]),\n",
       " array([[[0.0008565],\n",
       "         [0.0008565]]]))"
      ]
     },
     "execution_count": 13,
     "metadata": {},
     "output_type": "execute_result"
    }
   ],
   "source": [
    "# QNN backward pass\n",
    "qnn2.backward(input1, weights1)"
   ]
  },
  {
   "cell_type": "markdown",
   "id": "bound-hypothesis",
   "metadata": {},
   "source": [
    "## 3. `TwoLayerQNN`\n",
    "\n",
    "The `TwoLayerQNN` is a special `OpflowQNN` on $n$ qubits that consists of first a feature map to insert data and second an ansatz that is trained. The default observable is $Z^{\\otimes n}$, i.e., parity."
   ]
  },
  {
   "cell_type": "code",
   "execution_count": 14,
   "id": "ready-accounting",
   "metadata": {},
   "outputs": [],
   "source": [
    "from qiskit_machine_learning.neural_networks import TwoLayerQNN"
   ]
  },
  {
   "cell_type": "code",
   "execution_count": 15,
   "id": "twelve-south",
   "metadata": {},
   "outputs": [],
   "source": [
    "# specify the number of qubits\n",
    "num_qubits = 3"
   ]
  },
  {
   "cell_type": "code",
   "execution_count": 16,
   "id": "artificial-mileage",
   "metadata": {
    "scrolled": false
   },
   "outputs": [
    {
     "data": {
      "image/png": "[encoded data removed]",
      "text/plain": [
       "<Figure size 1591.6x445.48 with 1 Axes>"
      ]
     },
     "execution_count": 16,
     "metadata": {},
     "output_type": "execute_result"
    }
   ],
   "source": [
    "# specify the feature map\n",
    "fm = ZZFeatureMap(num_qubits, reps=2)\n",
    "fm.draw(output='mpl')"
   ]
  },
  {
   "cell_type": "code",
   "execution_count": 17,
   "id": "greater-latex",
   "metadata": {},
   "outputs": [
    {
     "data": {
      "image/png": "[encoded data removed]",
      "text/plain": [
       "<Figure size 387.597x204.68 with 1 Axes>"
      ]
     },
     "execution_count": 17,
     "metadata": {},
     "output_type": "execute_result"
    }
   ],
   "source": [
    "# specify the ansatz\n",
    "ansatz = RealAmplitudes(num_qubits, reps=1)\n",
    "ansatz.draw(output='mpl')"
   ]
  },
  {
   "cell_type": "code",
   "execution_count": 18,
   "id": "anonymous-illness",
   "metadata": {},
   "outputs": [
    {
     "name": "stdout",
     "output_type": "stream",
     "text": [
      "1.0 * ZZZ\n"
     ]
    }
   ],
   "source": [
    "# specify the observable\n",
    "observable = PauliSumOp.from_list([('Z'*num_qubits, 1)])\n",
    "print(observable)"
   ]
  },
  {
   "cell_type": "code",
   "execution_count": 19,
   "id": "novel-ownership",
   "metadata": {},
   "outputs": [],
   "source": [
    "# define two layer QNN\n",
    "qnn3 = TwoLayerQNN(num_qubits, \n",
    "                   feature_map=fm, \n",
    "                   ansatz=ansatz, \n",
    "                   observable=observable, quantum_instance=qi_sv)"
   ]
  },
  {
   "cell_type": "code",
   "execution_count": 20,
   "id": "patient-protocol",
   "metadata": {},
   "outputs": [],
   "source": [
    "# define (random) input and weights\n",
    "input3 = np.random.rand(qnn3.num_inputs)\n",
    "weights3 = np.random.rand(qnn3.num_weights)"
   ]
  },
  {
   "cell_type": "code",
   "execution_count": 21,
   "id": "sweet-complement",
   "metadata": {},
   "outputs": [
    {
     "data": {
      "text/plain": [
       "array([[0.28520667]])"
      ]
     },
     "execution_count": 21,
     "metadata": {},
     "output_type": "execute_result"
    }
   ],
   "source": [
    "# QNN forward pass\n",
    "qnn3.forward(input3, weights3)"
   ]
  },
  {
   "cell_type": "code",
   "execution_count": 22,
   "id": "golden-worcester",
   "metadata": {},
   "outputs": [
    {
     "data": {
      "text/plain": [
       "(array([[[-0.2933431 , -0.78565729,  0.5416021 ]]]),\n",
       " array([[[-0.09093077,  0.02802006, -0.13559047,  0.1814619 ,\n",
       "           0.11644461, -0.4073129 ]]]))"
      ]
     },
     "execution_count": 22,
     "metadata": {},
     "output_type": "execute_result"
    }
   ],
   "source": [
    "# QNN backward pass\n",
    "qnn3.backward(input3, weights3)"
   ]
  },
  {
   "cell_type": "markdown",
   "id": "according-watch",
   "metadata": {},
   "source": [
    "## 4. `CircuitQNN`\n",
    "\n",
    "The `CircuitQNN` is based on a (parametrized) `QuantumCircuit`.\n",
    "This can take input as well as weight parameters and produces samples from the measurement. The samples can either be interpreted as probabilities of measuring the integer index corresponding to a bitstring or directly as a batch of binary output. In the case of probabilities, gradients can be estimated efficiently and the `CircuitQNN` provides a backward pass as well. In case of samples, differentiation is not possible and the backward pass returns `(None, None)`.\n",
    "\n",
    "Further, the `CircuitQNN` allows to specify an `interpret` function to post-process the samples. This is expected to take a measured integer (from a bitstring) and map it to a new index, i.e. non-negative integer. In this case, the output shape needs to be provided and the probabilities are aggregated accordingly.\n",
    "\n",
    "A `CircuitQNN` can be configured to return sparse as well as dense probability vectors. If no `interpret` function is used, the dimension of the probability vector scales exponentially with the number of qubits and a sparse recommendation is usually recommended. In case of an `interpret` function it depends on the expected outcome. If, for instance, an index is mapped to the parity of the corresponding bitstring, i.e., to 0 or 1, a dense output makes sense and the result will be a probability vector of length 2."
   ]
  },
  {
   "cell_type": "code",
   "execution_count": 23,
   "id": "posted-shoot",
   "metadata": {},
   "outputs": [],
   "source": [
    "from qiskit_machine_learning.neural_networks import CircuitQNN"
   ]
  },
  {
   "cell_type": "code",
   "execution_count": 24,
   "id": "acceptable-standing",
   "metadata": {},
   "outputs": [
    {
     "data": {
      "image/png": "[encoded data removed]",
      "text/plain": [
       "<Figure size 327.397x204.68 with 1 Axes>"
      ]
     },
     "execution_count": 24,
     "metadata": {},
     "output_type": "execute_result"
    }
   ],
   "source": [
    "qc = RealAmplitudes(num_qubits, entanglement='linear', reps=1)\n",
    "qc.draw(output='mpl')"
   ]
  },
  {
   "cell_type": "markdown",
   "id": "extra-ebony",
   "metadata": {},
   "source": [
    "### 4.1 Output: sparse integer probabilities"
   ]
  },
  {
   "cell_type": "code",
   "execution_count": 25,
   "id": "indoor-disorder",
   "metadata": {},
   "outputs": [],
   "source": [
    "# specify circuit QNN\n",
    "qnn4 = CircuitQNN(qc, [], qc.parameters, sparse=True, quantum_instance=qi_qasm)"
   ]
  },
  {
   "cell_type": "code",
   "execution_count": 26,
   "id": "beneficial-summary",
   "metadata": {},
   "outputs": [],
   "source": [
    "# define (random) input and weights\n",
    "input4 = np.random.rand(qnn4.num_inputs)\n",
    "weights4 = np.random.rand(qnn4.num_weights)"
   ]
  },
  {
   "cell_type": "code",
   "execution_count": 27,
   "id": "jewish-elements",
   "metadata": {},
   "outputs": [
    {
     "data": {
      "text/plain": [
       "array([[0.5, 0. , 0. , 0. , 0.3, 0. , 0. , 0.2]])"
      ]
     },
     "execution_count": 27,
     "metadata": {},
     "output_type": "execute_result"
    }
   ],
   "source": [
    "# QNN forward pass\n",
    "qnn4.forward(input4, weights4).todense()  # returned as a sparse matrix"
   ]
  },
  {
   "cell_type": "code",
   "execution_count": 28,
   "id": "entitled-reaction",
   "metadata": {
    "scrolled": true
   },
   "outputs": [
    {
     "data": {
      "text/plain": [
       "(<COO: shape=(1, 8, 0), dtype=float64, nnz=0, fill_value=0.0>,\n",
       " <COO: shape=(1, 8, 6), dtype=float64, nnz=22, fill_value=0.0>)"
      ]
     },
     "execution_count": 28,
     "metadata": {},
     "output_type": "execute_result"
    }
   ],
   "source": [
    "# QNN backward pass, returns a tuple of sparse matrices\n",
    "qnn4.backward(input4, weights4)"
   ]
  },
  {
   "cell_type": "markdown",
   "id": "happy-glossary",
   "metadata": {},
   "source": [
    "### 4.2 Output: dense parity probabilities"
   ]
  },
  {
   "cell_type": "code",
   "execution_count": 29,
   "id": "potential-database",
   "metadata": {},
   "outputs": [],
   "source": [
    "# specify circuit QNN\n",
    "parity = lambda x: '{:b}'.format(x).count('1') % 2\n",
    "output_shape = 2  # this is required in case of a callable with dense output\n",
    "qnn6 = CircuitQNN(qc, [], qc.parameters, sparse=False, interpret=parity, output_shape=output_shape,\n",
    "                  quantum_instance=qi_qasm)"
   ]
  },
  {
   "cell_type": "code",
   "execution_count": 30,
   "id": "pending-series",
   "metadata": {},
   "outputs": [],
   "source": [
    "# define (random) input and weights\n",
    "input6 = np.random.rand(qnn6.num_inputs)\n",
    "weights6 = np.random.rand(qnn6.num_weights)"
   ]
  },
  {
   "cell_type": "code",
   "execution_count": 31,
   "id": "driven-stomach",
   "metadata": {},
   "outputs": [
    {
     "data": {
      "text/plain": [
       "array([[0.8, 0.2]])"
      ]
     },
     "execution_count": 31,
     "metadata": {},
     "output_type": "execute_result"
    }
   ],
   "source": [
    "# QNN forward pass\n",
    "qnn6.forward(input6, weights6)"
   ]
  },
  {
   "cell_type": "code",
   "execution_count": 32,
   "id": "lightweight-federation",
   "metadata": {
    "scrolled": true
   },
   "outputs": [
    {
     "data": {
      "text/plain": [
       "(array([], shape=(1, 2, 0), dtype=float64),\n",
       " array([[[-1.00000000e-01,  5.55111512e-17, -5.00000000e-02,\n",
       "           1.38777878e-17, -2.00000000e-01,  5.00000000e-02],\n",
       "         [ 1.00000000e-01,  0.00000000e+00,  5.00000000e-02,\n",
       "          -5.55111512e-17,  2.00000000e-01, -5.00000000e-02]]]))"
      ]
     },
     "execution_count": 32,
     "metadata": {},
     "output_type": "execute_result"
    }
   ],
   "source": [
    "# QNN backward pass\n",
    "qnn6.backward(input6, weights6)"
   ]
  },
  {
   "cell_type": "markdown",
   "id": "limited-blast",
   "metadata": {},
   "source": [
    "### 4.3 Output: Samples"
   ]
  },
  {
   "cell_type": "code",
   "execution_count": 33,
   "id": "apart-algebra",
   "metadata": {},
   "outputs": [],
   "source": [
    "# specify circuit QNN\n",
    "qnn7 = CircuitQNN(qc, [], qc.parameters, sampling=True,\n",
    "                  quantum_instance=qi_qasm)"
   ]
  },
  {
   "cell_type": "code",
   "execution_count": 34,
   "id": "laughing-techno",
   "metadata": {},
   "outputs": [],
   "source": [
    "# define (random) input and weights\n",
    "input7 = np.random.rand(qnn7.num_inputs)\n",
    "weights7 = np.random.rand(qnn7.num_weights)"
   ]
  },
  {
   "cell_type": "code",
   "execution_count": 35,
   "id": "everyday-norwegian",
   "metadata": {
    "scrolled": true
   },
   "outputs": [
    {
     "data": {
      "text/plain": [
       "array([[[4.],\n",
       "        [4.],\n",
       "        [7.],\n",
       "        [1.],\n",
       "        [7.],\n",
       "        [4.],\n",
       "        [4.],\n",
       "        [4.],\n",
       "        [0.],\n",
       "        [0.]]])"
      ]
     },
     "execution_count": 35,
     "metadata": {},
     "output_type": "execute_result"
    }
   ],
   "source": [
    "# QNN forward pass, results in samples of measured bit strings mapped to integers\n",
    "qnn7.forward(input7, weights7)"
   ]
  },
  {
   "cell_type": "code",
   "execution_count": 36,
   "id": "balanced-korea",
   "metadata": {},
   "outputs": [
    {
     "data": {
      "text/plain": [
       "(None, None)"
      ]
     },
     "execution_count": 36,
     "metadata": {},
     "output_type": "execute_result"
    }
   ],
   "source": [
    "# QNN backward pass\n",
    "qnn7.backward(input7, weights7)"
   ]
  },
  {
   "cell_type": "markdown",
   "id": "biological-thunder",
   "metadata": {},
   "source": [
    "### 4.4 Output: Parity Samples"
   ]
  },
  {
   "cell_type": "code",
   "execution_count": 37,
   "id": "broke-jonathan",
   "metadata": {},
   "outputs": [],
   "source": [
    "# specify circuit QNN\n",
    "qnn8 = CircuitQNN(qc, [], qc.parameters, sampling=True, interpret=parity,\n",
    "                  quantum_instance=qi_qasm)"
   ]
  },
  {
   "cell_type": "code",
   "execution_count": 38,
   "id": "satisfied-graph",
   "metadata": {},
   "outputs": [],
   "source": [
    "# define (random) input and weights\n",
    "input8 = np.random.rand(qnn8.num_inputs)\n",
    "weights8 = np.random.rand(qnn8.num_weights)"
   ]
  },
  {
   "cell_type": "code",
   "execution_count": 39,
   "id": "promotional-trash",
   "metadata": {},
   "outputs": [
    {
     "data": {
      "text/plain": [
       "array([[[1.],\n",
       "        [0.],\n",
       "        [1.],\n",
       "        [0.],\n",
       "        [0.],\n",
       "        [0.],\n",
       "        [0.],\n",
       "        [0.],\n",
       "        [0.],\n",
       "        [0.]]])"
      ]
     },
     "execution_count": 39,
     "metadata": {},
     "output_type": "execute_result"
    }
   ],
   "source": [
    "# QNN forward pass, results in samples of measured bit strings\n",
    "qnn8.forward(input8, weights8)"
   ]
  },
  {
   "cell_type": "code",
   "execution_count": 40,
   "id": "freelance-alfred",
   "metadata": {},
   "outputs": [
    {
     "data": {
      "text/plain": [
       "(None, None)"
      ]
     },
     "execution_count": 40,
     "metadata": {},
     "output_type": "execute_result"
    }
   ],
   "source": [
    "# QNN backward pass\n",
    "qnn8.backward(input8, weights8)"
   ]
  },
  {
   "cell_type": "code",
   "execution_count": 41,
   "id": "appointed-shirt",
   "metadata": {},
   "outputs": [
    {
     "data": {
      "text/html": [
       "<h3>Version Information</h3><table><tr><th>Qiskit Software</th><th>Version</th></tr><tr><td>Qiskit</td><td>None</td></tr><tr><td>Terra</td><td>0.17.0.dev0+346ffa8</td></tr><tr><td>Aer</td><td>0.8.0</td></tr><tr><td>Ignis</td><td>0.6.0.dev0+d6f1ad7</td></tr><tr><td>Aqua</td><td>None</td></tr><tr><td>IBM Q Provider</td><td>0.13.0.dev0+10f19e0</td></tr><tr><th>System information</th></tr><tr><td>Python</td><td>3.8.8 (default, Feb 24 2021, 13:46:16) \n",
       "[Clang 10.0.0 ]</td></tr><tr><td>OS</td><td>Darwin</td></tr><tr><td>CPUs</td><td>6</td></tr><tr><td>Memory (Gb)</td><td>16.0</td></tr><tr><td colspan='2'>Wed Mar 31 23:25:48 2021 CEST</td></tr></table>"
      ],
      "text/plain": [
       "<IPython.core.display.HTML object>"
      ]
     },
     "metadata": {},
     "output_type": "display_data"
    },
    {
     "data": {
      "text/html": [
       "<div style='width: 100%; background-color:#d5d9e0;padding-left: 10px; padding-bottom: 10px; padding-right: 10px; padding-top: 5px'><h3>This code is a part of Qiskit</h3><p>&copy; Copyright IBM 2017, 2021.</p><p>This code is licensed under the Apache License, Version 2.0. You may<br>obtain a copy of this license in the LICENSE.txt file in the root directory<br> of this source tree or at http://www.apache.org/licenses/LICENSE-2.0.<p>Any modifications or derivative works of this code must retain this<br>copyright notice, and modified files need to carry a notice indicating<br>that they have been altered from the originals.</p></div>"
      ],
      "text/plain": [
       "<IPython.core.display.HTML object>"
      ]
     },
     "metadata": {},
     "output_type": "display_data"
    }
   ],
   "source": [
    "import qiskit.tools.jupyter\n",
    "%qiskit_version_table\n",
    "%qiskit_copyright"
   ]
  },
  {
   "cell_type": "code",
   "execution_count": null,
   "id": "extensive-prescription",
   "metadata": {},
   "outputs": [],
   "source": []
  }
 ],
 "metadata": {
  "kernelspec": {
   "display_name": "Python 3",
   "language": "python",
   "name": "python3"
  },
  "language_info": {
   "codemirror_mode": {
    "name": "ipython",
    "version": 3
   },
   "file_extension": ".py",
   "mimetype": "text/x-python",
   "name": "python",
   "nbconvert_exporter": "python",
   "pygments_lexer": "ipython3",
   "version": "3.8.8"
  }
 },
 "nbformat": 4,
 "nbformat_minor": 5
}
