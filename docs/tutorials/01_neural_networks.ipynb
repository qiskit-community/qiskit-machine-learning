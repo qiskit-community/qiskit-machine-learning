{
 "cells": [
  {
   "cell_type": "markdown",
   "id": "brilliant-cross",
   "metadata": {},
   "source": [
    "# Quantum Neural Networks\n",
    "\n",
    "This notebook demonstrates the different generic quantum neural network (QNN) implementations provided in Qiskit Machine Learning.\n",
    "The networks are meant as application-agnostic computational units that can be used for many different use cases. \n",
    "Depending on the application, a particular type of network might be more or less suitable and might require to be set up in a particular way.\n",
    "The following different available neural networks will now be discussed in more detail:\n",
    "\n",
    "1. `NeuralNetwork`: The interface for neural networks. This is an abstract class.\n",
    "2. `EstimatorQNN`: A network based on the evaluation of quantum mechanical observables.\n",
    "3. `SamplerQNN`: A network based on the samples resulting from measuring a quantum circuit.\n",
    "\n",
    "Each implementation, `EstimatorQNN` and `SamplerQNN`, takes in an optional instance of the corresponding Qiskit primitive, namely `BaseEstimator` and `BaseSampler`. The latter two define two interfaces of the primitives. Qiskit provides the reference implementation as well as a backend-based implementation of the primitives. The primitives is a frontend to either a simulator or a real quantum hardware. By default, if no instance is passed to a network, an instance of the Qiskit reference primitive is created automatically by the network. For more information about primitives please refer to [Qiskit primitives](https://qiskit.org/documentation/apidoc/primitives.html)."
   ]
  },
  {
   "cell_type": "code",
   "execution_count": 1,
   "id": "annual-engine",
   "metadata": {},
   "outputs": [],
   "source": [
    "from qiskit import QuantumCircuit\n",
    "from qiskit.circuit import Parameter\n",
    "from qiskit.circuit.library import RealAmplitudes\n",
    "from qiskit.utils import algorithm_globals\n",
    "\n",
    "algorithm_globals.random_seed = 42"
   ]
  },
  {
   "cell_type": "markdown",
   "id": "roman-lindsay",
   "metadata": {},
   "source": [
    "## 1. `NeuralNetwork`\n",
    "\n",
    "The `NeuralNetwork` represents the interface for all neural networks available in Qiskit Machine Learning.\n",
    "It exposes a forward and a backward pass taking the data samples and trainable weights as input.\n",
    "A `NeuralNetwork` does not contain any training capabilities, these are pushed to the actual algorithms / applications. Thus, a `NeuralNetwork` also does not store the values for trainable weights. In the following, different implementations of this interface are introduced.\n",
    "\n",
    "Suppose a `NeuralNetwork` called `nn`.\n",
    "Then, the `nn.forward(input, weights)` pass takes both flat inputs for the data and weights of size `nn.num_inputs` and `nn.num_weights`, respectively.\n",
    "`NeuralNetwork` supports batching of inputs and returns batches of output of the corresponding shape."
   ]
  },
  {
   "cell_type": "markdown",
   "id": "billion-uniform",
   "metadata": {},
   "source": [
    "## 2. `EstimatorQNN`\n",
    "\n",
    "The `EstimatorQNN` takes in a parametrized quantum circuit with the combined network's feature map (input parameters) and ansatz (weight parameters), as well as an optional quantum mechanical observable, and outputs expectation value computations for the forward pass. The quantum circuit parameters can be used to load classical data as well as represent trainable weights.\n",
    "The `EstimatorQNN` also allows lists of observables to construct more complex QNNs."
   ]
  },
  {
   "cell_type": "code",
   "execution_count": 2,
   "id": "separate-presence",
   "metadata": {},
   "outputs": [],
   "source": [
    "from qiskit_machine_learning.neural_networks import EstimatorQNN"
   ]
  },
  {
   "cell_type": "code",
   "execution_count": 3,
   "id": "popular-artwork",
   "metadata": {},
   "outputs": [
    {
     "data": {
      "image/png": "[encoded data removed]",
      "text/plain": [
       "<Figure size 253.926x84.28 with 1 Axes>"
      ]
     },
     "execution_count": 3,
     "metadata": {},
     "output_type": "execute_result"
    }
   ],
   "source": [
    "# construct parametrized circuit\n",
    "params1 = [Parameter(\"input1\"), Parameter(\"weight1\")]\n",
    "qc1 = QuantumCircuit(1)\n",
    "qc1.h(0)\n",
    "qc1.ry(params1[0], 0)\n",
    "qc1.rx(params1[1], 0)\n",
    "qc1.draw(\"mpl\")"
   ]
  },
  {
   "cell_type": "markdown",
   "id": "crucial-aquatic",
   "metadata": {},
   "source": [
    "We create an observable manually. If it is set, then The default observable $Z^{\\otimes n}$, where $n$ is the number of qubits, is created automatically."
   ]
  },
  {
   "cell_type": "code",
   "execution_count": 4,
   "id": "encouraging-magnitude",
   "metadata": {},
   "outputs": [],
   "source": [
    "from qiskit.quantum_info import SparsePauliOp\n",
    "\n",
    "observable1 = SparsePauliOp.from_list([(\"Y\" * qc1.num_qubits, 1)])"
   ]
  },
  {
   "cell_type": "markdown",
   "id": "still-modeling",
   "metadata": {},
   "source": [
    "Construct EstimatorQNN with the observable, input parameters, and weight parameters. We don't set the `estimator` parameter, the network will create an instance of the reference `Estimator` primitive for us."
   ]
  },
  {
   "cell_type": "code",
   "execution_count": 5,
   "id": "italian-clear",
   "metadata": {},
   "outputs": [],
   "source": [
    "qnn1 = EstimatorQNN(\n",
    "    circuit=qc1, observables=observable1, input_params=[params1[0]], weight_params=[params1[1]]\n",
    ")"
   ]
  },
  {
   "cell_type": "code",
   "execution_count": 6,
   "id": "forty-routine",
   "metadata": {},
   "outputs": [],
   "source": [
    "# define (random) input and weights\n",
    "input1 = algorithm_globals.random.random(qnn1.num_inputs)\n",
    "weights1 = algorithm_globals.random.random(qnn1.num_weights)"
   ]
  },
  {
   "cell_type": "code",
   "execution_count": 7,
   "id": "recovered-marriage",
   "metadata": {},
   "outputs": [
    {
     "data": {
      "text/plain": [
       "array([[0.2970094]])"
      ]
     },
     "execution_count": 7,
     "metadata": {},
     "output_type": "execute_result"
    }
   ],
   "source": [
    "# QNN forward pass\n",
    "qnn1.forward(input1, weights1)"
   ]
  },
  {
   "cell_type": "code",
   "execution_count": 8,
   "id": "approved-compound",
   "metadata": {},
   "outputs": [
    {
     "data": {
      "text/plain": [
       "array([[0.2970094],\n",
       "       [0.2970094]])"
      ]
     },
     "execution_count": 8,
     "metadata": {},
     "output_type": "execute_result"
    }
   ],
   "source": [
    "# QNN batched forward pass\n",
    "qnn1.forward([input1, input1], weights1)"
   ]
  },
  {
   "cell_type": "code",
   "execution_count": 9,
   "id": "considerable-embassy",
   "metadata": {},
   "outputs": [
    {
     "data": {
      "text/plain": [
       "(None, array([[[0.63272767]]]))"
      ]
     },
     "execution_count": 9,
     "metadata": {},
     "output_type": "execute_result"
    }
   ],
   "source": [
    "# QNN backward pass\n",
    "qnn1.backward(input1, weights1)"
   ]
  },
  {
   "cell_type": "code",
   "execution_count": 10,
   "id": "moved-matrix",
   "metadata": {},
   "outputs": [
    {
     "data": {
      "text/plain": [
       "(None,\n",
       " array([[[0.63272767]],\n",
       " \n",
       "        [[0.63272767]]]))"
      ]
     },
     "execution_count": 10,
     "metadata": {},
     "output_type": "execute_result"
    }
   ],
   "source": [
    "# QNN batched backward pass\n",
    "qnn1.backward([input1, input1], weights1)"
   ]
  },
  {
   "cell_type": "markdown",
   "id": "completed-dressing",
   "metadata": {},
   "source": [
    "Combining multiple observables in a list allows to create more complex QNNs."
   ]
  },
  {
   "cell_type": "code",
   "execution_count": 11,
   "id": "academic-roads",
   "metadata": {},
   "outputs": [],
   "source": [
    "observable2 = SparsePauliOp.from_list([(\"Z\" * qc1.num_qubits, 1)])\n",
    "\n",
    "qnn2 = EstimatorQNN(\n",
    "    circuit=qc1,\n",
    "    observables=[observable1, observable2],\n",
    "    input_params=[params1[0]],\n",
    "    weight_params=[params1[1]],\n",
    ")"
   ]
  },
  {
   "cell_type": "code",
   "execution_count": 12,
   "id": "important-density",
   "metadata": {},
   "outputs": [
    {
     "data": {
      "text/plain": [
       "array([[ 0.2970094 , -0.63272767]])"
      ]
     },
     "execution_count": 12,
     "metadata": {},
     "output_type": "execute_result"
    }
   ],
   "source": [
    "# QNN forward pass\n",
    "qnn2.forward(input1, weights1)"
   ]
  },
  {
   "cell_type": "code",
   "execution_count": 13,
   "id": "informal-biology",
   "metadata": {},
   "outputs": [
    {
     "data": {
      "text/plain": [
       "(None,\n",
       " array([[[0.63272767],\n",
       "         [0.2970094 ]]]))"
      ]
     },
     "execution_count": 13,
     "metadata": {},
     "output_type": "execute_result"
    }
   ],
   "source": [
    "# QNN backward pass\n",
    "qnn2.backward(input1, weights1)"
   ]
  },
  {
   "cell_type": "markdown",
   "id": "according-watch",
   "metadata": {},
   "source": [
    "## 4. `SamplerQNN`\n",
    "\n",
    "The `SamplerQNN` is based on a (parametrized) `QuantumCircuit`.\n",
    "This can take input as well as weight parameters and produces samples from the measurement. The samples are interpreted as probabilities of measuring the integer index corresponding to a bitstring. Gradients can be estimated efficiently and the `SamplerQNN` provides a backward pass as well.\n",
    "\n",
    "Further, the `SamplerQNN` allows to specify an `interpret` function to post-process the samples. This is expected to take a measured integer (from a bitstring) and map it to a new index, i.e. non-negative integer. In this case, the output shape needs to be provided and the probabilities are aggregated accordingly.\n",
    "\n",
    "If no `interpret` function is used, the dimension of the probability vector scales exponentially with the number of qubits. In case of an `interpret` function it depends on the expected outcome. If, for instance, an index is mapped to the parity of the corresponding bitstring, i.e., to 0 or 1, a dense output makes sense and the result will be a probability vector of length 2."
   ]
  },
  {
   "cell_type": "code",
   "execution_count": 14,
   "id": "posted-shoot",
   "metadata": {},
   "outputs": [],
   "source": [
    "from qiskit.primitives import Sampler\n",
    "from qiskit_machine_learning.neural_networks import SamplerQNN"
   ]
  },
  {
   "cell_type": "code",
   "execution_count": 15,
   "id": "acceptable-standing",
   "metadata": {},
   "outputs": [
    {
     "data": {
      "image/png": "[encoded data removed]",
      "text/plain": [
       "<Figure size 267.052x144.48 with 1 Axes>"
      ]
     },
     "execution_count": 15,
     "metadata": {},
     "output_type": "execute_result"
    }
   ],
   "source": [
    "qc = RealAmplitudes(2, entanglement=\"linear\", reps=1)\n",
    "qc.draw(output=\"mpl\")"
   ]
  },
  {
   "cell_type": "markdown",
   "id": "olympic-coral",
   "metadata": {},
   "source": [
    "As in the previous example, we don't set the `sampler` parameter, the network will create an instance of the reference `Sampler` primitive for us."
   ]
  },
  {
   "cell_type": "code",
   "execution_count": 16,
   "id": "indoor-disorder",
   "metadata": {},
   "outputs": [],
   "source": [
    "# specify sampler-based QNN\n",
    "qnn4 = SamplerQNN(circuit=qc, input_params=[], weight_params=qc.parameters)"
   ]
  },
  {
   "cell_type": "code",
   "execution_count": 17,
   "id": "beneficial-summary",
   "metadata": {},
   "outputs": [],
   "source": [
    "# define (random) input and weights\n",
    "input4 = algorithm_globals.random.random(qnn4.num_inputs)\n",
    "weights4 = algorithm_globals.random.random(qnn4.num_weights)"
   ]
  },
  {
   "cell_type": "code",
   "execution_count": 18,
   "id": "jewish-elements",
   "metadata": {},
   "outputs": [
    {
     "data": {
      "text/plain": [
       "array([[0.37369597, 0.00083983, 0.42874976, 0.19671444]])"
      ]
     },
     "execution_count": 18,
     "metadata": {},
     "output_type": "execute_result"
    }
   ],
   "source": [
    "# QNN forward pass\n",
    "qnn4.forward(input4, weights4)"
   ]
  },
  {
   "cell_type": "code",
   "execution_count": 19,
   "id": "entitled-reaction",
   "metadata": {
    "scrolled": true
   },
   "outputs": [
    {
     "data": {
      "text/plain": [
       "(None,\n",
       " array([[[-0.16667913, -0.42400024,  0.0177156 , -0.40027747],\n",
       "         [ 0.00403062, -0.0110119 , -0.0177156 ,  0.0128533 ],\n",
       "         [-0.22984019,  0.39671924, -0.29041568,  0.40027747],\n",
       "         [ 0.3924887 ,  0.0382929 ,  0.29041568, -0.0128533 ]]]))"
      ]
     },
     "execution_count": 19,
     "metadata": {},
     "output_type": "execute_result"
    }
   ],
   "source": [
    "# QNN backward pass, returns a tuple of matrices, None for the gradients with respect to input data.\n",
    "qnn4.backward(input4, weights4)"
   ]
  },
  {
   "cell_type": "code",
   "execution_count": 20,
   "id": "appointed-shirt",
   "metadata": {},
   "outputs": [
    {
     "data": {
      "text/html": [
       "<h3>Version Information</h3><table><tr><th>Qiskit Software</th><th>Version</th></tr><tr><td><code>qiskit-terra</code></td><td>0.22.0</td></tr><tr><td><code>qiskit-aer</code></td><td>0.11.0</td></tr><tr><td><code>qiskit-ignis</code></td><td>0.7.0</td></tr><tr><td><code>qiskit</code></td><td>0.33.0</td></tr><tr><td><code>qiskit-machine-learning</code></td><td>0.5.0</td></tr><tr><th>System information</th></tr><tr><td>Python version</td><td>3.7.9</td></tr><tr><td>Python compiler</td><td>MSC v.1916 64 bit (AMD64)</td></tr><tr><td>Python build</td><td>default, Aug 31 2020 17:10:11</td></tr><tr><td>OS</td><td>Windows</td></tr><tr><td>CPUs</td><td>4</td></tr><tr><td>Memory (Gb)</td><td>31.837730407714844</td></tr><tr><td colspan='2'>Fri Oct 28 15:23:17 2022 GMT Daylight Time</td></tr></table>"
      ],
      "text/plain": [
       "<IPython.core.display.HTML object>"
      ]
     },
     "metadata": {},
     "output_type": "display_data"
    },
    {
     "data": {
      "text/html": [
       "<div style='width: 100%; background-color:#d5d9e0;padding-left: 10px; padding-bottom: 10px; padding-right: 10px; padding-top: 5px'><h3>This code is a part of Qiskit</h3><p>&copy; Copyright IBM 2017, 2022.</p><p>This code is licensed under the Apache License, Version 2.0. You may<br>obtain a copy of this license in the LICENSE.txt file in the root directory<br> of this source tree or at http://www.apache.org/licenses/LICENSE-2.0.<p>Any modifications or derivative works of this code must retain this<br>copyright notice, and modified files need to carry a notice indicating<br>that they have been altered from the originals.</p></div>"
      ],
      "text/plain": [
       "<IPython.core.display.HTML object>"
      ]
     },
     "metadata": {},
     "output_type": "display_data"
    }
   ],
   "source": [
    "import qiskit.tools.jupyter\n",
    "\n",
    "%qiskit_version_table\n",
    "%qiskit_copyright"
   ]
  }
 ],
 "metadata": {
  "kernelspec": {
   "display_name": "Python 3",
   "language": "python",
   "name": "python3"
  },
  "language_info": {
   "codemirror_mode": {
    "name": "ipython",
    "version": 3
   },
   "file_extension": ".py",
   "mimetype": "text/x-python",
   "name": "python",
   "nbconvert_exporter": "python",
   "pygments_lexer": "ipython3",
   "version": "3.7.9"
  }
 },
 "nbformat": 4,
 "nbformat_minor": 5
}
