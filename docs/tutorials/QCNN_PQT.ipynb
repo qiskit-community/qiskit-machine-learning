{
  "cells": [
    {
      "cell_type": "markdown",
      "id": "73cd6906",
      "metadata": {
        "id": "73cd6906"
      },
      "source": [
        "## QPP = Qiskit-Pennylane-Pytorch"
      ]
    },
    {
      "cell_type": "code",
      "source": [
        "# !pip install qiskit --quiet\n",
        "# !pip install qiskit-aer-gpu\n",
        "# !pip install pennylane -- quiet\n",
        "# !pip install pennylane-qiskit --quiet\n",
        "# !pip install pylatexenc"
      ],
      "metadata": {
        "colab": {
          "base_uri": "https://localhost:8080/"
        },
        "id": "8fnhX-i3MFcl",
        "outputId": "2a47d9e8-7af9-4e8f-af15-f22b42f693da"
      },
      "id": "8fnhX-i3MFcl",
      "execution_count": 1,
      "outputs": [
        {
          "output_type": "stream",
          "name": "stdout",
          "text": [
            "Looking in indexes: https://pypi.org/simple, https://us-python.pkg.dev/colab-wheels/public/simple/\n",
            "Requirement already satisfied: qiskit-aer-gpu in /usr/local/lib/python3.7/dist-packages (0.10.4)\n",
            "Requirement already satisfied: scipy>=1.0 in /usr/local/lib/python3.7/dist-packages (from qiskit-aer-gpu) (1.7.3)\n",
            "Requirement already satisfied: numpy>=1.16.3 in /usr/local/lib/python3.7/dist-packages (from qiskit-aer-gpu) (1.21.6)\n",
            "Requirement already satisfied: qiskit-terra>=0.19.1 in /usr/local/lib/python3.7/dist-packages (from qiskit-aer-gpu) (0.21.1)\n",
            "Requirement already satisfied: psutil>=5 in /usr/local/lib/python3.7/dist-packages (from qiskit-terra>=0.19.1->qiskit-aer-gpu) (5.4.8)\n",
            "Requirement already satisfied: stevedore>=3.0.0 in /usr/local/lib/python3.7/dist-packages (from qiskit-terra>=0.19.1->qiskit-aer-gpu) (3.5.0)\n",
            "Requirement already satisfied: shared-memory38 in /usr/local/lib/python3.7/dist-packages (from qiskit-terra>=0.19.1->qiskit-aer-gpu) (0.1.2)\n",
            "Requirement already satisfied: retworkx>=0.11.0 in /usr/local/lib/python3.7/dist-packages (from qiskit-terra>=0.19.1->qiskit-aer-gpu) (0.11.0)\n",
            "Requirement already satisfied: tweedledum<2.0,>=1.1 in /usr/local/lib/python3.7/dist-packages (from qiskit-terra>=0.19.1->qiskit-aer-gpu) (1.1.1)\n",
            "Requirement already satisfied: typing-extensions in /usr/local/lib/python3.7/dist-packages (from qiskit-terra>=0.19.1->qiskit-aer-gpu) (4.1.1)\n",
            "Requirement already satisfied: symengine>=0.9 in /usr/local/lib/python3.7/dist-packages (from qiskit-terra>=0.19.1->qiskit-aer-gpu) (0.9.2)\n",
            "Requirement already satisfied: dill>=0.3 in /usr/local/lib/python3.7/dist-packages (from qiskit-terra>=0.19.1->qiskit-aer-gpu) (0.3.5.1)\n",
            "Requirement already satisfied: python-dateutil>=2.8.0 in /usr/local/lib/python3.7/dist-packages (from qiskit-terra>=0.19.1->qiskit-aer-gpu) (2.8.2)\n",
            "Requirement already satisfied: sympy>=1.3 in /usr/local/lib/python3.7/dist-packages (from qiskit-terra>=0.19.1->qiskit-aer-gpu) (1.7.1)\n",
            "Requirement already satisfied: ply>=3.10 in /usr/local/lib/python3.7/dist-packages (from qiskit-terra>=0.19.1->qiskit-aer-gpu) (3.11)\n",
            "Requirement already satisfied: six>=1.5 in /usr/local/lib/python3.7/dist-packages (from python-dateutil>=2.8.0->qiskit-terra>=0.19.1->qiskit-aer-gpu) (1.15.0)\n",
            "Requirement already satisfied: pbr!=2.1.0,>=2.0.0 in /usr/local/lib/python3.7/dist-packages (from stevedore>=3.0.0->qiskit-terra>=0.19.1->qiskit-aer-gpu) (5.9.0)\n",
            "Requirement already satisfied: importlib-metadata>=1.7.0 in /usr/local/lib/python3.7/dist-packages (from stevedore>=3.0.0->qiskit-terra>=0.19.1->qiskit-aer-gpu) (4.12.0)\n",
            "Requirement already satisfied: zipp>=0.5 in /usr/local/lib/python3.7/dist-packages (from importlib-metadata>=1.7.0->stevedore>=3.0.0->qiskit-terra>=0.19.1->qiskit-aer-gpu) (3.8.1)\n",
            "Requirement already satisfied: mpmath>=0.19 in /usr/local/lib/python3.7/dist-packages (from sympy>=1.3->qiskit-terra>=0.19.1->qiskit-aer-gpu) (1.2.1)\n",
            "Looking in indexes: https://pypi.org/simple, https://us-python.pkg.dev/colab-wheels/public/simple/\n",
            "Requirement already satisfied: pennylane in /usr/local/lib/python3.7/dist-packages (0.24.0)\n",
            "\u001b[31mERROR: Could not find a version that satisfies the requirement quiet (from versions: none)\u001b[0m\n",
            "\u001b[31mERROR: No matching distribution found for quiet\u001b[0m\n",
            "Looking in indexes: https://pypi.org/simple, https://us-python.pkg.dev/colab-wheels/public/simple/\n",
            "Requirement already satisfied: pylatexenc in /usr/local/lib/python3.7/dist-packages (2.10)\n"
          ]
        }
      ]
    },
    {
      "cell_type": "code",
      "execution_count": 2,
      "id": "cd41f624",
      "metadata": {
        "ExecuteTime": {
          "end_time": "2022-07-30T17:35:40.180608Z",
          "start_time": "2022-07-30T17:35:40.174010Z"
        },
        "id": "cd41f624"
      },
      "outputs": [],
      "source": [
        "import numpy as np\n",
        "import matplotlib.pyplot as plt\n",
        "\n",
        "import pennylane as qml\n",
        "\n",
        "import torch\n",
        "from torch.utils.data import DataLoader\n",
        "from torch.nn import Module, Linear, Softmax\n",
        "from torchvision import datasets, transforms\n",
        "from torch import cat, no_grad, manual_seed\n",
        "from torch import optim\n",
        "from torch.nn import NLLLoss\n",
        "from torch.autograd import Variable\n",
        "\n",
        "from qiskit.circuit import Parameter\n",
        "from qiskit import QuantumCircuit"
      ]
    },
    {
      "cell_type": "markdown",
      "id": "54bc283d",
      "metadata": {
        "id": "54bc283d"
      },
      "source": [
        "## Dataset"
      ]
    },
    {
      "cell_type": "code",
      "execution_count": 16,
      "id": "afad1063",
      "metadata": {
        "ExecuteTime": {
          "end_time": "2022-07-30T17:35:15.725427Z",
          "start_time": "2022-07-30T17:35:15.618552Z"
        },
        "id": "afad1063"
      },
      "outputs": [],
      "source": [
        "# Train Dataset\n",
        "# -------------\n",
        "\n",
        "# Set train shuffle seed (for reproducibility)\n",
        "manual_seed(42)\n",
        "\n",
        "batch_size = 16\n",
        "n_samples = 200  # We will concentrate on the first 200 samples\n",
        "\n",
        "# Use pre-defined torchvision function to load MNIST train data\n",
        "X_train = datasets.MNIST(\n",
        "    root=\"./data\", train=True, download=True, transform=transforms.Compose([transforms.ToTensor(),\n",
        "                                                                            transforms.CenterCrop((20,20)),\n",
        "                                                                            transforms.Resize((8,8)),\n",
        "                                                                            transforms.Normalize((0.1307,), (0.3081,))])\n",
        ")\n",
        "\n",
        "# Filter out labels (originally 0-9), leaving only labels 0 and 1\n",
        "idx = np.append(\n",
        "    np.where(X_train.targets == 0)[0][:n_samples], np.where(X_train.targets == 1)[0][:n_samples]\n",
        ")\n",
        "\n",
        "\n",
        "X_train.data = X_train.data[idx]\n",
        "X_train.targets = X_train.targets[idx]\n",
        "\n",
        "# Define torch dataloader with filtered data\n",
        "train_loader = DataLoader(X_train, batch_size=batch_size, shuffle=True)"
      ]
    },
    {
      "cell_type": "code",
      "execution_count": 17,
      "id": "81b7bee9",
      "metadata": {
        "ExecuteTime": {
          "end_time": "2022-07-30T17:35:16.639113Z",
          "start_time": "2022-07-30T17:35:16.193785Z"
        },
        "colab": {
          "base_uri": "https://localhost:8080/",
          "height": 130
        },
        "id": "81b7bee9",
        "outputId": "c4aa554b-11b6-4373-c3ae-b0007e2b4547"
      },
      "outputs": [
        {
          "output_type": "display_data",
          "data": {
            "text/plain": [
              "<Figure size 720x216 with 6 Axes>"
            ],
            "image/png": "[encoded data removed]"
          },
          "metadata": {}
        }
      ],
      "source": [
        "n_samples_show = 6\n",
        "\n",
        "data_iter = iter(train_loader)\n",
        "fig, axes = plt.subplots(nrows=1, ncols=n_samples_show, figsize=(10, 3))\n",
        "\n",
        "while n_samples_show > 0:\n",
        "    images, targets = data_iter.__next__()\n",
        "\n",
        "    axes[n_samples_show - 1].imshow(images[0, 0].numpy().squeeze(), cmap=\"gray\")\n",
        "    axes[n_samples_show - 1].set_xticks([])\n",
        "    axes[n_samples_show - 1].set_yticks([])\n",
        "    axes[n_samples_show - 1].set_title(\"Labeled: {}\".format(targets[0].item()))\n",
        "\n",
        "    n_samples_show -= 1"
      ]
    },
    {
      "cell_type": "code",
      "execution_count": 19,
      "id": "73d97667",
      "metadata": {
        "ExecuteTime": {
          "end_time": "2022-07-30T17:35:17.431481Z",
          "start_time": "2022-07-30T17:35:17.368024Z"
        },
        "id": "73d97667"
      },
      "outputs": [],
      "source": [
        "# Test Dataset\n",
        "# -------------\n",
        "\n",
        "# Set test shuffle seed (for reproducibility)\n",
        "# manual_seed(5)\n",
        "\n",
        "n_samples = 100\n",
        "\n",
        "# Use pre-defined torchvision function to load MNIST test data\n",
        "X_test = datasets.MNIST(\n",
        "    root=\"./data\", train=False, download=True, transform=transforms.Compose([transforms.ToTensor(),\n",
        "                                                                             transforms.CenterCrop((20,20)),\n",
        "                                                                             transforms.Resize((8,8)),\n",
        "                                                                             transforms.Normalize((0.1307,), (0.3081,))])\n",
        ")\n",
        "\n",
        "# Filter out labels (originally 0-9), leaving only labels 0 and 1\n",
        "idx = np.append(\n",
        "    np.where(X_test.targets == 0)[0][:n_samples], np.where(X_test.targets == 1)[0][:n_samples]\n",
        ")\n",
        "X_test.data = X_test.data[idx]\n",
        "X_test.targets = X_test.targets[idx]\n",
        "\n",
        "# Define torch dataloader with filtered data\n",
        "test_loader = DataLoader(X_test, batch_size=batch_size, shuffle=True)"
      ]
    },
    {
      "cell_type": "markdown",
      "id": "9aa26cbd",
      "metadata": {
        "id": "9aa26cbd"
      },
      "source": [
        "## Defining QNode"
      ]
    },
    {
      "cell_type": "code",
      "execution_count": 30,
      "id": "2c2c136c",
      "metadata": {
        "ExecuteTime": {
          "end_time": "2022-07-30T17:35:21.733096Z",
          "start_time": "2022-07-30T17:35:21.682705Z"
        },
        "id": "2c2c136c"
      },
      "outputs": [],
      "source": [
        "class QConv2D(qml.qnn.TorchLayer):\n",
        "    def __init__(self, kernel_size=(3,3), strides=(2,2), n_qubits = 1, n_layers = 1):\n",
        "        \n",
        "        n_inputs = np.prod(kernel_size)\n",
        "        self.kernel_size = kernel_size\n",
        "        self.strides = strides\n",
        "        self.n_qubits = n_qubits\n",
        "        self.n_layers = n_layers\n",
        "        \n",
        "        self.all_qubits = [i for i in range(n_qubits)]\n",
        "        \n",
        "        self.theta = [Parameter(f'θ{i}') for i in range(n_layers*n_qubits)]\n",
        "        self.theta = np.asarray(self.theta).reshape((n_layers, n_qubits))\n",
        "        \n",
        "        self.circuit = self.create_circuit()\n",
        "        self.qml_circuit = qml.load(self.circuit, format='qiskit')\n",
        "        \n",
        "        # randomly initialize parameters from a normal distribution\n",
        "        w = np.random.normal(0, np.pi, (n_layers, n_qubits, n_inputs))\n",
        "        w = Variable(torch.tensor(w), requires_grad=True)\n",
        "        b = Variable(torch.randn(1), requires_grad=True)\n",
        "        \n",
        "        self.weight_shapes = {\n",
        "            'w': (n_layers, n_qubits, n_inputs),\n",
        "            'b': (1,)\n",
        "        }\n",
        "        \n",
        "        self.dev = qml.device('qiskit.aer',\n",
        "                              backend_options = {\"method\": \"statevector_gpu\"},\n",
        "                              wires=n_qubits)\n",
        "        if torch.cuda.is_available():\n",
        "            self.dev.backend.set_options(device='GPU')\n",
        "            \n",
        "        self.qnode = self.build()\n",
        "        \n",
        "        super(QConv2D, self).__init__(self.qnode, self.weight_shapes)\n",
        "    \n",
        "    def create_circuit(self):\n",
        "        circuit = QuantumCircuit(self.n_qubits)\n",
        "        circuit.h(self.all_qubits)\n",
        "        \n",
        "        for l in range(self.n_layers):\n",
        "            for q in self.all_qubits:\n",
        "                circuit.ry(self.theta[l][q], q)\n",
        "            if (l & 1):\n",
        "                for q0, q1 in zip(self.all_qubits[1::2], self.all_qubits[2::2] + [self.all_qubits[0]]):\n",
        "                    circuit.cz(q0,q1)\n",
        "            else:\n",
        "                for q0, q1 in zip(self.all_qubits[0::2], self.all_qubits[1::2]):                 \n",
        "                    circuit.cz(q0,q1)\n",
        "        return circuit\n",
        "    \n",
        "    def build(self): \n",
        "        @qml.qnode(self.dev)\n",
        "        def qnode(inputs,w,b):\n",
        "            params = {}\n",
        "            for l in range(self.n_layers):\n",
        "                for q in self.all_qubits:\n",
        "                    params[self.theta[l][q]] = (np.pi/2)*torch.tanh(torch.dot(w[l, q], inputs) + b).item()\n",
        "            self.qml_circuit(params = params )\n",
        "            Z = qml.expval(qml.PauliZ(wires=self.n_qubits-1))\n",
        "            return Z\n",
        "        return qnode\n",
        "    \n",
        "    def forward(self, inputs):\n",
        "        \n",
        "        k = self.kernel_size\n",
        "        s = self.strides\n",
        "        \n",
        "        iter_x = int((inputs.shape[2] - k[0]) / s[0] + 1)\n",
        "        iter_y = int((inputs.shape[3] - k[1]) / s[1] + 1)\n",
        "        \n",
        "        out = []\n",
        "        for i in range(iter_x):\n",
        "            for j in range(iter_y):\n",
        "                _x = inputs[:,0, i*s[0]:i*s[0] + k[0], j*s[1]:j*s[1] + k[1]]\n",
        "                _x = _x.flatten(start_dim = 1)\n",
        "                out+= [torch.stack([self._evaluate_qnode(e) for e in torch.unbind(_x)]).reshape(-1,1)]\n",
        "        out = torch.cat(out,-1)\n",
        "        out = torch.reshape(out,(-1,1, iter_x,iter_y))\n",
        "        return torch.tanh(out)"
      ]
    },
    {
      "cell_type": "code",
      "execution_count": 36,
      "id": "4d74db48",
      "metadata": {
        "ExecuteTime": {
          "end_time": "2022-07-30T17:35:22.412234Z",
          "start_time": "2022-07-30T17:35:22.347622Z"
        },
        "id": "4d74db48"
      },
      "outputs": [],
      "source": [
        "class HybridModel(Module):\n",
        "    def __init__(self):\n",
        "        super().__init__()\n",
        "        self.qlayer_1 = QConv2D(n_qubits = 1, n_layers = 1)\n",
        "        self.clayer_1 = Linear(9,2)\n",
        "        self.softmax = Softmax(dim=1)\n",
        "\n",
        "    def forward(self, x):\n",
        "        x = self.qlayer_1(x)\n",
        "        x = x.flatten(start_dim = 1)\n",
        "        x = self.clayer_1(x)\n",
        "        return self.softmax(x)\n",
        "    \n",
        "model = HybridModel()"
      ]
    },
    {
      "cell_type": "code",
      "execution_count": 37,
      "id": "35ca95d5",
      "metadata": {
        "ExecuteTime": {
          "end_time": "2022-07-30T17:30:12.868620Z",
          "start_time": "2022-07-30T17:30:12.702199Z"
        },
        "colab": {
          "base_uri": "https://localhost:8080/",
          "height": 95
        },
        "id": "35ca95d5",
        "outputId": "41ca99a7-b088-49aa-ca6e-837a35bf27d8"
      },
      "outputs": [
        {
          "output_type": "execute_result",
          "data": {
            "text/plain": [
              "<Figure size 193.726x84.28 with 1 Axes>"
            ],
            "image/png": "[encoded data removed]"
          },
          "metadata": {},
          "execution_count": 37
        }
      ],
      "source": [
        "model.qlayer_1.circuit.draw('mpl')"
      ]
    },
    {
      "cell_type": "code",
      "execution_count": 38,
      "id": "8d990fe0",
      "metadata": {
        "ExecuteTime": {
          "end_time": "2022-07-30T17:30:13.805243Z",
          "start_time": "2022-07-30T17:30:13.785160Z"
        },
        "id": "8d990fe0"
      },
      "outputs": [],
      "source": [
        "def accuracy(outputs, labels):\n",
        "    _, preds = torch.max(outputs, dim=1)\n",
        "    return torch.tensor(torch.sum(preds == labels).item() / len(preds))"
      ]
    },
    {
      "cell_type": "code",
      "execution_count": 39,
      "id": "be03715c",
      "metadata": {
        "ExecuteTime": {
          "end_time": "2022-07-30T17:34:06.743260Z",
          "start_time": "2022-07-30T17:30:14.316211Z"
        },
        "scrolled": true,
        "colab": {
          "base_uri": "https://localhost:8080/"
        },
        "id": "be03715c",
        "outputId": "1df755c4-0f8c-4af1-8924-038db2226e8a"
      },
      "outputs": [
        {
          "output_type": "stream",
          "name": "stdout",
          "text": [
            "{'loss': -0.3997531533241272, 'acc': tensor(0.4375)}\n",
            "{'loss': -0.4852990508079529, 'acc': tensor(0.3750)}\n",
            "{'loss': -0.5999323725700378, 'acc': tensor(0.6875)}\n",
            "{'loss': -0.721316933631897, 'acc': tensor(0.9375)}\n",
            "{'loss': -0.7367699146270752, 'acc': tensor(0.8125)}\n",
            "{'loss': -0.7665353417396545, 'acc': tensor(1.)}\n",
            "{'loss': -0.8522909283638, 'acc': tensor(1.)}\n",
            "{'loss': -0.8607282042503357, 'acc': tensor(0.9375)}\n",
            "{'loss': -0.8852349519729614, 'acc': tensor(1.)}\n",
            "{'loss': -0.950310468673706, 'acc': tensor(1.)}\n",
            "{'loss': -0.8766478896141052, 'acc': tensor(0.9375)}\n",
            "{'loss': -0.9337556958198547, 'acc': tensor(1.)}\n",
            "{'loss': -0.922806978225708, 'acc': tensor(1.)}\n",
            "{'loss': -0.9642837643623352, 'acc': tensor(1.)}\n",
            "{'loss': -0.957683801651001, 'acc': tensor(1.)}\n",
            "{'loss': -0.9779688715934753, 'acc': tensor(1.)}\n",
            "{'loss': -0.9597042202949524, 'acc': tensor(1.)}\n",
            "{'loss': -0.9706735014915466, 'acc': tensor(1.)}\n",
            "{'loss': -0.9732000827789307, 'acc': tensor(1.)}\n",
            "{'loss': -0.9493803381919861, 'acc': tensor(1.)}\n",
            "{'loss': -0.9657747745513916, 'acc': tensor(1.)}\n",
            "{'loss': -0.9221474528312683, 'acc': tensor(0.9375)}\n",
            "{'loss': -0.9866384267807007, 'acc': tensor(1.)}\n",
            "{'loss': -0.9881879091262817, 'acc': tensor(1.)}\n",
            "{'loss': -0.9147035479545593, 'acc': tensor(0.9375)}\n",
            "Training [100%]\tLoss: {'loss': -0.9147035479545593, 'acc': tensor(0.9375)}\n"
          ]
        }
      ],
      "source": [
        "# Define model, optimizer, and loss function\n",
        "optimizer = optim.Adam(model.parameters(), lr=0.1)\n",
        "loss_func = NLLLoss()\n",
        "\n",
        "# Start training\n",
        "epochs = 1  # Set number of epochs\n",
        "history = []  # Store history\n",
        "model.train()  # Set model to training mode\n",
        "\n",
        "for epoch in range(epochs):\n",
        "    for batch_idx, (data, target) in enumerate(train_loader):\n",
        "        optimizer.zero_grad(set_to_none=True)  # Initialize gradient\n",
        "        output = model(data)  # Forward pass\n",
        "        acc = accuracy(output, target)\n",
        "        loss = loss_func(output, target)  # Calculate loss\n",
        "        history.append({'loss':loss.item(), 'acc':acc}) # Store training loss and acc\n",
        "        loss.backward()  # Backward pass\n",
        "        optimizer.step()  # Optimize weights \n",
        "        print(history[-1])\n",
        "    print(\"Training [{:.0f}%]\\tLoss: {}\".format(100.0 * (epoch + 1) / epochs, history[-1]))"
      ]
    },
    {
      "cell_type": "code",
      "execution_count": 40,
      "id": "dbba0ff4",
      "metadata": {
        "ExecuteTime": {
          "end_time": "2022-07-30T17:29:30.499154Z",
          "start_time": "2022-07-30T17:29:30.270915Z"
        },
        "colab": {
          "base_uri": "https://localhost:8080/",
          "height": 295
        },
        "id": "dbba0ff4",
        "outputId": "a24df4d6-5240-4c32-d96a-631480043f16"
      },
      "outputs": [
        {
          "output_type": "display_data",
          "data": {
            "text/plain": [
              "<Figure size 432x288 with 1 Axes>"
            ],
            "image/png": "[encoded data removed]"
          },
          "metadata": {
            "needs_background": "light"
          }
        }
      ],
      "source": [
        "# Plot loss convergence\n",
        "loss_list = [x['loss'] for x in history]\n",
        "plt.plot(loss_list)\n",
        "plt.title(\"Hybrid NN Training Loss Convergence\")\n",
        "plt.xlabel(\"Training Iterations\")\n",
        "plt.ylabel(\"Neg. Log Likelihood Loss\")\n",
        "plt.show()"
      ]
    },
    {
      "cell_type": "code",
      "execution_count": 41,
      "id": "5a4cea3f",
      "metadata": {
        "ExecuteTime": {
          "end_time": "2022-07-30T17:29:30.731814Z",
          "start_time": "2022-07-30T17:29:30.507282Z"
        },
        "colab": {
          "base_uri": "https://localhost:8080/",
          "height": 295
        },
        "id": "5a4cea3f",
        "outputId": "9b855498-301b-4118-b3b0-50c907611637"
      },
      "outputs": [
        {
          "output_type": "display_data",
          "data": {
            "text/plain": [
              "<Figure size 432x288 with 1 Axes>"
            ],
            "image/png": "[encoded data removed]"
          },
          "metadata": {
            "needs_background": "light"
          }
        }
      ],
      "source": [
        "acc_list = [x['acc'] for x in history]\n",
        "plt.plot(acc_list)\n",
        "plt.title(\"Hybrid NN Training Acc\")\n",
        "plt.xlabel(\"Training Iterations\")\n",
        "plt.ylabel(\"Acc\")\n",
        "plt.show()"
      ]
    },
    {
      "cell_type": "code",
      "execution_count": 42,
      "id": "c3d87ea2",
      "metadata": {
        "colab": {
          "base_uri": "https://localhost:8080/"
        },
        "id": "c3d87ea2",
        "outputId": "1e5f15eb-0d43-4f1f-98b0-d9c1e434b8c1"
      },
      "outputs": [
        {
          "output_type": "stream",
          "name": "stdout",
          "text": [
            "Performance on test data:\n",
            "\tAccuracy: 95.2%\n"
          ]
        }
      ],
      "source": [
        "model.eval()  # set model to evaluation mode\n",
        "with no_grad():\n",
        "    correct = 0\n",
        "    for batch_idx, (data, target) in enumerate(test_loader):\n",
        "        output = model(data)\n",
        "        _, preds = torch.max(output, dim=1)\n",
        "        correct += torch.sum(preds == target).item()\n",
        "    print(\n",
        "        \"Performance on test data:\\n\\tAccuracy: {:.1f}%\".format(\n",
        "            correct / len(test_loader) / batch_size * 100\n",
        "        )\n",
        "    )"
      ]
    },
    {
      "cell_type": "code",
      "source": [
        "n_samples_show = 6\n",
        "count = 0\n",
        "fig, axes = plt.subplots(nrows=1, ncols=n_samples_show, figsize=(10, 3))\n",
        "\n",
        "model.eval()\n",
        "with no_grad():\n",
        "    for batch_idx, (data, target) in enumerate(test_loader):\n",
        "        if count == n_samples_show:\n",
        "            break\n",
        "        output = model(data[0:1])\n",
        "        if len(output.shape) == 1:\n",
        "            output = output.reshape(1, *output.shape)\n",
        "\n",
        "        pred = output.argmax(dim=1, keepdim=True)\n",
        "\n",
        "        axes[count].imshow(data[0].numpy().squeeze(), cmap=\"gray\")\n",
        "\n",
        "        axes[count].set_xticks([])\n",
        "        axes[count].set_yticks([])\n",
        "        axes[count].set_title(\"Predicted {}\".format(pred.item()))\n",
        "\n",
        "        count += 1"
      ],
      "metadata": {
        "colab": {
          "base_uri": "https://localhost:8080/",
          "height": 130
        },
        "id": "Qd8IysOpQjI2",
        "outputId": "311ca48a-8498-4f89-a30a-b65d801cbc27"
      },
      "id": "Qd8IysOpQjI2",
      "execution_count": 44,
      "outputs": [
        {
          "output_type": "display_data",
          "data": {
            "text/plain": [
              "<Figure size 720x216 with 6 Axes>"
            ],
            "image/png": "[encoded data removed]"
          },
          "metadata": {}
        }
      ]
    },
    {
      "cell_type": "code",
      "source": [
        ""
      ],
      "metadata": {
        "id": "xbYW5Dr1Sb3W"
      },
      "id": "xbYW5Dr1Sb3W",
      "execution_count": null,
      "outputs": []
    }
  ],
  "metadata": {
    "kernelspec": {
      "display_name": "Python 3",
      "name": "python3"
    },
    "language_info": {
      "name": "python"
    },
    "latex_envs": {
      "LaTeX_envs_menu_present": true,
      "autoclose": false,
      "autocomplete": true,
      "bibliofile": "biblio.bib",
      "cite_by": "apalike",
      "current_citInitial": 1,
      "eqLabelWithNumbers": true,
      "eqNumInitial": 1,
      "hotkeys": {
        "equation": "Ctrl-E",
        "itemize": "Ctrl-I"
      },
      "labels_anchors": false,
      "latex_user_defs": false,
      "report_style_numbering": false,
      "user_envs_cfg": false
    },
    "toc": {
      "base_numbering": 1,
      "nav_menu": {},
      "number_sections": true,
      "sideBar": true,
      "skip_h1_title": false,
      "title_cell": "Table of Contents",
      "title_sidebar": "Contents",
      "toc_cell": false,
      "toc_position": {},
      "toc_section_display": true,
      "toc_window_display": false
    },
    "colab": {
      "name": "QCNN-PQT.ipynb",
      "provenance": [],
      "collapsed_sections": []
    },
    "accelerator": "GPU",
    "gpuClass": "standard"
  },
  "nbformat": 4,
  "nbformat_minor": 5
}