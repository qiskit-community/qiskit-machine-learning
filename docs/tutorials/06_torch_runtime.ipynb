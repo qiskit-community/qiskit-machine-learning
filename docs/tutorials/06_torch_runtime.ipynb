{
 "cells": [
  {
   "cell_type": "markdown",
   "metadata": {},
   "source": [
    "# Torch Runtime\n",
    "\n",
    "In this tutorial, we introduce Torch Runtime, and show how to use it via the `TorchRuntimeClient` class in Qiskit Machine Learning.\n",
    "Torch Runtime leverages Qiskit Runtime for \n",
    "hybrid quantum-classical machine learning based on a PyTorch `Module`. It allows training models or predicting the outputs with trained models significantly faster. We show how to use Torch Runtime with two simple examples for regression and classification tasks in the following."
   ]
  },
  {
   "cell_type": "markdown",
   "metadata": {},
   "source": [
    "## 1. Regression\n",
    "\n",
    "First, we show how to use Torch Runtime via `TorchRuntimeClient` using the simple regression example. In the example, we will perform \n",
    "a regression task on a randomly generated dataset following a sine wave."
   ]
  },
  {
   "cell_type": "code",
   "execution_count": 1,
   "metadata": {},
   "outputs": [],
   "source": [
    "import numpy as np\n",
    "import matplotlib.pyplot as plt\n",
    "\n",
    "from torch import Tensor, manual_seed, is_tensor\n",
    "from torch.nn import Linear, CrossEntropyLoss, MSELoss\n",
    "from torch.optim import LBFGS, Adam\n",
    "from torch.utils.data import Dataset, DataLoader\n",
    "\n",
    "from qiskit import Aer, QuantumCircuit\n",
    "from qiskit.utils import QuantumInstance, algorithm_globals\n",
    "from qiskit.opflow import AerPauliExpectation\n",
    "from qiskit.circuit import Parameter\n",
    "from qiskit.circuit.library import RealAmplitudes, ZZFeatureMap\n",
    "from qiskit_machine_learning.neural_networks import CircuitQNN, TwoLayerQNN\n",
    "from qiskit_machine_learning.connectors import TorchConnector\n",
    "from qiskit_machine_learning.runtime import TorchRuntimeClient, TorchRuntimeResult\n",
    "\n",
    "\n",
    "# Set seed for random generators\n",
    "seed = 42\n",
    "manual_seed(seed)\n",
    "algorithm_globals.random_seed = seed"
   ]
  },
  {
   "cell_type": "code",
   "execution_count": 2,
   "metadata": {
    "tags": [
     "nbsphinx-thumbnail"
    ]
   },
   "outputs": [
    {
     "data": {
      "image/png": "[encoded data removed]",
      "text/plain": [
       "<Figure size 432x288 with 1 Axes>"
      ]
     },
     "metadata": {
      "needs_background": "light"
     },
     "output_type": "display_data"
    }
   ],
   "source": [
    "# Generate random dataset for the training\n",
    "import matplotlib.pyplot as plt\n",
    "\n",
    "np.random.seed(0)\n",
    "num_samples = 20\n",
    "eps = 0.2\n",
    "lb, ub = -np.pi, np.pi\n",
    "f = lambda x: np.sin(x)\n",
    "X = (ub - lb) * np.random.rand(num_samples, 1) + lb\n",
    "y = f(X) + eps * (2 * np.random.rand(num_samples, 1) - 1)\n",
    "\n",
    "plt.figure()\n",
    "plt.plot(np.linspace(lb, ub), f(np.linspace(lb, ub)), \"r--\")\n",
    "plt.plot(X, y, \"bo\")\n",
    "plt.show()"
   ]
  },
  {
   "cell_type": "markdown",
   "metadata": {},
   "source": [
    "`TorchRuntimeClient` requires a PyTorch `DataLoader` as an input for training/predicting. For that purpose, we create a custom torch dataset class."
   ]
  },
  {
   "cell_type": "code",
   "execution_count": 3,
   "metadata": {},
   "outputs": [],
   "source": [
    "# Create custom torch dataset class\n",
    "class TorchDataset(Dataset):\n",
    "    \"\"\"Map-style dataset\"\"\"\n",
    "\n",
    "    def __init__(self, X, y):\n",
    "        self.X = Tensor(X).float()\n",
    "        self.y = Tensor(y).float()\n",
    "\n",
    "    def __len__(self):\n",
    "        return len(self.X)\n",
    "\n",
    "    def __getitem__(self, idx):\n",
    "        import torch\n",
    "\n",
    "        if torch.is_tensor(idx):\n",
    "            idx = idx.tolist()\n",
    "\n",
    "        X_i = self.X[idx]\n",
    "        y_i = self.y[idx]\n",
    "\n",
    "        # important: the dataset item must be returned as data,target\n",
    "        return X_i, y_i\n",
    "\n",
    "\n",
    "# Create a train loader\n",
    "train_set = TorchDataset(X, y)\n",
    "train_loader1 = DataLoader(train_set, batch_size=1, shuffle=False)"
   ]
  },
  {
   "cell_type": "markdown",
   "metadata": {},
   "source": [
    "Create an instance of `TorchConnector` to wrap a QNN model and be able to use pytorch to train the model, then set up an optimizer and a loss function as usual."
   ]
  },
  {
   "cell_type": "code",
   "execution_count": 4,
   "metadata": {},
   "outputs": [
    {
     "name": "stdout",
     "output_type": "stream",
     "text": [
      "ComposedOp([\n",
      "  OperatorMeasurement(1.0 * Z),\n",
      "  CircuitStateFn(\n",
      "     ┌───────┐┌───────┐\n",
      "  q: ┤ fm(x) ├┤ vf(y) ├\n",
      "     └───────┘└───────┘\n",
      "  )\n",
      "])\n"
     ]
    }
   ],
   "source": [
    "from qiskit.circuit import Parameter\n",
    "\n",
    "# Construct simple feature map\n",
    "param_x = Parameter(\"x\")\n",
    "feature_map = QuantumCircuit(1, name=\"fm\")\n",
    "feature_map.ry(param_x, 0)\n",
    "\n",
    "# Construct simple feature map\n",
    "param_y = Parameter(\"y\")\n",
    "ansatz = QuantumCircuit(1, name=\"vf\")\n",
    "ansatz.ry(param_y, 0)\n",
    "\n",
    "# Construct QNN\n",
    "qnn1 = TwoLayerQNN(1, feature_map, ansatz)\n",
    "print(qnn1.operator)\n",
    "\n",
    "\n",
    "initial_weights = 0.1 * (2 * algorithm_globals.random.random(qnn1.num_weights) - 1)\n",
    "model1 = TorchConnector(qnn1, initial_weights)\n",
    "\n",
    "# Define optimizer and loss function\n",
    "optimizer1 = Adam(model1.parameters(), lr=0.1)\n",
    "loss_func1 = MSELoss(reduction=\"sum\")"
   ]
  },
  {
   "cell_type": "markdown",
   "metadata": {},
   "source": [
    "Load a provider and specify a backend for the runtime service. "
   ]
  },
  {
   "cell_type": "code",
   "execution_count": 5,
   "metadata": {},
   "outputs": [],
   "source": [
    "# Set up a provider and backend\n",
    "from qiskit import IBMQ\n",
    "\n",
    "IBMQ.load_account()\n",
    "\n",
    "provider = IBMQ.get_provider(project=\"default\")  # replace by your runtime provider\n",
    "backend = provider.get_backend(\"ibmq_qasm_simulator\")  # select a backend that supports the runtime"
   ]
  },
  {
   "cell_type": "markdown",
   "metadata": {},
   "source": [
    "Create a Torch Runtime Client instance with the model, the optimizer, and other configurations."
   ]
  },
  {
   "cell_type": "code",
   "execution_count": 6,
   "metadata": {},
   "outputs": [],
   "source": [
    "torch_runtime_client = TorchRuntimeClient(\n",
    "    provider=provider,\n",
    "    model=model1,\n",
    "    optimizer=optimizer1,\n",
    "    loss_func=loss_func1,\n",
    "    epochs=5,\n",
    "    backend=backend,\n",
    ")"
   ]
  },
  {
   "cell_type": "markdown",
   "metadata": {},
   "source": [
    "### Call `fit()` to train the model\n",
    "Call the `fit` method in `TorchRuntimeClient` with the data loader to train the model."
   ]
  },
  {
   "cell_type": "code",
   "execution_count": 7,
   "metadata": {},
   "outputs": [],
   "source": [
    "fit_result = torch_runtime_client.fit(train_loader=train_loader1)"
   ]
  },
  {
   "cell_type": "markdown",
   "metadata": {},
   "source": [
    "You can access training result information by querying properties of the `fit_result` variable, that is an instance of the `TorchRuntimeResult` class. Also, model's parameters in `TorchRuntimeClient` are updated with trained ones. "
   ]
  },
  {
   "cell_type": "code",
   "execution_count": 8,
   "metadata": {},
   "outputs": [
    {
     "name": "stdout",
     "output_type": "stream",
     "text": [
      "id:  c6sqc05a2crk6k574olg\n",
      "execution time:  10.647154569625854\n",
      "model_state_dict:  OrderedDict([('weight', tensor([-1.5758])), ('_weights', tensor([-1.5758]))])\n"
     ]
    }
   ],
   "source": [
    "print(\"id: \", fit_result.job_id)\n",
    "print(\"execution time: \", fit_result.execution_time)\n",
    "print(\"model_state_dict: \", torch_runtime_client.model.state_dict())"
   ]
  },
  {
   "cell_type": "markdown",
   "metadata": {},
   "source": [
    "You can also query the `train_history` property, which is a list of dictionaries, each per epoch. In a dictionary you can find properties like: \n",
    "- `epoch`, epoch index\n",
    "- `loss`, loss value at this epoch\n",
    "- `forward_time`, time spent in the forward pass, in seconds\n",
    "- `backward_time`, time spent in the backward pass, in seconds\n",
    "- `epoch_time`, epoch time, in seconds.\""
   ]
  },
  {
   "cell_type": "markdown",
   "metadata": {},
   "source": [
    "#### Training with validation\n",
    "Torch Runtime can also perform validation while training a model by passing a validation data loader to the `fit` method."
   ]
  },
  {
   "cell_type": "code",
   "execution_count": 9,
   "metadata": {},
   "outputs": [],
   "source": [
    "# Create a validation dataloader\n",
    "X_test = [[x] for x in np.linspace(lb, ub)]\n",
    "y_test = [[y] for y in f(np.linspace(lb, ub))]\n",
    "test_set = TorchDataset(X_test, y_test)\n",
    "test_loader = DataLoader(test_set, batch_size=1, shuffle=False)"
   ]
  },
  {
   "cell_type": "code",
   "execution_count": 10,
   "metadata": {},
   "outputs": [],
   "source": [
    "torch_runtime_client = TorchRuntimeClient(\n",
    "    provider=provider,\n",
    "    model=model1,\n",
    "    optimizer=optimizer1,\n",
    "    loss_func=loss_func1,\n",
    "    epochs=5,\n",
    "    backend=backend,\n",
    ")"
   ]
  },
  {
   "cell_type": "code",
   "execution_count": 11,
   "metadata": {},
   "outputs": [],
   "source": [
    "# Pass a train data loader and a validation data loader\n",
    "fit_result = torch_runtime_client.fit(train_loader=train_loader1, val_loader=test_loader)"
   ]
  },
  {
   "cell_type": "code",
   "execution_count": 12,
   "metadata": {},
   "outputs": [
    {
     "name": "stdout",
     "output_type": "stream",
     "text": [
      "id:  c6sqc6la2crk6k574oo0\n",
      "execution time:  13.473742246627808\n"
     ]
    }
   ],
   "source": [
    "print(\"id: \", fit_result.job_id)\n",
    "print(\"execution time: \", fit_result.execution_time)"
   ]
  },
  {
   "cell_type": "markdown",
   "metadata": {},
   "source": [
    "You can query the `val_history` property, which is a list of dictionaries for the validation processes, each per epoch. In a dictionary you can find the same properties as `train_history`."
   ]
  },
  {
   "cell_type": "markdown",
   "metadata": {},
   "source": [
    "### Call `predict()` to perform prediction\n",
    "Call the `predict` method in `TorchRuntimeClient` with the data loader to perform prediction on the passed data using the trained model."
   ]
  },
  {
   "cell_type": "code",
   "execution_count": 13,
   "metadata": {},
   "outputs": [],
   "source": [
    "predict_result = torch_runtime_client.predict(data_loader=test_loader)"
   ]
  },
  {
   "cell_type": "code",
   "execution_count": 14,
   "metadata": {},
   "outputs": [
    {
     "name": "stdout",
     "output_type": "stream",
     "text": [
      "id:  c6sqcclg2jd5ui6ctu60\n",
      "execution time:  0.5448770523071289\n"
     ]
    }
   ],
   "source": [
    "print(\"id: \", predict_result.job_id)\n",
    "print(\"execution time: \", predict_result.execution_time)"
   ]
  },
  {
   "cell_type": "code",
   "execution_count": 15,
   "metadata": {},
   "outputs": [
    {
     "data": {
      "image/png": "[encoded data removed]",
      "text/plain": [
       "<Figure size 432x288 with 1 Axes>"
      ]
     },
     "metadata": {
      "needs_background": "light"
     },
     "output_type": "display_data"
    }
   ],
   "source": [
    "# Plot the original function\n",
    "plt.plot(np.linspace(lb, ub), f(np.linspace(lb, ub)), \"r--\")\n",
    "\n",
    "# Plot the training data\n",
    "plt.plot(X, y, \"bo\")\n",
    "# # Plot the prediction result\n",
    "y_ = []\n",
    "for output in predict_result.prediction:\n",
    "    y_.append(output.item())\n",
    "plt.plot(X_test, y_, \"g-\")\n",
    "\n",
    "plt.show()"
   ]
  },
  {
   "cell_type": "markdown",
   "metadata": {},
   "source": [
    "A red line, blue dots, and a green line on the plot show the original function, the training data, \n",
    "and a function constructed out of the predicted values, respectively. "
   ]
  },
  {
   "cell_type": "markdown",
   "metadata": {},
   "source": [
    "### Call `score()` to calculate a score\n",
    "Call the `score` method in `TorchRuntimeClient` with the data loader to calculate a score,\n",
    "for the trained model. You should pass either `\"regression\\\"` or `\"classification\"` to the `score_func` argument to use one of the pre-defined scores functions. Also, you can pass a custom scoring function defined as:\n",
    "\n",
    "```\n",
    "def score_func(model_output, target): -> score: float\\n\",\n",
    "```\n",
    "where:\n",
    "- `model_output` are the values predicted by the model,\n",
    "- `target` ground truth values.\n",
    "\n",
    "Note that the result of the `score` call also contains predicted values that were calculated in the process of scoring the model."
   ]
  },
  {
   "cell_type": "code",
   "execution_count": 16,
   "metadata": {},
   "outputs": [],
   "source": [
    "score_result = torch_runtime_client.score(data_loader=test_loader, score_func=\"regression\")"
   ]
  },
  {
   "cell_type": "code",
   "execution_count": 17,
   "metadata": {},
   "outputs": [
    {
     "name": "stdout",
     "output_type": "stream",
     "text": [
      "id:  c6sqcfta2crk6k574ot0\n",
      "execution time:  0.6559648513793945\n",
      "score:  0.0004721035018463482\n"
     ]
    }
   ],
   "source": [
    "print(\"id: \", score_result.job_id)\n",
    "print(\"execution time: \", score_result.execution_time)\n",
    "print(\"score: \", score_result.score)"
   ]
  },
  {
   "cell_type": "markdown",
   "metadata": {},
   "source": [
    "## 2. Classification\n",
    "\n",
    "Second, we show how to perform a simple classification task using Torch Runtime. In the example, we will perform binary classification on a randomly generated dataset."
   ]
  },
  {
   "cell_type": "code",
   "execution_count": 18,
   "metadata": {},
   "outputs": [
    {
     "data": {
      "image/png": "[encoded data removed]",
      "text/plain": [
       "<Figure size 432x288 with 1 Axes>"
      ]
     },
     "metadata": {
      "needs_background": "light"
     },
     "output_type": "display_data"
    }
   ],
   "source": [
    "# Generate random dataset\n",
    "\n",
    "# Select dataset dimension (num_inputs) and size (num_samples)\n",
    "num_inputs = 2\n",
    "num_samples = 20\n",
    "\n",
    "# Generate random input coordinates (X) and binary labels (y)\n",
    "X = 2 * algorithm_globals.random.random([num_samples, num_inputs]) - 1\n",
    "y01 = 1 * (np.sum(X, axis=1) >= 0)  # in { 0,  1}, y01 will be used for CircuitQNN example\n",
    "y = 2 * y01 - 1  # in {-1, +1}, y will be used for OplowQNN example\n",
    "\n",
    "# Convert to torch Tensors\n",
    "X_ = Tensor(X)\n",
    "y01_ = Tensor(y01).reshape(len(y)).long()\n",
    "y_ = Tensor(y).reshape(len(y), 1)\n",
    "\n",
    "# Plot dataset\n",
    "for x, y_target in zip(X, y):\n",
    "    if y_target == 1:\n",
    "        plt.plot(x[0], x[1], \"bo\")\n",
    "    else:\n",
    "        plt.plot(x[0], x[1], \"go\")\n",
    "plt.plot([-1, 1], [1, -1], \"--\", color=\"black\")\n",
    "plt.show()"
   ]
  },
  {
   "cell_type": "code",
   "execution_count": 19,
   "metadata": {},
   "outputs": [],
   "source": [
    "# Create custom torch dataset class\n",
    "class TorchDataset(Dataset):\n",
    "    \"\"\"Map-style dataset\"\"\"\n",
    "\n",
    "    def __init__(self, X, y):\n",
    "        self.X = Tensor(X)\n",
    "        self.y = Tensor(y)\n",
    "\n",
    "    def __len__(self):\n",
    "        return len(self.X)\n",
    "\n",
    "    def __getitem__(self, idx):\n",
    "        import torch\n",
    "\n",
    "        if torch.is_tensor(idx):\n",
    "            idx = idx.tolist()\n",
    "\n",
    "        X_i = self.X[idx]\n",
    "        y_i = self.y[idx]\n",
    "\n",
    "        # important: the dataset item must be returned as data,target\n",
    "        return X_i, y_i"
   ]
  },
  {
   "cell_type": "code",
   "execution_count": 20,
   "metadata": {},
   "outputs": [],
   "source": [
    "y = y.reshape(20, 1)\n",
    "train_set = TorchDataset(X, y)\n",
    "train_loader = DataLoader(train_set, batch_size=1, shuffle=False)"
   ]
  },
  {
   "cell_type": "code",
   "execution_count": 21,
   "metadata": {},
   "outputs": [
    {
     "name": "stdout",
     "output_type": "stream",
     "text": [
      "ComposedOp([\n",
      "  OperatorMeasurement(1.0 * ZZ),\n",
      "  CircuitStateFn(\n",
      "       ┌──────────────────────────┐»\n",
      "  q_0: ┤0                         ├»\n",
      "       │  ZZFeatureMap(x[0],x[1]) │»\n",
      "  q_1: ┤1                         ├»\n",
      "       └──────────────────────────┘»\n",
      "  «     ┌──────────────────────────────────────────────────────────┐\n",
      "  «q_0: ┤0                                                         ├\n",
      "  «     │  RealAmplitudes(θ[0],θ[1],θ[2],θ[3],θ[4],θ[5],θ[6],θ[7]) │\n",
      "  «q_1: ┤1                                                         ├\n",
      "  «     └──────────────────────────────────────────────────────────┘\n",
      "  )\n",
      "])\n",
      "Initial weights:  [ 0.06653564  0.04005302 -0.03752667  0.06645196  0.06095287 -0.02250432\n",
      " -0.04233438  0.0364991 ]\n"
     ]
    }
   ],
   "source": [
    "# Set up QNN\n",
    "qnn = TwoLayerQNN(num_qubits=num_inputs)\n",
    "print(qnn.operator)\n",
    "\n",
    "# Set up PyTorch module\n",
    "initial_weights = 0.1 * (2 * algorithm_globals.random.random(qnn.num_weights) - 1)\n",
    "model = TorchConnector(qnn, initial_weights=initial_weights)\n",
    "print(\"Initial weights: \", initial_weights)"
   ]
  },
  {
   "cell_type": "code",
   "execution_count": 22,
   "metadata": {},
   "outputs": [],
   "source": [
    "# Define optimizer and loss\n",
    "optimizer = Adam(model.parameters(), lr=0.1)\n",
    "loss_func = MSELoss(reduction=\"sum\")"
   ]
  },
  {
   "cell_type": "code",
   "execution_count": 23,
   "metadata": {},
   "outputs": [],
   "source": [
    "torch_runtime_client = TorchRuntimeClient(\n",
    "    provider=provider,\n",
    "    model=model,\n",
    "    optimizer=optimizer,\n",
    "    loss_func=loss_func,\n",
    "    epochs=5,\n",
    "    backend=backend,\n",
    ")"
   ]
  },
  {
   "cell_type": "markdown",
   "metadata": {},
   "source": [
    "### Call `fit()` to train the model"
   ]
  },
  {
   "cell_type": "code",
   "execution_count": 24,
   "metadata": {},
   "outputs": [],
   "source": [
    "fit_result = torch_runtime_client.fit(train_loader=train_loader, seed=42)"
   ]
  },
  {
   "cell_type": "code",
   "execution_count": 25,
   "metadata": {},
   "outputs": [
    {
     "name": "stdout",
     "output_type": "stream",
     "text": [
      "id:  c6sqcj5a2crk6k574oug\n",
      "execution time:  23.410197257995605\n"
     ]
    }
   ],
   "source": [
    "print(\"id: \", fit_result.job_id)\n",
    "print(\"execution time: \", fit_result.execution_time)"
   ]
  },
  {
   "cell_type": "markdown",
   "metadata": {},
   "source": [
    "You can also query the `train_history` and the `val_history` properties."
   ]
  },
  {
   "cell_type": "markdown",
   "metadata": {},
   "source": [
    "### Call `predict()` to perform prediction"
   ]
  },
  {
   "cell_type": "code",
   "execution_count": 26,
   "metadata": {},
   "outputs": [],
   "source": [
    "# In this example, we use the same data loader for the prediction as well\n",
    "predict_result = torch_runtime_client.predict(data_loader=train_loader)"
   ]
  },
  {
   "cell_type": "code",
   "execution_count": 27,
   "metadata": {},
   "outputs": [
    {
     "name": "stdout",
     "output_type": "stream",
     "text": [
      "id:  c6sqcsda2crk6k574p30\n",
      "execution time:  0.5784239768981934\n"
     ]
    }
   ],
   "source": [
    "print(\"id: \", predict_result.job_id)\n",
    "print(\"execution time: \", predict_result.execution_time)"
   ]
  },
  {
   "cell_type": "code",
   "execution_count": 28,
   "metadata": {},
   "outputs": [
    {
     "data": {
      "image/png": "[encoded data removed]",
      "text/plain": [
       "<Figure size 432x288 with 1 Axes>"
      ]
     },
     "metadata": {
      "needs_background": "light"
     },
     "output_type": "display_data"
    }
   ],
   "source": [
    "# Plot results\n",
    "# red == wrongly classified\n",
    "\n",
    "y_predict = []\n",
    "for out in predict_result.prediction:\n",
    "    y_predict += [np.sign(out.item())]\n",
    "y_predict = np.array(y_predict)\n",
    "y_check = [i[0] for i in y]\n",
    "\n",
    "for x, y_target, y_p in zip(X, y, y_predict):\n",
    "    if y_target == 1:\n",
    "        plt.plot(x[0], x[1], \"bo\")\n",
    "    else:\n",
    "        plt.plot(x[0], x[1], \"go\")\n",
    "    if y_target != y_p:\n",
    "        plt.scatter(x[0], x[1], s=200, facecolors=\"none\", edgecolors=\"r\", linewidths=2)\n",
    "plt.plot([-1, 1], [1, -1], \"--\", color=\"black\")\n",
    "plt.show()"
   ]
  },
  {
   "cell_type": "markdown",
   "metadata": {},
   "source": [
    "The red circles indicate wrongly classified data points."
   ]
  },
  {
   "cell_type": "markdown",
   "metadata": {},
   "source": [
    "### Call `score()` to calculate a score"
   ]
  },
  {
   "cell_type": "markdown",
   "metadata": {},
   "source": [
    "In the example, we use the following custom scoring function to calculate a score. The scoring function returns 1, if the trained model successfully classified the input. Otherwise, it returns 0. An overall average is calculated in `score()` in the end."
   ]
  },
  {
   "cell_type": "code",
   "execution_count": 29,
   "metadata": {},
   "outputs": [],
   "source": [
    "def score_func(out, target):\n",
    "    from numpy import sign\n",
    "\n",
    "    score = 0\n",
    "    if sign(out.item()) == target.item():\n",
    "        score = 1\n",
    "    return score"
   ]
  },
  {
   "cell_type": "code",
   "execution_count": 30,
   "metadata": {},
   "outputs": [],
   "source": [
    "score_result = torch_runtime_client.score(data_loader=train_loader, score_func=score_func)"
   ]
  },
  {
   "cell_type": "code",
   "execution_count": 31,
   "metadata": {},
   "outputs": [
    {
     "name": "stdout",
     "output_type": "stream",
     "text": [
      "id:  c6sqcvta2crk6k574p4g\n",
      "execution time:  0.6043887138366699\n",
      "score:  0.75\n"
     ]
    }
   ],
   "source": [
    "print(\"id: \", score_result.job_id)\n",
    "print(\"execution time: \", score_result.execution_time)\n",
    "print(\"score: \", score_result.score)"
   ]
  },
  {
   "cell_type": "markdown",
   "metadata": {},
   "source": [
    "## 3. How to use hooks in training\n",
    "Qiskit Machine Learning offers a base hook class, `HookBase`. It is a base class for a hook that is a set of callback functions used in the training process. Users can implement their own hook classes from this base class to handle complicated callback processes. This structure provides high flexibility in the callback processes.\n",
    "Each hook can implement 6 methods, and each method is called before/after the corresponding processes during training. The way they are called is demonstrated\n",
    "in the following snippet:\n",
    "```\n",
    "    hook.before_train()\n",
    "    for epoch in range(epochs):\n",
    "        hook.before_epoch()\n",
    "        for batch in train_loader:\n",
    "            hook.before_step()\n",
    "            train_step()\n",
    "            hook.after_step()\n",
    "            global_step += 1\n",
    "        hook.after_epoch()\n",
    "        epoch += 1\n",
    "    hook.after_train()\n",
    "```\n",
    "\n",
    "\n",
    " In the hook methods, users can access `TorchTrainer` via `self.trainer` to access more context properties(e.g., model, current iteration, or config). The following snippet describes available properties that might be useful for a hook.\n",
    "\n",
    "- TorchTrainer has:\n",
    "  - `model`: A model to be trained.\n",
    "  - `optimizer`: An optimizer used for the training.\n",
    "  - `loss_func`: A loss function for the training.\n",
    "  - `train_loader`: A PyTorch data loader object containing a training dataset.\n",
    "  - `val_loader`: A PyTorch data loader object containing a validation dataset.\n",
    "  - `max_epoch`: The maximum number of training epochs.\n",
    "  - `log_period`: A logging period for a train history and a validation history. By default, there will be logs every epoch (`log_period`=1).\n",
    "  - `start_epoch`: An initial epoch for warm-start training. By default, 0.\n",
    "  - `epoch`: The current number of epochs.\n",
    "  - `global_step`: The current number of steps.\n",
    "  - `train_logger`: A logger for a training history. Use `train_logger.metrics` to access a list of logs. A log for each epoch is stored as a dictionary similar to `TorchRuntimeResult.train_history`\n",
    "  - `val_logger`: A logger for a validation history. Logs are stored in the same way as train_logger.\n",
    "\n",
    " Users can pass a single hook instance or a list of hook instances to `hooks` argument.\n"
   ]
  },
  {
   "cell_type": "markdown",
   "metadata": {},
   "source": [
    "The following example is a hook for early stopping. If the current loss is smaller than the threshold after an epoch, the training will be terminated. "
   ]
  },
  {
   "cell_type": "code",
   "execution_count": 32,
   "metadata": {},
   "outputs": [],
   "source": [
    "from qiskit_machine_learning.runtime import HookBase\n",
    "\n",
    "\n",
    "class StopHook(HookBase):\n",
    "    \"\"\"For early stopping\"\"\"\n",
    "\n",
    "    def __init__(self, loss_threshold):\n",
    "        self._loss_threshold = loss_threshold\n",
    "\n",
    "    def after_epoch(self):\n",
    "        # This function is called after each epoch\n",
    "        current_loss = self.trainer.train_logger.metrics[-1][\"loss\"]\n",
    "        print(\"current loss: \", current_loss)\n",
    "        # If current loss is smaller than the threshold,\n",
    "        # set the current number of the epoch to the maximum number of the epochs to stop the training\n",
    "        if current_loss < self._loss_threshold:\n",
    "            self.trainer.epoch = self.trainer.max_epochs\n",
    "\n",
    "\n",
    "stop_hook = StopHook(loss_threshold=0.05)"
   ]
  },
  {
   "cell_type": "code",
   "execution_count": 33,
   "metadata": {},
   "outputs": [],
   "source": [
    "torch_runtime_client = TorchRuntimeClient(\n",
    "    provider=provider,\n",
    "    model=model1,\n",
    "    optimizer=optimizer1,\n",
    "    loss_func=loss_func1,\n",
    "    epochs=5,\n",
    "    backend=backend,\n",
    ")"
   ]
  },
  {
   "cell_type": "code",
   "execution_count": 34,
   "metadata": {},
   "outputs": [],
   "source": [
    "fit_result = torch_runtime_client.fit(train_loader=train_loader1, hooks=stop_hook)"
   ]
  },
  {
   "cell_type": "code",
   "execution_count": 35,
   "metadata": {},
   "outputs": [
    {
     "name": "stdout",
     "output_type": "stream",
     "text": [
      "id:  c6sqd35a2crk6k574p6g\n",
      "execution time:  2.7064104080200195\n",
      "train history: \n",
      "  epoch 0 : loss 0.027795438258181093\n"
     ]
    }
   ],
   "source": [
    "print(\"id: \", fit_result.job_id)\n",
    "print(\"execution time: \", fit_result.execution_time)\n",
    "print(\"train history: \")\n",
    "for epoch_result in fit_result.train_history:\n",
    "    print(\"  epoch\", epoch_result[\"epoch\"], \": loss\", epoch_result[\"loss\"])"
   ]
  },
  {
   "cell_type": "markdown",
   "metadata": {},
   "source": [
    "As we can see, training was interrupted after the first epoch despite we set the number of epochs to 5 in the `TorchRuntimeClient` configuration."
   ]
  },
  {
   "cell_type": "code",
   "execution_count": 36,
   "metadata": {},
   "outputs": [
    {
     "data": {
      "text/html": [
       "<h3>Version Information</h3><table><tr><th>Qiskit Software</th><th>Version</th></tr><tr><td><code>qiskit-terra</code></td><td>0.19.1</td></tr><tr><td><code>qiskit-aer</code></td><td>0.9.1</td></tr><tr><td><code>qiskit-ignis</code></td><td>0.7.0</td></tr><tr><td><code>qiskit-ibmq-provider</code></td><td>0.18.1</td></tr><tr><td><code>qiskit-aqua</code></td><td>0.9.5</td></tr><tr><td><code>qiskit</code></td><td>0.33.0</td></tr><tr><td><code>qiskit-nature</code></td><td>0.3.0</td></tr><tr><td><code>qiskit-machine-learning</code></td><td>0.3.0</td></tr><tr><th>System information</th></tr><tr><td>Python version</td><td>3.8.6</td></tr><tr><td>Python compiler</td><td>Clang 12.0.0 (clang-1200.0.32.29)</td></tr><tr><td>Python build</td><td>default, Mar 10 2021 14:41:09</td></tr><tr><td>OS</td><td>Darwin</td></tr><tr><td>CPUs</td><td>8</td></tr><tr><td>Memory (Gb)</td><td>32.0</td></tr><tr><td colspan='2'>Wed Dec 15 17:26:01 2021 JST</td></tr></table>"
      ],
      "text/plain": [
       "<IPython.core.display.HTML object>"
      ]
     },
     "metadata": {},
     "output_type": "display_data"
    },
    {
     "data": {
      "text/html": [
       "<div style='width: 100%; background-color:#d5d9e0;padding-left: 10px; padding-bottom: 10px; padding-right: 10px; padding-top: 5px'><h3>This code is a part of Qiskit</h3><p>&copy; Copyright IBM 2017, 2021.</p><p>This code is licensed under the Apache License, Version 2.0. You may<br>obtain a copy of this license in the LICENSE.txt file in the root directory<br> of this source tree or at http://www.apache.org/licenses/LICENSE-2.0.<p>Any modifications or derivative works of this code must retain this<br>copyright notice, and modified files need to carry a notice indicating<br>that they have been altered from the originals.</p></div>"
      ],
      "text/plain": [
       "<IPython.core.display.HTML object>"
      ]
     },
     "metadata": {},
     "output_type": "display_data"
    }
   ],
   "source": [
    "import qiskit.tools.jupyter\n",
    "\n",
    "%qiskit_version_table\n",
    "%qiskit_copyright"
   ]
  },
  {
   "cell_type": "code",
   "execution_count": null,
   "metadata": {},
   "outputs": [],
   "source": []
  }
 ],
 "metadata": {
  "kernelspec": {
   "display_name": "Python 3 (ipykernel)",
   "language": "python",
   "name": "python3"
  },
  "language_info": {
   "codemirror_mode": {
    "name": "ipython",
    "version": 3
   },
   "file_extension": ".py",
   "mimetype": "text/x-python",
   "name": "python",
   "nbconvert_exporter": "python",
   "pygments_lexer": "ipython3",
   "version": "3.8.6"
  },
  "nbsphinx": {
   "execute": "never"
  }
 },
 "nbformat": 4,
 "nbformat_minor": 2
}
