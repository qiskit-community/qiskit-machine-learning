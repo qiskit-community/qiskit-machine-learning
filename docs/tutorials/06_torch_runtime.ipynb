{
 "cells": [
  {
   "cell_type": "markdown",
   "metadata": {},
   "source": [
    "# Torch Runtime\n",
    "\n",
    "In this tutorial, we introduce Torch Runtime, and show how to use it via the `TorchRuntimeClient` class in Qiskit Machine Learning.\n",
    "Torch Runtime leverages Qiskit Runtime for \n",
    "hybrid quantum-classical machine learning based on a PyTorch `Module`. It allows training models or predicting the outputs with trained models significantly faster. We show how to use Torch RUntime with two simple examples for regression and classification tasks in the following."
   ]
  },
  {
   "cell_type": "markdown",
   "metadata": {},
   "source": [
    "## 1. Regression\n",
    "\n",
    "First, we show how to use Torch Runtime via `TorchRuntimeClient` using the simple regression example. In the example, we will perform \n",
    "a regression task on a randomly generated dataset following a sin wave."
   ]
  },
  {
   "cell_type": "code",
   "execution_count": 1,
   "metadata": {},
   "outputs": [],
   "source": [
    "# Necessary imports\n",
    "import numpy as np\n",
    "import matplotlib.pyplot as plt\n",
    "\n",
    "from torch import Tensor, manual_seed, is_tensor\n",
    "from torch.nn import Linear, CrossEntropyLoss, MSELoss\n",
    "from torch.optim import LBFGS, Adam\n",
    "from torch.utils.data import Dataset, DataLoader\n",
    "\n",
    "from qiskit  import Aer, QuantumCircuit\n",
    "from qiskit.utils import QuantumInstance, algorithm_globals\n",
    "from qiskit.opflow import AerPauliExpectation\n",
    "from qiskit.circuit import Parameter\n",
    "from qiskit.circuit.library import RealAmplitudes, ZZFeatureMap\n",
    "from qiskit_machine_learning.neural_networks import CircuitQNN, TwoLayerQNN\n",
    "from qiskit_machine_learning.connectors import TorchConnector\n",
    "from qiskit_machine_learning.runtime import TorchRuntimeClient, TorchRuntimeResult\n",
    "\n",
    "\n",
    "# Set seed for random generators\n",
    "seed = 42\n",
    "manual_seed(seed)\n",
    "algorithm_globals.random_seed = seed"
   ]
  },
  {
   "cell_type": "code",
   "execution_count": 2,
   "metadata": {},
   "outputs": [
    {
     "data": {
      "image/png": "[encoded data removed]",
      "text/plain": [
       "<Figure size 432x288 with 1 Axes>"
      ]
     },
     "metadata": {
      "needs_background": "light"
     },
     "output_type": "display_data"
    }
   ],
   "source": [
    "# Generate random dataset: Train\n",
    "import matplotlib.pyplot as plt\n",
    "\n",
    "np.random.seed(0)\n",
    "num_samples = 20\n",
    "eps = 0.2\n",
    "lb, ub = -np.pi, np.pi\n",
    "f = lambda x: np.sin(x)\n",
    "X = (ub - lb)*np.random.rand(num_samples, 1) + lb\n",
    "y = f(X) + eps*(2*np.random.rand(num_samples, 1)-1)\n",
    "\n",
    "plt.figure()\n",
    "plt.plot(np.linspace(lb, ub), f(np.linspace(lb, ub)), 'r--')\n",
    "plt.plot(X, y, 'bo')\n",
    "plt.show()\n"
   ]
  },
  {
   "cell_type": "markdown",
   "metadata": {},
   "source": [
    "`TorchRuntimeClient` requires a PyTorch `DataLoader` as an input for training/predicting. For that purpose, we create a custom torch dataset class."
   ]
  },
  {
   "cell_type": "code",
   "execution_count": 3,
   "metadata": {},
   "outputs": [],
   "source": [
    "# Create custom torch dataset class\n",
    "class TorchDataset(Dataset):\n",
    "\n",
    "    \"\"\"Map-style dataset\"\"\"\n",
    "    def __init__(self, X, y):\n",
    "        self.X = Tensor(X).float()\n",
    "        self.y = Tensor(y).float()\n",
    "\n",
    "    def __len__(self):\n",
    "        return len(self.X)\n",
    "\n",
    "    def __getitem__(self, idx):\n",
    "        import torch\n",
    "        if torch.is_tensor(idx):\n",
    "            idx = idx.tolist()\n",
    "\n",
    "        X_i = self.X[idx]\n",
    "        y_i = self.y[idx]\n",
    "\n",
    "        # important: the dataset item must be returned as data,target\n",
    "        return X_i, y_i\n",
    "\n",
    "# Create a train loader\n",
    "train_set = TorchDataset(X,y)\n",
    "train_loader = DataLoader(train_set, batch_size=1, shuffle=False)"
   ]
  },
  {
   "cell_type": "markdown",
   "metadata": {},
   "source": [
    "Create a PyTorch model, and set up an optimizer and a loss function as usual."
   ]
  },
  {
   "cell_type": "code",
   "execution_count": 10,
   "metadata": {},
   "outputs": [
    {
     "name": "stdout",
     "output_type": "stream",
     "text": [
      "ComposedOp([\n",
      "  OperatorMeasurement(1.0 * Z),\n",
      "  CircuitStateFn(\n",
      "     ┌───────┐┌───────┐\n",
      "  q: ┤ fm(x) ├┤ vf(y) ├\n",
      "     └───────┘└───────┘\n",
      "  )\n",
      "])\n"
     ]
    }
   ],
   "source": [
    "from qiskit.circuit import Parameter\n",
    "\n",
    "# Construct simple feature map\n",
    "param_x = Parameter('x')\n",
    "feature_map = QuantumCircuit(1, name='fm')\n",
    "feature_map.ry(param_x, 0)\n",
    "\n",
    "# Construct simple feature map\n",
    "param_y = Parameter('y')\n",
    "ansatz = QuantumCircuit(1, name='vf')\n",
    "ansatz.ry(param_y, 0)\n",
    "\n",
    "# Construct QNN\n",
    "qnn1 = TwoLayerQNN(1, feature_map, ansatz)\n",
    "print(qnn1.operator)\n",
    "\n",
    "\n",
    "initial_weights = 0.1*(2*algorithm_globals.random.random(qnn1.num_weights) - 1)\n",
    "model1 = TorchConnector(qnn1, initial_weights)\n",
    "\n",
    "# Define optimizer and loss function\n",
    "optimizer = LBFGS(model1.parameters()) \n",
    "loss_func = MSELoss(reduction='sum')"
   ]
  },
  {
   "cell_type": "markdown",
   "metadata": {},
   "source": [
    "Load a provider and specify a backend for the runtime service. "
   ]
  },
  {
   "cell_type": "code",
   "execution_count": 11,
   "metadata": {},
   "outputs": [
    {
     "name": "stderr",
     "output_type": "stream",
     "text": [
      "ibmqfactory.load_account:WARNING:2021-11-05 17:42:52,698: Credentials are already in use. The existing account in the session will be replaced.\n"
     ]
    }
   ],
   "source": [
    "# Set up a provider and backend\n",
    "from qiskit import IBMQ\n",
    "IBMQ.load_account()\n",
    "\n",
    "provider = IBMQ.get_provider(project='default') \n",
    "backend = provider.get_backend('ibmq_qasm_simulator')"
   ]
  },
  {
   "cell_type": "markdown",
   "metadata": {},
   "source": [
    "Create a Torch Runtime Client instance with the model, the optimizer, and other configurations."
   ]
  },
  {
   "cell_type": "code",
   "execution_count": 12,
   "metadata": {},
   "outputs": [],
   "source": [
    "torch_runtime_client = TorchRuntimeClient(\n",
    "                                        provider=provider,\n",
    "                                        model=model1,\n",
    "                                        optimizer=optimizer,\n",
    "                                        loss_func=loss_func,\n",
    "                                        epochs=1,\n",
    "                                        backend=backend,\n",
    "                                        shots=1024,\n",
    "                                    )"
   ]
  },
  {
   "cell_type": "markdown",
   "metadata": {},
   "source": [
    "### `fit()` for training\n",
    "Call `TorchRuntimeClient`'s `fit` method with a data loader for training.  "
   ]
  },
  {
   "cell_type": "code",
   "execution_count": 13,
   "metadata": {},
   "outputs": [],
   "source": [
    "result = torch_runtime_client.fit(train_loader = train_loader)"
   ]
  },
  {
   "cell_type": "markdown",
   "metadata": {},
   "source": [
    "----------------\n",
    "Following cells are added temporarily since we can not real torch runtime server yet."
   ]
  },
  {
   "cell_type": "code",
   "execution_count": 14,
   "metadata": {},
   "outputs": [],
   "source": [
    "import dill\n",
    "import base64\n",
    "def obj_to_str(obj) -> str:\n",
    "    \"\"\"Encodes any object into a JSON-compatible string using dill. The intermediate\n",
    "    binary data must be converted to base 64 to be able to decode into utf-8 format.\"\"\"\n",
    "    string = base64.b64encode(dill.dumps(obj, byref=False)).decode(\"utf-8\")\n",
    "    return string\n",
    "\n",
    "def str_to_obj(string: str):\n",
    "    \"\"\"Decodes a previously encoded string using dill (with an intermediate step\n",
    "    converting the binary data from base 64).\"\"\"\n",
    "    obj = dill.loads(base64.b64decode(string.encode()))\n",
    "    return obj"
   ]
  },
  {
   "cell_type": "code",
   "execution_count": 15,
   "metadata": {},
   "outputs": [],
   "source": [
    "# result = torch_runtime_client.fit(train_loader = train_loader, seed=42)\n",
    "!docker cp ~/github/torch-runtime/src/torch_train.py da1e5b452975:/runtime/program.py\n",
    "!docker cp ./params.json da1e5b452975:/runtime/params.json\n",
    "#!docker exec da1e5b452975 /runtime/program_starter.py"
   ]
  },
  {
   "cell_type": "code",
   "execution_count": 16,
   "metadata": {},
   "outputs": [],
   "source": [
    "result_ = {\"model_state_dict\": \"gASV5QIAAAAAAACMC2NvbGxlY3Rpb25zlIwLT3JkZXJlZERpY3SUk5QpUpQojAZ3ZWlnaHSUjAx0b3JjaC5fdXRpbHOUjBJfcmVidWlsZF90ZW5zb3JfdjKUk5QojA10b3JjaC5zdG9yYWdllIwQX2xvYWRfZnJvbV9ieXRlc5STlEP/gAKKCmz8nEb5IGqoUBkugAJN6QMugAJ9cQAoWBAAAABwcm90b2NvbF92ZXJzaW9ucQFN6QNYDQAAAGxpdHRsZV9lbmRpYW5xAohYCgAAAHR5cGVfc2l6ZXNxA31xBChYBQAAAHNob3J0cQVLAlgDAAAAaW50cQZLBFgEAAAAbG9uZ3EHSwR1dS6AAihYBwAAAHN0b3JhZ2VxAGN0b3JjaApGbG9hdFN0b3JhZ2UKcQFYDgAAADk0NTYyMzk1MTE2Mjg4cQJYAwAAAGNwdXEDSwFOdHEEUS6AAl1xAFgOAAAAOTQ1NjIzOTUxMTYyODhxAWEuAQAAAAAAAAAV0de/lIWUUpRLAEsBhZRLAYWUiWgCKVKUdJRSlIwIX3dlaWdodHOUaAcoaApD/4ACigps/JxG+SBqqFAZLoACTekDLoACfXEAKFgQAAAAcHJvdG9jb2xfdmVyc2lvbnEBTekDWA0AAABsaXR0bGVfZW5kaWFucQKIWAoAAAB0eXBlX3NpemVzcQN9cQQoWAUAAABzaG9ydHEFSwJYAwAAAGludHEGSwRYBAAAAGxvbmdxB0sEdXUugAIoWAcAAABzdG9yYWdlcQBjdG9yY2gKRmxvYXRTdG9yYWdlCnEBWA4AAAA5NDU2MjM5NTExNjI4OHECWAMAAABjcHVxA0sBTnRxBFEugAJdcQBYDgAAADk0NTYyMzk1MTE2Mjg4cQFhLgEAAAAAAAAAFdHXv5SFlFKUSwBLAYWUSwGFlIloAilSlHSUUpR1fZSMCV9tZXRhZGF0YZRoAilSlIwAlH2UjAd2ZXJzaW9ulEsBc3NzYi4=\", \"train_history\": {\"train\": [{\"epoch\": 0, \"loss\": 0.005562247112902696, \"forward_time\": 0.0, \"backward_time\": 0.0, \"epoch_time\": 25.17262029647827}], \"validation\": []}, \"train_time\": 25.1729838848114}"
   ]
  },
  {
   "cell_type": "code",
   "execution_count": 17,
   "metadata": {},
   "outputs": [],
   "source": [
    "torch_runtime_client._model.load_state_dict(str_to_obj(result_[\"model_state_dict\"]))\n",
    "\n",
    "# re-build result from serialized return value\n",
    "result = TorchRuntimeResult()\n",
    "result.job_id = 12345\n",
    "result.train_history = result_.get(\"train_history\", {}).get(\"train\", None)\n",
    "result.val_history = result_.get(\"train_history\", {}).get(\"val\", None)\n",
    "result.model_state_dict = str_to_obj(result_.get(\"model_state_dict\"))\n",
    "result.train_time = result_.get(\"train_time\")"
   ]
  },
  {
   "cell_type": "markdown",
   "metadata": {},
   "source": [
    "-------------------"
   ]
  },
  {
   "cell_type": "code",
   "execution_count": 18,
   "metadata": {},
   "outputs": [
    {
     "name": "stdout",
     "output_type": "stream",
     "text": [
      "id:  12345\n",
      "train history:  [{'epoch': 0, 'loss': 0.005562247112902696, 'forward_time': 0.0, 'backward_time': 0.0, 'epoch_time': 25.17262029647827}]\n",
      "validation history:  None\n",
      "train time:  25.1729838848114\n"
     ]
    }
   ],
   "source": [
    "print('id: ', result.job_id)\n",
    "print('train history: ', result.train_history)\n",
    "print('validation history: ', result.val_history)\n",
    "print('train time: ', result.train_time)\n"
   ]
  },
  {
   "cell_type": "markdown",
   "metadata": {},
   "source": [
    "Torch Runtime can also perform validation while training a model by passing a validation data loader to `fit` method."
   ]
  },
  {
   "cell_type": "code",
   "execution_count": 25,
   "metadata": {},
   "outputs": [],
   "source": [
    "# Create a validation dataloader\n",
    "X_test = [[x] for x in np.linspace(lb, ub)]\n",
    "y_test = [[y] for y in f(np.linspace(lb, ub))]\n",
    "val_set = TorchDataset(X_test, y_test)\n",
    "val_loader = DataLoader(val_set, batch_size=1, shuffle=False)"
   ]
  },
  {
   "cell_type": "code",
   "execution_count": 28,
   "metadata": {},
   "outputs": [],
   "source": [
    "torch_runtime_client = TorchRuntimeClient(\n",
    "                                        provider=provider,\n",
    "                                        model=model1,\n",
    "                                        optimizer=optimizer,\n",
    "                                        loss_func=loss_func,\n",
    "                                        epochs=1,\n",
    "                                        backend=backend,\n",
    "                                        shots=1024,\n",
    "                                    )"
   ]
  },
  {
   "cell_type": "code",
   "execution_count": null,
   "metadata": {},
   "outputs": [],
   "source": [
    "# Pass a train data loader and a validation data loader\n",
    "result = torch_runtime_client.fit(train_loader = train_loader, val_loader=val_loader)"
   ]
  },
  {
   "cell_type": "code",
   "execution_count": 29,
   "metadata": {},
   "outputs": [],
   "source": [
    "# result = torch_runtime_client.fit(train_loader = train_loader, seed=42)\n",
    "!docker cp ~/github/torch-runtime/src/torch_train.py da1e5b452975:/runtime/program.py\n",
    "!docker cp ./params.json da1e5b452975:/runtime/params.json\n",
    "#!docker exec da1e5b452975 /runtime/program_starter.py"
   ]
  },
  {
   "cell_type": "code",
   "execution_count": 33,
   "metadata": {},
   "outputs": [],
   "source": [
    "result_ = {\"model_state_dict\": \"gASV5QIAAAAAAACMC2NvbGxlY3Rpb25zlIwLT3JkZXJlZERpY3SUk5QpUpQojAZ3ZWlnaHSUjAx0b3JjaC5fdXRpbHOUjBJfcmVidWlsZF90ZW5zb3JfdjKUk5QojA10b3JjaC5zdG9yYWdllIwQX2xvYWRfZnJvbV9ieXRlc5STlEP/gAKKCmz8nEb5IGqoUBkugAJN6QMugAJ9cQAoWBAAAABwcm90b2NvbF92ZXJzaW9ucQFN6QNYDQAAAGxpdHRsZV9lbmRpYW5xAohYCgAAAHR5cGVfc2l6ZXNxA31xBChYBQAAAHNob3J0cQVLAlgDAAAAaW50cQZLBFgEAAAAbG9uZ3EHSwR1dS6AAihYBwAAAHN0b3JhZ2VxAGN0b3JjaApGbG9hdFN0b3JhZ2UKcQFYDgAAADk0ODU5MTEzNzUyNjI0cQJYAwAAAGNwdXEDSwFOdHEEUS6AAl1xAFgOAAAAOTQ4NTkxMTM3NTI2MjRxAWEuAQAAAAAAAABJp9W/lIWUUpRLAEsBhZRLAYWUiWgCKVKUdJRSlIwIX3dlaWdodHOUaAcoaApD/4ACigps/JxG+SBqqFAZLoACTekDLoACfXEAKFgQAAAAcHJvdG9jb2xfdmVyc2lvbnEBTekDWA0AAABsaXR0bGVfZW5kaWFucQKIWAoAAAB0eXBlX3NpemVzcQN9cQQoWAUAAABzaG9ydHEFSwJYAwAAAGludHEGSwRYBAAAAGxvbmdxB0sEdXUugAIoWAcAAABzdG9yYWdlcQBjdG9yY2gKRmxvYXRTdG9yYWdlCnEBWA4AAAA5NDg1OTExMzc1MjYyNHECWAMAAABjcHVxA0sBTnRxBFEugAJdcQBYDgAAADk0ODU5MTEzNzUyNjI0cQFhLgEAAAAAAAAASafVv5SFlFKUSwBLAYWUSwGFlIloAilSlHSUUpR1fZSMCV9tZXRhZGF0YZRoAilSlIwAlH2UjAd2ZXJzaW9ulEsBc3NzYi4=\", \"train_history\": {\"train\": [{\"epoch\": 0, \"loss\": 0.0032809013630412664, \"forward_time\": 0.0, \"backward_time\": 0.0, \"epoch_time\": 25.69862389564514}], \"validation\": [{\"epoch\": 0, \"loss\": 0.004617811347344514, \"forward_time\": 0.002936124801635742, \"backward_time\": 0, \"epoch_time\": 0.002936124801635742}]}, \"train_time\": 25.88549542427063}"
   ]
  },
  {
   "cell_type": "code",
   "execution_count": 34,
   "metadata": {},
   "outputs": [],
   "source": [
    "torch_runtime_client._model.load_state_dict(str_to_obj(result_[\"model_state_dict\"]))\n",
    "\n",
    "# re-build result from serialized return value\n",
    "result = TorchRuntimeResult()\n",
    "result.job_id = 12345\n",
    "result.train_history = result_.get(\"train_history\", {}).get(\"train\", None)\n",
    "result.val_history = result_.get(\"train_history\", {}).get(\"validation\", None)\n",
    "result.model_state_dict = str_to_obj(result_.get(\"model_state_dict\"))\n",
    "result.train_time = result_.get(\"train_time\")"
   ]
  },
  {
   "cell_type": "code",
   "execution_count": 35,
   "metadata": {},
   "outputs": [
    {
     "name": "stdout",
     "output_type": "stream",
     "text": [
      "id:  12345\n",
      "train history:  [{'epoch': 0, 'loss': 0.0032809013630412664, 'forward_time': 0.0, 'backward_time': 0.0, 'epoch_time': 25.69862389564514}]\n",
      "validation history:  [{'epoch': 0, 'loss': 0.004617811347344514, 'forward_time': 0.002936124801635742, 'backward_time': 0, 'epoch_time': 0.002936124801635742}]\n",
      "train time:  25.88549542427063\n"
     ]
    }
   ],
   "source": [
    "print('id: ', result.job_id)\n",
    "print('train history: ', result.train_history)\n",
    "print('validation history: ', result.val_history)\n",
    "print('train time: ', result.train_time)\n"
   ]
  },
  {
   "cell_type": "markdown",
   "metadata": {},
   "source": [
    "### `predict()` for predicting the outputs\n",
    "Call `TorchRuntimeClient`'s `predict` method with a data loader for predicting the outputs using the trained model."
   ]
  },
  {
   "cell_type": "code",
   "execution_count": 39,
   "metadata": {},
   "outputs": [],
   "source": [
    "prediction = torch_runtime_client.predict(data_loader = val_loader)"
   ]
  },
  {
   "cell_type": "code",
   "execution_count": 40,
   "metadata": {},
   "outputs": [
    {
     "name": "stdout",
     "output_type": "stream",
     "text": [
      "/usr/local/lib/python3.8/site-packages/qiskit/opflow/primitive_ops/pauli_sum_op.py:316: DeprecationWarning: The SparsePauliOp.table method is deprecated as of Qiskit Terra 0.19.0 and will be removed no sooner than 3 months after the releasedate. Use SparsePauliOp.paulis method instead.\n",
      "  corrected_x_bits = self.primitive.table.X[::, ::-1]\n",
      "{\"prediction\": [[[0.08984375]], [[0.0078125]], [[-0.197265625]], [[-0.263671875]], [[-0.4296875]], [[-0.50390625]], [[-0.6328125]], [[-0.681640625]], [[-0.818359375]], [[-0.89453125]], [[-0.93359375]], [[-0.953125]], [[-0.994140625]], [[-1.0]], [[-0.99609375]], [[-0.958984375]], [[-0.9296875]], [[-0.861328125]], [[-0.794921875]], [[-0.6953125]], [[-0.60546875]], [[-0.521484375]], [[-0.380859375]], [[-0.3203125]], [[-0.146484375]], [[-0.005859375]], [[0.12890625]], [[0.16015625]], [[0.34765625]], [[0.478515625]], [[0.56640625]], [[0.6640625]], [[0.751953125]], [[0.833984375]], [[0.896484375]], [[0.943359375]], [[0.978515625]], [[0.99609375]], [[0.99609375]], [[0.984375]], [[0.939453125]], [[0.900390625]], [[0.84375]], [[0.77734375]], [[0.6484375]], [[0.587890625]], [[0.4609375]], [[0.3046875]], [[0.23046875]], [[0.09765625]]]}\n"
     ]
    }
   ],
   "source": [
    "!docker cp ~/github/torch-runtime/src/torch_infer.py da1e5b452975:/runtime/program.py\n",
    "!docker cp ./params.json da1e5b452975:/runtime/params.json\n",
    "!docker exec da1e5b452975 /runtime/program_starter.py"
   ]
  },
  {
   "cell_type": "code",
   "execution_count": 41,
   "metadata": {},
   "outputs": [],
   "source": [
    "output = {\"prediction\": [[[0.10546875]], [[-0.068359375]], [[-0.154296875]], [[-0.26171875]], [[-0.443359375]], [[-0.509765625]], [[-0.63671875]], [[-0.73046875]], [[-0.8046875]], [[-0.830078125]], [[-0.923828125]], [[-0.974609375]], [[-0.986328125]], [[-1.0]], [[-0.9921875]], [[-0.96484375]], [[-0.927734375]], [[-0.869140625]], [[-0.796875]], [[-0.75390625]], [[-0.62109375]], [[-0.51953125]], [[-0.380859375]], [[-0.314453125]], [[-0.15625]], [[-0.076171875]], [[0.15234375]], [[0.1875]], [[0.353515625]], [[0.482421875]], [[0.544921875]], [[0.625]], [[0.787109375]], [[0.826171875]], [[0.900390625]], [[0.955078125]], [[0.974609375]], [[1.0]], [[0.998046875]], [[0.98828125]], [[0.962890625]], [[0.88671875]], [[0.826171875]], [[0.79296875]], [[0.638671875]], [[0.58203125]], [[0.462890625]], [[0.37109375]], [[0.236328125]], [[0.099609375]]]}\n",
    "\n",
    "out_tensor = Tensor(output[\"prediction\"])"
   ]
  },
  {
   "cell_type": "code",
   "execution_count": 42,
   "metadata": {},
   "outputs": [
    {
     "data": {
      "image/png": "[encoded data removed]",
      "text/plain": [
       "<Figure size 432x288 with 1 Axes>"
      ]
     },
     "metadata": {
      "needs_background": "light"
     },
     "output_type": "display_data"
    }
   ],
   "source": [
    "# Plot target function\n",
    "plt.plot(np.linspace(lb, ub), f(np.linspace(lb, ub)), 'r--')\n",
    "\n",
    "# Plot data\n",
    "plt.plot(X, y, 'bo')\n",
    "\n",
    "# Plot fitted line\n",
    "y_ = []\n",
    "for out in out_tensor:\n",
    "    y_ += [out.item()]\n",
    "plt.plot(np.linspace(lb, ub), y_, 'g-')\n",
    "plt.show()"
   ]
  },
  {
   "cell_type": "markdown",
   "metadata": {},
   "source": [
    "### `score()` for checking the accuracy.\n",
    "Call `TorchRuntimeClient`'s `score` method with a data loader for checking the accuracy of the trained model. We can pass a string to `score_func` for the pre-defined score functions (`\"Classification\"` and `\"Regression\"`). We can also pass a custom scoring function defined as : `def score_func(model_output, target): -> score: float`. In this example, we use pre-defiend `\"Regression\"` function."
   ]
  },
  {
   "cell_type": "code",
   "execution_count": 47,
   "metadata": {},
   "outputs": [],
   "source": [
    "score = torch_runtime_client.score(data_loader = val_loader, score_func = \"Regression\")"
   ]
  },
  {
   "cell_type": "code",
   "execution_count": 49,
   "metadata": {},
   "outputs": [
    {
     "name": "stdout",
     "output_type": "stream",
     "text": [
      "/usr/local/lib/python3.8/site-packages/qiskit/opflow/primitive_ops/pauli_sum_op.py:316: DeprecationWarning: The SparsePauliOp.table method is deprecated as of Qiskit Terra 0.19.0 and will be removed no sooner than 3 months after the releasedate. Use SparsePauliOp.paulis method instead.\n",
      "  corrected_x_bits = self.primitive.table.X[::, ::-1]\n",
      "{\"score\": 0.0046539699854020004, \"prediction\": [[[0.0859375]], [[-0.05078125]], [[-0.197265625]], [[-0.24609375]], [[-0.41015625]], [[-0.5546875]], [[-0.63671875]], [[-0.705078125]], [[-0.8203125]], [[-0.859375]], [[-0.921875]], [[-0.97265625]], [[-0.9921875]], [[-1.0]], [[-0.994140625]], [[-0.962890625]], [[-0.921875]], [[-0.8671875]], [[-0.810546875]], [[-0.728515625]], [[-0.58203125]], [[-0.5390625]], [[-0.390625]], [[-0.263671875]], [[-0.15625]], [[0.04296875]], [[0.087890625]], [[0.20703125]], [[0.34375]], [[0.517578125]], [[0.56640625]], [[0.6875]], [[0.720703125]], [[0.818359375]], [[0.91796875]], [[0.9609375]], [[0.974609375]], [[0.998046875]], [[1.0]], [[0.986328125]], [[0.939453125]], [[0.921875]], [[0.86328125]], [[0.779296875]], [[0.662109375]], [[0.52734375]], [[0.439453125]], [[0.388671875]], [[0.216796875]], [[0.126953125]]]}\n"
     ]
    }
   ],
   "source": [
    "!docker cp ~/github/torch-runtime/src/torch_infer.py da1e5b452975:/runtime/program.py\n",
    "!docker cp ./params.json da1e5b452975:/runtime/params.json\n",
    "!docker exec da1e5b452975 /runtime/program_starter.py"
   ]
  },
  {
   "cell_type": "code",
   "execution_count": 50,
   "metadata": {},
   "outputs": [],
   "source": [
    "result_ = {\"score\": 0.0046539699854020004, \"prediction\": [[[0.0859375]], [[-0.05078125]], [[-0.197265625]], [[-0.24609375]], [[-0.41015625]], [[-0.5546875]], [[-0.63671875]], [[-0.705078125]], [[-0.8203125]], [[-0.859375]], [[-0.921875]], [[-0.97265625]], [[-0.9921875]], [[-1.0]], [[-0.994140625]], [[-0.962890625]], [[-0.921875]], [[-0.8671875]], [[-0.810546875]], [[-0.728515625]], [[-0.58203125]], [[-0.5390625]], [[-0.390625]], [[-0.263671875]], [[-0.15625]], [[0.04296875]], [[0.087890625]], [[0.20703125]], [[0.34375]], [[0.517578125]], [[0.56640625]], [[0.6875]], [[0.720703125]], [[0.818359375]], [[0.91796875]], [[0.9609375]], [[0.974609375]], [[0.998046875]], [[1.0]], [[0.986328125]], [[0.939453125]], [[0.921875]], [[0.86328125]], [[0.779296875]], [[0.662109375]], [[0.52734375]], [[0.439453125]], [[0.388671875]], [[0.216796875]], [[0.126953125]]]}"
   ]
  },
  {
   "cell_type": "code",
   "execution_count": 52,
   "metadata": {},
   "outputs": [
    {
     "data": {
      "text/plain": [
       "0.0046539699854020004"
      ]
     },
     "execution_count": 52,
     "metadata": {},
     "output_type": "execute_result"
    }
   ],
   "source": [
    "score = result_[\"score\"]\n",
    "score"
   ]
  },
  {
   "cell_type": "code",
   "execution_count": 119,
   "metadata": {},
   "outputs": [
    {
     "name": "stdout",
     "output_type": "stream",
     "text": [
      "Traceback (most recent call last):\n",
      "  File \"/runtime/program_starter.py\", line 34, in <module>\n",
      "    main(backend, messenger, **user_params)\n",
      "  File \"/runtime/program.py\", line 174, in main\n",
      "    out = infer.predict()\n",
      "  File \"/runtime/program.py\", line 93, in predict\n",
      "    out = self.model(data)\n",
      "  File \"/usr/local/lib/python3.8/site-packages/torch/nn/modules/module.py\", line 1051, in _call_impl\n",
      "    return forward_call(*input, **kwargs)\n",
      "  File \"/usr/local/lib/python3.8/site-packages/qiskit_machine_learning/connectors/torch_connector.py\", line 279, in forward\n",
      "    return TorchConnector._TorchNNFunction.apply(\n",
      "  File \"/usr/local/lib/python3.8/site-packages/qiskit_machine_learning/connectors/torch_connector.py\", line 95, in forward\n",
      "    raise QiskitMachineLearningError(\n",
      "qiskit_machine_learning.exceptions.QiskitMachineLearningError: 'Invalid input dimension! Received torch.Size([1, 1]) and expected input compatible to 2'\n"
     ]
    }
   ],
   "source": [
    "prediction = torch_runtime_client.predict(data_loader = val_loader)\n",
    "\n",
    "!docker cp ~/github/torch-runtime/src/torch_infer.py da1e5b452975:/runtime/program.py\n",
    "!docker cp ./params.json da1e5b452975:/runtime/params.json\n",
    "!docker exec da1e5b452975 /runtime/program_starter.py"
   ]
  },
  {
   "cell_type": "markdown",
   "metadata": {},
   "source": [
    "## 2. Classification"
   ]
  },
  {
   "cell_type": "code",
   "execution_count": null,
   "metadata": {},
   "outputs": [],
   "source": []
  },
  {
   "cell_type": "code",
   "execution_count": 107,
   "metadata": {},
   "outputs": [
    {
     "name": "stdout",
     "output_type": "stream",
     "text": [
      "Accuracy: [0. 0. 0. 0. 0. 0. 0. 0. 0. 0. 0. 0. 0. 0. 0. 0. 0. 0. 0. 0.]\n"
     ]
    }
   ],
   "source": [
    "print('Accuracy:', sum(y_predict == y)/len(y))"
   ]
  },
  {
   "cell_type": "markdown",
   "metadata": {},
   "source": [
    "## 1. Classification\n",
    "\n",
    "First, we show how to use Torch Runtime via `TorchRuntimeClient` using the simple classification example. In the example, we will perform binary classification on a randomly generated dataset."
   ]
  },
  {
   "cell_type": "code",
   "execution_count": 1,
   "metadata": {},
   "outputs": [],
   "source": [
    "# Necessary imports\n",
    "\n",
    "import numpy as np\n",
    "import matplotlib.pyplot as plt\n",
    "\n",
    "from torch import Tensor, manual_seed, is_tensor\n",
    "from torch.nn import Linear, CrossEntropyLoss, MSELoss\n",
    "from torch.optim import LBFGS, Adam\n",
    "from torch.utils.data import Dataset, DataLoader\n",
    "\n",
    "from qiskit  import Aer, QuantumCircuit\n",
    "from qiskit.utils import QuantumInstance, algorithm_globals\n",
    "from qiskit.opflow import AerPauliExpectation\n",
    "from qiskit.circuit import Parameter\n",
    "from qiskit.circuit.library import RealAmplitudes, ZZFeatureMap\n",
    "from qiskit_machine_learning.neural_networks import CircuitQNN, TwoLayerQNN\n",
    "from qiskit_machine_learning.connectors import TorchConnector\n",
    "from qiskit_machine_learning.runtime import TorchRuntimeClient, TorchRuntimeResult\n",
    "\n",
    "\n",
    "# Set seed for random generators\n",
    "seed = 42\n",
    "manual_seed(seed)\n",
    "algorithm_globals.random_seed = seed"
   ]
  },
  {
   "cell_type": "code",
   "execution_count": 2,
   "metadata": {},
   "outputs": [
    {
     "data": {
      "image/png": "[encoded data removed]",
      "text/plain": [
       "<Figure size 432x288 with 1 Axes>"
      ]
     },
     "metadata": {
      "needs_background": "light"
     },
     "output_type": "display_data"
    }
   ],
   "source": [
    "# Generate random dataset\n",
    "\n",
    "# Select dataset dimension (num_inputs) and size (num_samples)\n",
    "num_inputs = 2\n",
    "num_samples = 20\n",
    "\n",
    "# Generate random input coordinates (X) and binary labels (y)\n",
    "X = 2*algorithm_globals.random.random([num_samples, num_inputs]) - 1\n",
    "y = 2*(np.sum(X, axis=1) >= 0)-1 # in {-1, +1}\n",
    "\n",
    "# Plot dataset\n",
    "for x, y_target in zip(X, y):\n",
    "    if y_target == 1:\n",
    "        plt.plot(x[0], x[1], 'bo')\n",
    "    else:\n",
    "        plt.plot(x[0], x[1], 'go')\n",
    "plt.plot([-1, 1], [1, -1], '--', color='black')\n",
    "plt.show()"
   ]
  },
  {
   "cell_type": "markdown",
   "metadata": {},
   "source": [
    "`TorchRuntimeClient` requires a PyTorch `DataLoader` as an input for training/predicting. For that purpose, we create a custom torch dataset class."
   ]
  },
  {
   "cell_type": "code",
   "execution_count": 3,
   "metadata": {},
   "outputs": [],
   "source": [
    "# Create custom torch dataset class\n",
    "class TorchDataset(Dataset):\n",
    "\n",
    "    \"\"\"Map-style dataset\"\"\"\n",
    "    def __init__(self, X, y):\n",
    "        self.X = Tensor(X)\n",
    "        self.y = Tensor(y)\n",
    "\n",
    "    def __len__(self):\n",
    "        return len(self.X)\n",
    "\n",
    "    def __getitem__(self, idx):\n",
    "        import torch\n",
    "        if torch.is_tensor(idx):\n",
    "            idx = idx.tolist()\n",
    "\n",
    "        X_i = self.X[idx]\n",
    "        y_i = self.y[idx]\n",
    "\n",
    "        # important: the dataset item must be returned as data,target\n",
    "        return X_i, y_i"
   ]
  },
  {
   "cell_type": "code",
   "execution_count": 43,
   "metadata": {},
   "outputs": [],
   "source": [
    "y_ = y.reshape(len(y), 1)\n",
    "train_set = TorchDataset(X,y_)\n",
    "train_loader = DataLoader(train_set, batch_size=1)"
   ]
  },
  {
   "cell_type": "markdown",
   "metadata": {},
   "source": [
    "Create a PyTorch model, and set up an optimizer and a loss function as usual."
   ]
  },
  {
   "cell_type": "code",
   "execution_count": 67,
   "metadata": {},
   "outputs": [
    {
     "name": "stdout",
     "output_type": "stream",
     "text": [
      "ComposedOp([\n",
      "  OperatorMeasurement(1.0 * ZZ),\n",
      "  CircuitStateFn(\n",
      "       ┌──────────────────────────┐»\n",
      "  q_0: ┤0                         ├»\n",
      "       │  ZZFeatureMap(x[0],x[1]) │»\n",
      "  q_1: ┤1                         ├»\n",
      "       └──────────────────────────┘»\n",
      "  «     ┌──────────────────────────────────────────────────────────┐\n",
      "  «q_0: ┤0                                                         ├\n",
      "  «     │  RealAmplitudes(θ[0],θ[1],θ[2],θ[3],θ[4],θ[5],θ[6],θ[7]) │\n",
      "  «q_1: ┤1                                                         ├\n",
      "  «     └──────────────────────────────────────────────────────────┘\n",
      "  )\n",
      "])\n",
      "Initial weights:  [-0.02763748 -0.08247002 -0.07639882  0.09237953  0.08171614  0.03994143\n",
      " -0.04682601  0.09383528]\n"
     ]
    }
   ],
   "source": [
    "# Set up QNN\n",
    "qnn1 = TwoLayerQNN(num_qubits=num_inputs)\n",
    "print(qnn1.operator)\n",
    "\n",
    "# create a PyTorch module\n",
    "initial_weights = 0.1*(2*algorithm_globals.random.random(qnn1.num_weights) - 1)\n",
    "model1 = TorchConnector(qnn1, initial_weights=initial_weights)\n",
    "print(\"Initial weights: \", initial_weights)\n",
    "\n",
    "optimizer = LBFGS(model1.parameters())\n",
    "loss_func = MSELoss(reduction='sum')"
   ]
  },
  {
   "cell_type": "code",
   "execution_count": 68,
   "metadata": {},
   "outputs": [
    {
     "name": "stderr",
     "output_type": "stream",
     "text": [
      "ibmqfactory.load_account:WARNING:2021-11-05 17:01:30,193: Credentials are already in use. The existing account in the session will be replaced.\n"
     ]
    },
    {
     "name": "stdout",
     "output_type": "stream",
     "text": [
      "[<AccountProvider for IBMQ(hub='ibm-q', group='open', project='main')>, <AccountProvider for IBMQ(hub='ibm-q-internal', group='trl', project='qiskit')>, <AccountProvider for IBMQ(hub='ibm-q-internal', group='deployed', project='default')>]\n"
     ]
    }
   ],
   "source": [
    "# Set up a provider and backend\n",
    "from qiskit import IBMQ\n",
    "IBMQ.load_account()\n",
    "print(IBMQ.providers())\n",
    "\n",
    "provider = IBMQ.get_provider(project='default') \n",
    "backend = provider.get_backend('ibmq_qasm_simulator')"
   ]
  },
  {
   "cell_type": "markdown",
   "metadata": {},
   "source": [
    "Create a Torch Runtime Client instance with the model, the optimizer, and other configurations."
   ]
  },
  {
   "cell_type": "code",
   "execution_count": 69,
   "metadata": {},
   "outputs": [],
   "source": [
    "torch_runtime_client = TorchRuntimeClient(\n",
    "                                        provider=provider,\n",
    "                                        model=model1,\n",
    "                                        optimizer=optimizer,\n",
    "                                        loss_func=loss_func,\n",
    "                                        epochs=1,\n",
    "                                        backend=backend,\n",
    "                                        shots=1024,\n",
    "                                    )"
   ]
  },
  {
   "cell_type": "markdown",
   "metadata": {},
   "source": [
    "Call `TorchRuntimeClient`'s `fit` method with a data loader for training.  "
   ]
  },
  {
   "cell_type": "code",
   "execution_count": 70,
   "metadata": {},
   "outputs": [],
   "source": [
    "result = torch_runtime_client.fit(train_loader = train_loader, seed=seed)"
   ]
  },
  {
   "cell_type": "markdown",
   "metadata": {},
   "source": [
    "----------------\n",
    "Following cells are added temporarily since we can not real torch runtime server yet."
   ]
  },
  {
   "cell_type": "code",
   "execution_count": 71,
   "metadata": {},
   "outputs": [],
   "source": [
    "import dill\n",
    "import base64\n",
    "def obj_to_str(obj) -> str:\n",
    "    \"\"\"Encodes any object into a JSON-compatible string using dill. The intermediate\n",
    "    binary data must be converted to base 64 to be able to decode into utf-8 format.\"\"\"\n",
    "    string = base64.b64encode(dill.dumps(obj, byref=False)).decode(\"utf-8\")\n",
    "    return string\n",
    "\n",
    "def str_to_obj(string: str):\n",
    "    \"\"\"Decodes a previously encoded string using dill (with an intermediate step\n",
    "    converting the binary data from base 64).\"\"\"\n",
    "    obj = dill.loads(base64.b64decode(string.encode()))\n",
    "    return obj"
   ]
  },
  {
   "cell_type": "code",
   "execution_count": 72,
   "metadata": {},
   "outputs": [],
   "source": [
    "# result = torch_runtime_client.fit(train_loader = train_loader, seed=42)\n",
    "!docker cp ~/github/torch-runtime/src/torch_train.py da1e5b452975:/runtime/program.py\n",
    "!docker cp ./params.json da1e5b452975:/runtime/params.json\n",
    "#!docker exec da1e5b452975 /runtime/program_starter.py"
   ]
  },
  {
   "cell_type": "code",
   "execution_count": 73,
   "metadata": {},
   "outputs": [],
   "source": [
    "result_ =  {\"model_state_dict\": \"gASVIwMAAAAAAACMC2NvbGxlY3Rpb25zlIwLT3JkZXJlZERpY3SUk5QpUpQojAZ3ZWlnaHSUjAx0b3JjaC5fdXRpbHOUjBJfcmVidWlsZF90ZW5zb3JfdjKUk5QojA10b3JjaC5zdG9yYWdllIwQX2xvYWRfZnJvbV9ieXRlc5STlEIbAQAAgAKKCmz8nEb5IGqoUBkugAJN6QMugAJ9cQAoWBAAAABwcm90b2NvbF92ZXJzaW9ucQFN6QNYDQAAAGxpdHRsZV9lbmRpYW5xAohYCgAAAHR5cGVfc2l6ZXNxA31xBChYBQAAAHNob3J0cQVLAlgDAAAAaW50cQZLBFgEAAAAbG9uZ3EHSwR1dS6AAihYBwAAAHN0b3JhZ2VxAGN0b3JjaApGbG9hdFN0b3JhZ2UKcQFYDgAAADk0MzE0MzkwODI0NDE2cQJYAwAAAGNwdXEDSwhOdHEEUS6AAl1xAFgOAAAAOTQzMTQzOTA4MjQ0MTZxAWEuCAAAAAAAAAB4jn9Tux9MUz/fhNJnFQNUwYjF02BNd9NUgivTIlsS05SFlFKUSwBLCIWUSwGFlIloAilSlHSUUpSMCF93ZWlnaHRzlGgHKGgKQhsBAACAAooKbPycRvkgaqhQGS6AAk3pAy6AAn1xAChYEAAAAHByb3RvY29sX3ZlcnNpb25xAU3pA1gNAAAAbGl0dGxlX2VuZGlhbnECiFgKAAAAdHlwZV9zaXplc3EDfXEEKFgFAAAAc2hvcnRxBUsCWAMAAABpbnRxBksEWAQAAABsb25ncQdLBHV1LoACKFgHAAAAc3RvcmFnZXEAY3RvcmNoCkZsb2F0U3RvcmFnZQpxAVgOAAAAOTQzMTQzOTA4MjQ0MTZxAlgDAAAAY3B1cQNLCE50cQRRLoACXXEAWA4AAAA5NDMxNDM5MDgyNDQxNnEBYS4IAAAAAAAAAHiOf1O7H0xTP9+E0mcVA1TBiMXTYE1301SCK9MiWxLTlIWUUpRLAEsIhZRLAYWUiWgCKVKUdJRSlHV9lIwJX21ldGFkYXRhlGgCKVKUjACUfZSMB3ZlcnNpb26USwFzc3NiLg==\", \"train_history\": {\"train\": [{\"epoch\": 0, \"loss\": 1.2358922958374023, \"forward_time\": 0.0, \"backward_time\": 0.0, \"epoch_time\": 63.84972834587097}], \"validation\": []}, \"train_time\": 63.85001063346863}"
   ]
  },
  {
   "cell_type": "code",
   "execution_count": 74,
   "metadata": {},
   "outputs": [],
   "source": [
    "torch_runtime_client._model.load_state_dict(str_to_obj(result_[\"model_state_dict\"]))\n",
    "\n",
    "# re-build result from serialized return value\n",
    "result = TorchRuntimeResult()\n",
    "result.job_id = 12345\n",
    "result.train_history = result_.get(\"train_history\", {}).get(\"train\", None)\n",
    "result.val_history = result_.get(\"train_history\", {}).get(\"val\", None)\n",
    "result.model_state_dict = str_to_obj(result_.get(\"model_state_dict\"))\n",
    "result.train_time = result_.get(\"train_time\")"
   ]
  },
  {
   "cell_type": "markdown",
   "metadata": {},
   "source": [
    "-------------------"
   ]
  },
  {
   "cell_type": "code",
   "execution_count": 75,
   "metadata": {},
   "outputs": [
    {
     "name": "stdout",
     "output_type": "stream",
     "text": [
      "id:  12345\n",
      "train history:  [{'epoch': 0, 'loss': 1.2358922958374023, 'forward_time': 0.0, 'backward_time': 0.0, 'epoch_time': 63.84972834587097}]\n",
      "validation history:  None\n",
      "train time:  63.85001063346863\n"
     ]
    }
   ],
   "source": [
    "print('id: ', result.job_id)\n",
    "print('train history: ', result.train_history)\n",
    "print('validation history: ', result.val_history)\n",
    "print('train time: ', result.train_time)\n"
   ]
  },
  {
   "cell_type": "markdown",
   "metadata": {},
   "source": [
    "We can also perform validation while training a model by passing a validation data loader to `fit` method."
   ]
  },
  {
   "cell_type": "code",
   "execution_count": 76,
   "metadata": {},
   "outputs": [],
   "source": [
    "# Create a data loader for validation\n",
    "X_test = 2*algorithm_globals.random.random([num_samples, num_inputs]) - 1\n",
    "y_test = 2*(np.sum(X_test, axis=1) >= 0)-1 # in {-1, +1}\n",
    "\n",
    "y_test_ = y_test.reshape(len(y_test), 1)\n",
    "val_set = TorchDataset(X_test,y_test_)\n",
    "val_loader = DataLoader(val_set, batch_size=1, shuffle=False)"
   ]
  },
  {
   "cell_type": "code",
   "execution_count": 77,
   "metadata": {},
   "outputs": [
    {
     "data": {
      "image/png": "[encoded data removed]",
      "text/plain": [
       "<Figure size 432x288 with 1 Axes>"
      ]
     },
     "metadata": {
      "needs_background": "light"
     },
     "output_type": "display_data"
    }
   ],
   "source": [
    "# Plot dataset\n",
    "for x, y_target in zip(X_test, y_test):\n",
    "    if y_target == 1:\n",
    "        plt.plot(x[0], x[1], 'bo')\n",
    "    else:\n",
    "        plt.plot(x[0], x[1], 'go')\n",
    "plt.plot([-1, 1], [1, -1], '--', color='black')\n",
    "plt.show()"
   ]
  },
  {
   "cell_type": "code",
   "execution_count": 38,
   "metadata": {},
   "outputs": [],
   "source": [
    "torch_runtime_client = TorchRuntimeClient(\n",
    "                                        provider=provider,\n",
    "                                        model=model1,\n",
    "                                        optimizer=optimizer,\n",
    "                                        loss_func=loss_func,\n",
    "                                        epochs=1,\n",
    "                                        backend=backend,\n",
    "                                        shots=1024,\n",
    "                                    )"
   ]
  },
  {
   "cell_type": "code",
   "execution_count": 29,
   "metadata": {},
   "outputs": [],
   "source": [
    "result = torch_runtime_client.fit(train_loader = train_loader, val_loader=val_loader, seed=seed)"
   ]
  },
  {
   "cell_type": "code",
   "execution_count": 28,
   "metadata": {},
   "outputs": [],
   "source": [
    "# result = torch_runtime_client.fit(train_loader = train_loader, seed=42)\n",
    "!docker cp ~/github/torch-runtime/src/torch_train.py da1e5b452975:/runtime/program.py\n",
    "!docker cp ./params.json da1e5b452975:/runtime/params.json\n",
    "#!docker exec da1e5b452975 /runtime/program_starter.py"
   ]
  },
  {
   "cell_type": "code",
   "execution_count": null,
   "metadata": {},
   "outputs": [],
   "source": []
  },
  {
   "cell_type": "code",
   "execution_count": 46,
   "metadata": {},
   "outputs": [
    {
     "data": {
      "image/png": "[encoded data removed]",
      "text/plain": [
       "<Figure size 432x288 with 1 Axes>"
      ]
     },
     "metadata": {
      "needs_background": "light"
     },
     "output_type": "display_data"
    }
   ],
   "source": [
    "# Plot dataset\n",
    "for x, y_target in zip(X, y):\n",
    "    if y_target == 1:\n",
    "        plt.plot(x[0], x[1], 'bo')\n",
    "    else:\n",
    "        plt.plot(x[0], x[1], 'go')\n",
    "plt.plot([-1, 1], [1, -1], '--', color='black')\n",
    "plt.show()"
   ]
  },
  {
   "cell_type": "code",
   "execution_count": null,
   "metadata": {},
   "outputs": [],
   "source": [
    "for x, y_target, y_p in zip(X, y, y_predict):\n",
    "    if y_target == 1:\n",
    "        plt.plot(x[0], x[1], 'bo')\n",
    "    else:\n",
    "        plt.plot(x[0], x[1], 'go')\n",
    "    if y_target != y_p:\n",
    "        plt.scatter(x[0], x[1], s=200, facecolors='none', edgecolors='r', linewidths=2)\n",
    "plt.plot([-1, 1], [1, -1], '--', color='black')\n",
    "plt.show()"
   ]
  },
  {
   "cell_type": "code",
   "execution_count": 79,
   "metadata": {},
   "outputs": [
    {
     "name": "stdout",
     "output_type": "stream",
     "text": [
      "/usr/local/lib/python3.8/site-packages/qiskit/opflow/primitive_ops/pauli_sum_op.py:316: DeprecationWarning: The SparsePauliOp.table method is deprecated as of Qiskit Terra 0.19.0 and will be removed no sooner than 3 months after the releasedate. Use SparsePauliOp.paulis method instead.\n",
      "  corrected_x_bits = self.primitive.table.X[::, ::-1]\n",
      "{\"prediction\": [[[-0.248046875]], [[-0.193359375]], [[0.685546875]], [[-0.68359375]], [[0.05078125]], [[-0.35546875]], [[-0.1953125]], [[-0.2734375]], [[-0.05078125]], [[-0.076171875]], [[-0.26953125]], [[-0.810546875]], [[-0.185546875]], [[-0.921875]], [[-0.162109375]], [[-0.880859375]], [[-0.177734375]], [[-0.13671875]], [[0.353515625]], [[0.091796875]]]}\n"
     ]
    }
   ],
   "source": [
    "prediction = torch_runtime_client.predict(data_loader = train_loader)\n",
    "\n",
    "!docker cp ~/github/torch-runtime/src/torch_infer.py da1e5b452975:/runtime/program.py\n",
    "!docker cp ./params.json da1e5b452975:/runtime/params.json\n",
    "!docker exec da1e5b452975 /runtime/program_starter.py"
   ]
  },
  {
   "cell_type": "code",
   "execution_count": 81,
   "metadata": {},
   "outputs": [],
   "source": [
    "output = {\"prediction\": [[[-0.248046875]], [[-0.193359375]], [[0.685546875]], [[-0.68359375]], [[0.05078125]], [[-0.35546875]], [[-0.1953125]], [[-0.2734375]], [[-0.05078125]], [[-0.076171875]], [[-0.26953125]], [[-0.810546875]], [[-0.185546875]], [[-0.921875]], [[-0.162109375]], [[-0.880859375]], [[-0.177734375]], [[-0.13671875]], [[0.353515625]], [[0.091796875]]]}\n",
    "\n",
    "out_tensor = Tensor(output[\"prediction\"])\n",
    "#out_tensor"
   ]
  },
  {
   "cell_type": "code",
   "execution_count": 82,
   "metadata": {},
   "outputs": [
    {
     "name": "stdout",
     "output_type": "stream",
     "text": [
      "[-1.0, -1.0, 1.0, -1.0, 1.0, -1.0, -1.0, -1.0, -1.0, -1.0, -1.0, -1.0, -1.0, -1.0, -1.0, -1.0, -1.0, -1.0, 1.0, 1.0]\n"
     ]
    }
   ],
   "source": [
    "y_predict = []\n",
    "for out in out_tensor:\n",
    "    #print(np.sign(out.item()))\n",
    "    y_predict += [np.sign(out.item())]\n",
    "print(y_predict)\n"
   ]
  },
  {
   "cell_type": "code",
   "execution_count": 83,
   "metadata": {},
   "outputs": [
    {
     "name": "stdout",
     "output_type": "stream",
     "text": [
      "Accuracy: 0.4\n"
     ]
    }
   ],
   "source": [
    "print('Accuracy:', sum(y_predict == y)/len(y))"
   ]
  },
  {
   "cell_type": "code",
   "execution_count": 65,
   "metadata": {},
   "outputs": [
    {
     "name": "stdout",
     "output_type": "stream",
     "text": [
      "Accuracy: 0.35\n"
     ]
    }
   ],
   "source": [
    "print('Accuracy:', sum(y_predict == y_test)/len(y_test))"
   ]
  },
  {
   "cell_type": "code",
   "execution_count": 84,
   "metadata": {},
   "outputs": [
    {
     "data": {
      "image/png": "[encoded data removed]",
      "text/plain": [
       "<Figure size 432x288 with 1 Axes>"
      ]
     },
     "metadata": {
      "needs_background": "light"
     },
     "output_type": "display_data"
    }
   ],
   "source": [
    "for x, y_target, y_p in zip(X, y, y_predict):\n",
    "    if y_target == 1:\n",
    "        plt.plot(x[0], x[1], 'bo')\n",
    "    else:\n",
    "        plt.plot(x[0], x[1], 'go')\n",
    "    if y_target != y_p:\n",
    "        plt.scatter(x[0], x[1], s=200, facecolors='none', edgecolors='r', linewidths=2)\n",
    "plt.plot([-1, 1], [1, -1], '--', color='black')\n",
    "plt.show()"
   ]
  },
  {
   "cell_type": "code",
   "execution_count": null,
   "metadata": {},
   "outputs": [],
   "source": []
  },
  {
   "cell_type": "code",
   "execution_count": null,
   "metadata": {},
   "outputs": [
    {
     "name": "stdout",
     "output_type": "stream",
     "text": [
      "/usr/local/lib/python3.8/site-packages/qiskit/opflow/primitive_ops/pauli_sum_op.py:316: DeprecationWarning: The SparsePauliOp.table method is deprecated as of Qiskit Terra 0.19.0 and will be removed no sooner than 3 months after the releasedate. Use SparsePauliOp.paulis method instead.\n",
      "  corrected_x_bits = self.primitive.table.X[::, ::-1]\n",
      "{\"score\": 0.007013784927285088, \"prediction\": [[[-0.119140625]], [[-0.25]], [[-0.3515625]], [[-0.49609375]], [[-0.59375]], [[-0.642578125]], [[-0.78125]], [[-0.837890625]], [[-0.9140625]], [[-0.9453125]], [[-0.982421875]], [[-0.998046875]], [[-0.998046875]], [[-0.982421875]], [[-0.9296875]], [[-0.90625]], [[-0.806640625]], [[-0.703125]], [[-0.650390625]], [[-0.5859375]], [[-0.4609375]], [[-0.34765625]], [[-0.177734375]], [[-0.052734375]], [[0.0]], [[0.162109375]], [[0.27734375]], [[0.361328125]], [[0.57421875]], [[0.640625]], [[0.6953125]], [[0.830078125]], [[0.892578125]], [[0.921875]], [[0.9609375]], [[0.994140625]], [[1.0]], [[0.99609375]], [[0.958984375]], [[0.927734375]], [[0.876953125]], [[0.787109375]], [[0.716796875]], [[0.638671875]], [[0.5078125]], [[0.35546875]], [[0.212890625]], [[0.146484375]], [[-0.01953125]], [[-0.1015625]]]}\n"
     ]
    }
   ],
   "source": [
    "# train_loader5 = DataLoader(train_set, batch_size=5, shuffle=False)\n",
    "# score = runtime_torch.score(data_loader = train_loader5, score_func = \"Regression\")\n",
    "score = runtime_torch.score(data_loader = test_loader, score_func = \"Regression\")\n",
    "\n",
    "!docker cp ../src/torch_infer.py da1e5b452975:/runtime/program.py\n",
    "!docker cp ./params.json da1e5b452975:/runtime/params.json\n",
    "!docker exec da1e5b452975 /runtime/program_starter.py"
   ]
  },
  {
   "cell_type": "code",
   "execution_count": null,
   "metadata": {},
   "outputs": [],
   "source": [
    "result = "
   ]
  },
  {
   "cell_type": "code",
   "execution_count": 26,
   "metadata": {},
   "outputs": [],
   "source": [
    "y_ = y.reshape(len(y), 1)\n",
    "train_set = TorchDataset(X,y_)\n",
    "train_loader = DataLoader(train_set, batch_size=1, shuffle=False)"
   ]
  },
  {
   "cell_type": "code",
   "execution_count": 34,
   "metadata": {},
   "outputs": [
    {
     "ename": "NameError",
     "evalue": "name 'TorchRuntimeClient' is not defined",
     "output_type": "error",
     "traceback": [
      "\u001b[0;31m---------------------------------------------------------------------------\u001b[0m",
      "\u001b[0;31mNameError\u001b[0m                                 Traceback (most recent call last)",
      "\u001b[0;32m/var/folders/vz/b1fyphrd1031ddfd1xdhjq_m0000gn/T/ipykernel_80689/3056355848.py\u001b[0m in \u001b[0;36m<module>\u001b[0;34m\u001b[0m\n\u001b[0;32m----> 1\u001b[0;31m torch_runtime_client = TorchRuntimeClient(\n\u001b[0m\u001b[1;32m      2\u001b[0m                                  \u001b[0mprovider\u001b[0m\u001b[0;34m=\u001b[0m\u001b[0mprovider\u001b[0m\u001b[0;34m,\u001b[0m\u001b[0;34m\u001b[0m\u001b[0;34m\u001b[0m\u001b[0m\n\u001b[1;32m      3\u001b[0m                                  \u001b[0mmodel\u001b[0m\u001b[0;34m=\u001b[0m\u001b[0mmodel1\u001b[0m\u001b[0;34m,\u001b[0m\u001b[0;34m\u001b[0m\u001b[0;34m\u001b[0m\u001b[0m\n\u001b[1;32m      4\u001b[0m                                  \u001b[0moptimizer\u001b[0m\u001b[0;34m=\u001b[0m\u001b[0moptimizer\u001b[0m\u001b[0;34m,\u001b[0m\u001b[0;34m\u001b[0m\u001b[0;34m\u001b[0m\u001b[0m\n\u001b[1;32m      5\u001b[0m                                  \u001b[0mloss_func\u001b[0m\u001b[0;34m=\u001b[0m\u001b[0mloss_func\u001b[0m\u001b[0;34m,\u001b[0m\u001b[0;34m\u001b[0m\u001b[0;34m\u001b[0m\u001b[0m\n",
      "\u001b[0;31mNameError\u001b[0m: name 'TorchRuntimeClient' is not defined"
     ]
    }
   ],
   "source": [
    "torch_runtime_client = TorchRuntimeClient(\n",
    "                                 provider=provider,\n",
    "                                 model=model1,\n",
    "                                 optimizer=optimizer,\n",
    "                                 loss_func=loss_func,\n",
    "                                 epochs=5,\n",
    "                                 backend=backend,\n",
    "                                 shots=1024,\n",
    "                                 #callback=callback\n",
    "                                 )"
   ]
  },
  {
   "cell_type": "code",
   "execution_count": 23,
   "metadata": {},
   "outputs": [
    {
     "data": {
      "text/plain": [
       "<function torch.is_tensor(obj)>"
      ]
     },
     "execution_count": 23,
     "metadata": {},
     "output_type": "execute_result"
    }
   ],
   "source": [
    "is_tensor"
   ]
  },
  {
   "cell_type": "code",
   "execution_count": 19,
   "metadata": {},
   "outputs": [],
   "source": [
    "y_ = y.reshape(len(y), 1)"
   ]
  },
  {
   "cell_type": "code",
   "execution_count": 20,
   "metadata": {},
   "outputs": [],
   "source": [
    "train_set = TorchDataset(X,y_)\n",
    "train_loader = DataLoader(train_set, batch_size=1, shuffle=False)\n"
   ]
  },
  {
   "cell_type": "code",
   "execution_count": 21,
   "metadata": {},
   "outputs": [
    {
     "name": "stdout",
     "output_type": "stream",
     "text": [
      "tensor([[-0.1257,  0.6654]]) tensor([[1.]])\n",
      "tensor([[ 0.4005, -0.3753]]) tensor([[1.]])\n",
      "tensor([[0.6645, 0.6095]]) tensor([[1.]])\n",
      "tensor([[-0.2250, -0.4233]]) tensor([[-1.]])\n",
      "tensor([[ 0.3650, -0.7205]]) tensor([[-1.]])\n",
      "tensor([[-0.6002, -0.9853]]) tensor([[-1.]])\n",
      "tensor([[0.5738, 0.3297]]) tensor([[1.]])\n",
      "tensor([[0.4103, 0.5615]]) tensor([[1.]])\n",
      "tensor([[-0.0822,  0.1375]]) tensor([[1.]])\n",
      "tensor([[-0.7204, -0.7709]]) tensor([[-1.]])\n",
      "tensor([[ 0.3368, -0.0578]]) tensor([[1.]])\n",
      "tensor([[0.1305, 0.5300]]) tensor([[1.]])\n",
      "tensor([[0.2694, 0.1072]]) tensor([[1.]])\n",
      "tensor([[ 0.1184, -0.3921]]) tensor([[-1.]])\n",
      "tensor([[-0.9384, -0.1266]]) tensor([[-1.]])\n",
      "tensor([[-0.5708, -0.1829]]) tensor([[-1.]])\n",
      "tensor([[ 0.7068, -0.5321]]) tensor([[1.]])\n",
      "tensor([[-0.8834, -0.4372]]) tensor([[-1.]])\n",
      "tensor([[-0.4128,  0.3238]]) tensor([[-1.]])\n",
      "tensor([[0.1141, 0.5678]]) tensor([[1.]])\n"
     ]
    }
   ],
   "source": [
    "for data, target in train_loader:\n",
    "    print(data, target)"
   ]
  },
  {
   "cell_type": "code",
   "execution_count": 8,
   "metadata": {},
   "outputs": [
    {
     "data": {
      "text/plain": [
       "tensor([[ 1.],\n",
       "        [ 1.],\n",
       "        [ 1.],\n",
       "        [-1.],\n",
       "        [-1.],\n",
       "        [-1.],\n",
       "        [ 1.],\n",
       "        [ 1.],\n",
       "        [ 1.],\n",
       "        [-1.],\n",
       "        [ 1.],\n",
       "        [ 1.],\n",
       "        [ 1.],\n",
       "        [-1.],\n",
       "        [-1.],\n",
       "        [-1.],\n",
       "        [ 1.],\n",
       "        [-1.],\n",
       "        [-1.],\n",
       "        [ 1.]])"
      ]
     },
     "execution_count": 8,
     "metadata": {},
     "output_type": "execute_result"
    }
   ],
   "source": [
    "\n",
    "# Convert to torch Tensors\n",
    "X_ = Tensor(X)\n",
    "y_ = Tensor(y).reshape(len(y), 1)\n",
    "y_"
   ]
  },
  {
   "cell_type": "code",
   "execution_count": 5,
   "metadata": {},
   "outputs": [
    {
     "data": {
      "text/plain": [
       "array([ 1,  1,  1,  1, -1,  1,  1, -1, -1,  1,  1,  1, -1, -1, -1,  1, -1,\n",
       "       -1, -1, -1])"
      ]
     },
     "execution_count": 5,
     "metadata": {},
     "output_type": "execute_result"
    }
   ],
   "source": [
    "y"
   ]
  },
  {
   "cell_type": "code",
   "execution_count": 9,
   "metadata": {},
   "outputs": [],
   "source": [
    "# Create custom torch dataset class\n",
    "\n",
    "from torch.utils.data import Dataset, DataLoader\n",
    "from torch import Tensor\n",
    "import torch\n",
    "\n",
    "class TorchDataset(Dataset):\n",
    "\n",
    "    \"\"\"Map-style dataset\"\"\"\n",
    "    def __init__(self, X, y):\n",
    "        self.X = Tensor(X)\n",
    "        self.y = Tensor(y)\n",
    "\n",
    "    def __len__(self):\n",
    "        return len(self.X)\n",
    "\n",
    "    def __getitem__(self, idx):\n",
    "        import torch\n",
    "        if torch.is_tensor(idx):\n",
    "            idx = idx.tolist()\n",
    "\n",
    "        X_i = self.X[idx]\n",
    "        y_i = self.y[idx]\n",
    "\n",
    "        # important: the dataset item must be returned as data,target\n",
    "        return X_i, y_i"
   ]
  },
  {
   "cell_type": "code",
   "execution_count": null,
   "metadata": {},
   "outputs": [],
   "source": []
  }
 ],
 "metadata": {
  "interpreter": {
   "hash": "577834d0302428d6c427bd5655baa7dae859c2df5aa4aa3ef1d5439e5cfade6d"
  },
  "kernelspec": {
   "display_name": "Python 3.8.6 64-bit ('torch-new': venv)",
   "name": "python3"
  },
  "language_info": {
   "codemirror_mode": {
    "name": "ipython",
    "version": 3
   },
   "file_extension": ".py",
   "mimetype": "text/x-python",
   "name": "python",
   "nbconvert_exporter": "python",
   "pygments_lexer": "ipython3",
   "version": "3.8.6"
  },
  "orig_nbformat": 4
 },
 "nbformat": 4,
 "nbformat_minor": 2
}
