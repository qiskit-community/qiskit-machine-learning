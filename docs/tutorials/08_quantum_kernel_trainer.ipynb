{
 "cells": [
  {
   "cell_type": "markdown",
   "id": "38df9aa0",
   "metadata": {},
   "source": [
    "# Quantum Kernel Training for Machine Learning Applications\n",
    "\n",
    "In this tutorial, we will train a quantum kernel on a labeled dataset for a machine learning application. To illustrate the basic steps, we will use Quantum Kernel Alignment (QKA) for a binary classification task. QKA is a technique that iteratively adapts a parametrized quantum kernel to a dataset while converging to the maximum SVM margin. More information about QKA can be found in the preprint, [\"Covariant quantum kernels for data with group structure.\"](https://arxiv.org/abs/2105.03406)\n",
    "\n",
    "\n",
    "The entry point to training a quantum kernel is the `QuantumKernelTrainer` class. The basic steps are:\n",
    "\n",
    "1. Prepare the dataset\n",
    "2. Define the quantum feature map\n",
    "3. Set up the `QuantumKernel` and `QuantumKernelTrainer` objects\n",
    "4. Use the `QuantumKernelTrainer.fit` method to train the kernel parameters on the dataset\n",
    "5. Pass the trained quantum kernel to a machine learning model"
   ]
  },
  {
   "cell_type": "markdown",
   "id": "ed6aafa9",
   "metadata": {},
   "source": [
    "### Import Local, External, and Qiskit Packages and define a callback class for our optimizer"
   ]
  },
  {
   "cell_type": "code",
   "execution_count": 1,
   "id": "1a646351",
   "metadata": {},
   "outputs": [],
   "source": [
    "# External imports\n",
    "from pylab import cm\n",
    "import pandas as pd\n",
    "from sklearn import metrics\n",
    "import numpy as np\n",
    "import matplotlib.pyplot as plt\n",
    "\n",
    "%matplotlib inline\n",
    "\n",
    "# Qiskit imports\n",
    "from qiskit import QuantumCircuit\n",
    "from qiskit.circuit import ParameterVector\n",
    "from qiskit.providers.aer import AerSimulator\n",
    "from qiskit.visualization import circuit_drawer\n",
    "from qiskit.algorithms.optimizers import SPSA\n",
    "from qiskit.circuit.library import ZZFeatureMap\n",
    "from qiskit_machine_learning.kernels import QuantumKernel\n",
    "from qiskit_machine_learning.kernels.algorithms import QuantumKernelTrainer\n",
    "from qiskit_machine_learning.algorithms import QSVC\n",
    "from qiskit_machine_learning.datasets import ad_hoc_data\n",
    "\n",
    "\n",
    "class QKTCallback:\n",
    "    \"\"\"Callback wrapper class.\"\"\"\n",
    "\n",
    "    def __init__(self) -> None:\n",
    "        self._data = [[] for i in range(5)]\n",
    "\n",
    "    def callback(self, x0, x1=None, x2=None, x3=None, x4=None):\n",
    "        \"\"\"\n",
    "        Args:\n",
    "            x0: number of function evaluations\n",
    "            x1: the parameters\n",
    "            x2: the function value\n",
    "            x3: the stepsize\n",
    "            x4: whether the step was accepted\n",
    "        \"\"\"\n",
    "        self._data[0].append(x0)\n",
    "        self._data[1].append(x1)\n",
    "        self._data[2].append(x2)\n",
    "        self._data[3].append(x3)\n",
    "        self._data[4].append(x4)\n",
    "\n",
    "    def get_callback_data(self):\n",
    "        return self._data\n",
    "\n",
    "    def clear_callback_data(self):\n",
    "        self._data = [[] for i in range(5)]"
   ]
  },
  {
   "cell_type": "markdown",
   "id": "39535c04",
   "metadata": {},
   "source": [
    "### Prepare the Dataset\n",
    "\n",
    "In this guide, we will use Qiskit Machine Learning's `ad_hoc.py` dataset to demonstrate the kernel training process. See the documentation [here](https://qiskit.org/documentation/machine-learning/stubs/qiskit_machine_learning.datasets.ad_hoc_data.html)."
   ]
  },
  {
   "cell_type": "code",
   "execution_count": 2,
   "id": "2311cff1",
   "metadata": {},
   "outputs": [
    {
     "data": {
      "image/png": "[encoded data removed]",
      "text/plain": [
       "<Figure size 360x360 with 1 Axes>"
      ]
     },
     "metadata": {
      "needs_background": "light"
     },
     "output_type": "display_data"
    }
   ],
   "source": [
    "adhoc_dimension = 2\n",
    "X_train, y_train, X_test, y_test, adhoc_total = ad_hoc_data(\n",
    "    training_size=20,\n",
    "    test_size=5,\n",
    "    n=adhoc_dimension,\n",
    "    gap=0.3,\n",
    "    plot_data=False,\n",
    "    one_hot=False,\n",
    "    include_sample_total=True,\n",
    ")\n",
    "\n",
    "plt.figure(figsize=(5, 5))\n",
    "plt.ylim(0, 2 * np.pi)\n",
    "plt.xlim(0, 2 * np.pi)\n",
    "plt.imshow(\n",
    "    np.asmatrix(adhoc_total).T,\n",
    "    interpolation=\"nearest\",\n",
    "    origin=\"lower\",\n",
    "    cmap=\"RdBu\",\n",
    "    extent=[0, 2 * np.pi, 0, 2 * np.pi],\n",
    ")\n",
    "\n",
    "plt.scatter(\n",
    "    X_train[np.where(y_train[:] == 0), 0],\n",
    "    X_train[np.where(y_train[:] == 0), 1],\n",
    "    marker=\"s\",\n",
    "    facecolors=\"w\",\n",
    "    edgecolors=\"b\",\n",
    "    label=\"A train\",\n",
    ")\n",
    "plt.scatter(\n",
    "    X_train[np.where(y_train[:] == 1), 0],\n",
    "    X_train[np.where(y_train[:] == 1), 1],\n",
    "    marker=\"o\",\n",
    "    facecolors=\"w\",\n",
    "    edgecolors=\"r\",\n",
    "    label=\"B train\",\n",
    ")\n",
    "plt.scatter(\n",
    "    X_test[np.where(y_test[:] == 0), 0],\n",
    "    X_test[np.where(y_test[:] == 0), 1],\n",
    "    marker=\"s\",\n",
    "    facecolors=\"b\",\n",
    "    edgecolors=\"w\",\n",
    "    label=\"A test\",\n",
    ")\n",
    "plt.scatter(\n",
    "    X_test[np.where(y_test[:] == 1), 0],\n",
    "    X_test[np.where(y_test[:] == 1), 1],\n",
    "    marker=\"o\",\n",
    "    facecolors=\"r\",\n",
    "    edgecolors=\"w\",\n",
    "    label=\"B test\",\n",
    ")\n",
    "\n",
    "plt.legend(bbox_to_anchor=(1.05, 1), loc=\"upper left\", borderaxespad=0.0)\n",
    "plt.title(\"Ad hoc dataset for classification\")\n",
    "\n",
    "plt.show()"
   ]
  },
  {
   "cell_type": "markdown",
   "id": "41a439be",
   "metadata": {},
   "source": [
    "### Define the Quantum Feature Map\n",
    "\n",
    "Next, we set up the quantum feature map, which encodes classical data into the quantum state space. Here, we use a `QuantumCircuit` to set up a trainable rotation layer and a `ZZFeatureMap` from `Qiskit` to represent the input data."
   ]
  },
  {
   "cell_type": "code",
   "execution_count": 3,
   "id": "60b58ede",
   "metadata": {},
   "outputs": [
    {
     "name": "stdout",
     "output_type": "stream",
     "text": [
      "     ┌──────────┐┌──────────────────────────┐\n",
      "q_0: ┤ Ry(θ[0]) ├┤0                         ├\n",
      "     ├──────────┤│  ZZFeatureMap(x[0],x[1]) │\n",
      "q_1: ┤ Ry(θ[0]) ├┤1                         ├\n",
      "     └──────────┘└──────────────────────────┘\n",
      "Trainable parameters: θ, ['θ[0]']\n"
     ]
    }
   ],
   "source": [
    "# Create a rotational layer to train. We will rotate each qubit the same amount.\n",
    "training_params = ParameterVector(\"θ\", 1)\n",
    "fm0 = QuantumCircuit(2)\n",
    "fm0.ry(training_params[0], 0)\n",
    "fm0.ry(training_params[0], 1)\n",
    "\n",
    "# Use ZZFeatureMap to represent input data\n",
    "fm1 = ZZFeatureMap(2)\n",
    "\n",
    "# Create the feature map, composed of our two circuits\n",
    "fm = fm0.compose(fm1)\n",
    "\n",
    "print(circuit_drawer(fm))\n",
    "print(f\"Trainable parameters: {training_params}\")"
   ]
  },
  {
   "cell_type": "markdown",
   "id": "54ae41ca",
   "metadata": {},
   "source": [
    "### Set Up the Quantum Kernel and Quantum Kernel Trainer\n",
    "\n",
    "To train the quantum kernel, we need a `QuantumKernel` (holds the feature map and its parameters) and `QuantumKernelTrainer` (manages the training process).\n",
    "\n",
    "We will train using the Quantum Kernel Alignment technique by selecting the kernel loss function, `SVCLoss`, as input to the `QuantumKernelTrainer`. Since this is a Qiskit-supported loss, we can use the string, `\"svc_loss\"`; however, note that default settings are used when passing the loss as a string. For custom settings, instantiate explicitly with the desired options, and pass the `KernelLoss` object to the `QuantumKernelTrainer`.\n",
    "\n",
    "We will select SPSA as the optimizer and initialize the trainable parameter with the `initial_point` argument. Note: The length of the list passed as the `initial_point` argument must equal the number of trainable parameters in the feature map."
   ]
  },
  {
   "cell_type": "code",
   "execution_count": 4,
   "id": "a190efef",
   "metadata": {},
   "outputs": [],
   "source": [
    "# Use the qasm simulator backend\n",
    "backend = AerSimulator(method=\"statevector\")\n",
    "\n",
    "# Instantiate quantum kernel\n",
    "quant_kernel = QuantumKernel(fm, training_parameters=training_params, quantum_instance=backend)\n",
    "\n",
    "# Set up the optimizer\n",
    "cb_qkt = QKTCallback()\n",
    "spsa_opt = SPSA(maxiter=10, callback=cb_qkt.callback, learning_rate=0.05, perturbation=0.05)\n",
    "\n",
    "# Instantiate a quantum kernel trainer.\n",
    "qkt = QuantumKernelTrainer(\n",
    "    quantum_kernel=quant_kernel, loss=\"svc_loss\", optimizer=spsa_opt, initial_point=[np.pi / 2]\n",
    ")"
   ]
  },
  {
   "cell_type": "markdown",
   "id": "b6f4fd48",
   "metadata": {},
   "source": [
    "### Train the Quantum Kernel\n",
    "\n",
    "To train the quantum kernel on the dataset (samples and labels), we call the `fit` method of `QuantumKernelTrainer`.\n",
    "\n",
    "The output of `QuantumKernelTrainer.fit` is a `QuantumKernelTrainerResult` object. The results object contains the following class fields:\n",
    " - `optimal_parameters`: A dictionary containing {parameter: optimal value} pairs\n",
    " - `optimal_point`: The optimal parameter value found in training\n",
    " - `optimal_value`: The value of the loss function at the optimal point\n",
    " - `optimizer_evals`: The number of evaluations performed by the optimizer\n",
    " - `optimizer_time`: The amount of time taken to perform optimization\n",
    " - `quantum_kernel`: A `QuantumKernel` object with optimal values bound to the feature map"
   ]
  },
  {
   "cell_type": "code",
   "execution_count": 5,
   "id": "9d26212c",
   "metadata": {},
   "outputs": [
    {
     "name": "stdout",
     "output_type": "stream",
     "text": [
      "{   'optimal_parameters': {ParameterVectorElement(θ[0]): -0.10325753178630048},\n",
      "    'optimal_point': array([-0.10325753]),\n",
      "    'optimal_value': 8.699195960360393,\n",
      "    'optimizer_evals': 30,\n",
      "    'optimizer_time': None,\n",
      "    'quantum_kernel': <qiskit_machine_learning.kernels.quantum_kernel.QuantumKernel object at 0x7f21c53e9fc0>}\n"
     ]
    }
   ],
   "source": [
    "# Train the kernel using QKT directly\n",
    "qka_results = qkt.fit(X_train, y_train)\n",
    "optimized_kernel = qka_results.quantum_kernel\n",
    "print(qka_results)"
   ]
  },
  {
   "cell_type": "markdown",
   "id": "5455be3c",
   "metadata": {},
   "source": [
    "### Fit and Test the Model\n",
    "\n",
    "We can pass the trained quantum kernel to a machine learning model, then fit the model and test on new data. Here, we will use Qiskit's `QSVC` for classification."
   ]
  },
  {
   "cell_type": "code",
   "execution_count": 6,
   "id": "e716655f",
   "metadata": {},
   "outputs": [
    {
     "name": "stdout",
     "output_type": "stream",
     "text": [
      "accuracy test: 1.0\n"
     ]
    }
   ],
   "source": [
    "# Use QSVC for classification\n",
    "qsvc = QSVC(quantum_kernel=optimized_kernel)\n",
    "\n",
    "# Fit the QSVC\n",
    "qsvc.fit(X_train, y_train)\n",
    "\n",
    "# Predict the labels\n",
    "labels_test = qsvc.predict(X_test)\n",
    "\n",
    "# Evalaute the test accuracy\n",
    "accuracy_test = metrics.balanced_accuracy_score(y_true=y_test, y_pred=labels_test)\n",
    "print(f\"accuracy test: {accuracy_test}\")"
   ]
  },
  {
   "cell_type": "markdown",
   "id": "9cd4cbf2",
   "metadata": {},
   "source": [
    "### Visualize the Kernel Training Process\n",
    "\n",
    "From the callback data, we can plot how the loss evolves during the training process. We see it converges rapidly and reaches 100% test accuracy on this dataset with our choice of inputs.\n",
    "\n",
    "We can also display the final kernel matrix, which is a measure of similarity between the training samples."
   ]
  },
  {
   "cell_type": "code",
   "execution_count": 7,
   "id": "0cb85c46",
   "metadata": {},
   "outputs": [
    {
     "data": {
      "image/png": "[encoded data removed]",
      "text/plain": [
       "<Figure size 1008x360 with 2 Axes>"
      ]
     },
     "metadata": {
      "needs_background": "light"
     },
     "output_type": "display_data"
    }
   ],
   "source": [
    "plot_data = cb_qkt.get_callback_data()  # callback data\n",
    "K = optimized_kernel.evaluate(X_train)  # kernel matrix evaluated on the training samples\n",
    "\n",
    "plt.rcParams[\"font.size\"] = 20\n",
    "fig, ax = plt.subplots(1, 2, figsize=(14, 5))\n",
    "ax[0].plot([i + 1 for i in range(len(plot_data[0]))], np.array(plot_data[2]), c=\"k\", marker=\"o\")\n",
    "ax[0].set_xlabel(\"Iterations\")\n",
    "ax[0].set_ylabel(\"Loss\")\n",
    "ax[1].imshow(K, cmap=cm.get_cmap(\"bwr\", 20))\n",
    "fig.tight_layout()\n",
    "plt.show()"
   ]
  },
  {
   "cell_type": "code",
   "execution_count": 8,
   "id": "aa6e50bc",
   "metadata": {},
   "outputs": [
    {
     "data": {
      "text/html": [
       "<h3>Version Information</h3><table><tr><th>Qiskit Software</th><th>Version</th></tr><tr><td><code>qiskit-terra</code></td><td>0.20.1</td></tr><tr><td><code>qiskit-aer</code></td><td>0.10.4</td></tr><tr><td><code>qiskit-ignis</code></td><td>0.7.0</td></tr><tr><td><code>qiskit-ibmq-provider</code></td><td>0.19.1</td></tr><tr><td><code>qiskit</code></td><td>0.36.1</td></tr><tr><td><code>qiskit-machine-learning</code></td><td>0.5.0</td></tr><tr><th>System information</th></tr><tr><td>Python version</td><td>3.10.4</td></tr><tr><td>Python compiler</td><td>GCC 7.5.0</td></tr><tr><td>Python build</td><td>main, Mar 31 2022 08:41:55</td></tr><tr><td>OS</td><td>Linux</td></tr><tr><td>CPUs</td><td>2</td></tr><tr><td>Memory (Gb)</td><td>15.501880645751953</td></tr><tr><td colspan='2'>Wed May 04 09:45:00 2022 PDT</td></tr></table>"
      ],
      "text/plain": [
       "<IPython.core.display.HTML object>"
      ]
     },
     "metadata": {},
     "output_type": "display_data"
    },
    {
     "data": {
      "text/html": [
       "<div style='width: 100%; background-color:#d5d9e0;padding-left: 10px; padding-bottom: 10px; padding-right: 10px; padding-top: 5px'><h3>This code is a part of Qiskit</h3><p>&copy; Copyright IBM 2017, 2022.</p><p>This code is licensed under the Apache License, Version 2.0. You may<br>obtain a copy of this license in the LICENSE.txt file in the root directory<br> of this source tree or at http://www.apache.org/licenses/LICENSE-2.0.<p>Any modifications or derivative works of this code must retain this<br>copyright notice, and modified files need to carry a notice indicating<br>that they have been altered from the originals.</p></div>"
      ],
      "text/plain": [
       "<IPython.core.display.HTML object>"
      ]
     },
     "metadata": {},
     "output_type": "display_data"
    }
   ],
   "source": [
    "import qiskit.tools.jupyter\n",
    "\n",
    "%qiskit_version_table\n",
    "%qiskit_copyright"
   ]
  },
  {
   "cell_type": "code",
   "execution_count": null,
   "id": "2116e41c",
   "metadata": {},
   "outputs": [],
   "source": []
  },
  {
   "cell_type": "code",
   "execution_count": null,
   "id": "f32a9b27",
   "metadata": {},
   "outputs": [],
   "source": []
  },
  {
   "cell_type": "code",
   "execution_count": null,
   "id": "6f6a4b09",
   "metadata": {},
   "outputs": [],
   "source": []
  },
  {
   "cell_type": "code",
   "execution_count": null,
   "id": "0e3658bc",
   "metadata": {},
   "outputs": [],
   "source": []
  },
  {
   "cell_type": "code",
   "execution_count": null,
   "id": "92490ddc",
   "metadata": {},
   "outputs": [],
   "source": []
  }
 ],
 "metadata": {
  "kernelspec": {
   "display_name": "Python 3 (ipykernel)",
   "language": "python",
   "name": "python3"
  },
  "language_info": {
   "codemirror_mode": {
    "name": "ipython",
    "version": 3
   },
   "file_extension": ".py",
   "mimetype": "text/x-python",
   "name": "python",
   "nbconvert_exporter": "python",
   "pygments_lexer": "ipython3",
   "version": "3.10.4"
  },
  "rise": {
   "height": "90%",
   "scroll": true,
   "start_slideshow_at": "beginning",
   "theme": "white",
   "transition": "zoom",
   "width": "90%"
  }
 },
 "nbformat": 4,
 "nbformat_minor": 5
}
