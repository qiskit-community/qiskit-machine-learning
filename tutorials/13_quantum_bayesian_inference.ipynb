{
 "cells": [
  {
   "cell_type": "markdown",
   "id": "4f1ee7dfd66dd6ac",
   "metadata": {
    "collapsed": false
   },
   "source": [
    "# Quantum Bayesian Inference\n",
    "\n",
    "## Overview\n",
    "This notebook demonstrates a quantum Bayesian inference (QBI) implementations provided in `qiskit-machine-learning`, and how it can be integrated into basic quantum machine learning (QML) workflows.\n",
    "\n",
    "The tutorial is structured as follows:\n",
    "\n",
    "1. [Introduction](#1.-introduction)\n",
    "2. [How to Instantiate QBI](#2.-how-to-instantiate-qbi)\n",
    "3. [How to Run Rejection Sampling](#3.-how-to-run-rejection-sampling)\n",
    "4. [How to Run an Inference](#4.-how-to-run-an-inference)"
   ]
  },
  {
   "cell_type": "markdown",
   "id": "494f210f33019c5b",
   "metadata": {
    "collapsed": false
   },
   "source": [
    "## 1. Introduction"
   ]
  },
  {
   "cell_type": "markdown",
   "id": "f65b0713535b3fd6",
   "metadata": {
    "collapsed": false
   },
   "source": [
    "### 1.1. Quantum vs. Classical Bayesian Inference\n",
    "\n",
    "Bayesian networks, or belief networks, are graphical models that illustrate probabilistic relationships between variables using nodes (representing variables) and edges (indicating conditional dependencies) in a directed acyclic graph. Each node is associated with conditional probability tables (CPTs) that detail the influence of parent nodes on their children. \n",
    "\n",
    "In these networks, Bayesian inference is key for updating probabilities. It employs Bayes' theorem to revise the likelihood of hypotheses based on new data, considering the network's variable interdependencies. For instance, in a network assessing diseases based on symptoms, observing new symptoms allows for recalculating disease probabilities. This recalibration combines the disease's prior probability with the observed symptom likelihood, leading to an updated, more precise disease probability. Thus, Bayesian inference is a dynamic process of adjusting our understanding of one variable in light of new information about others, facilitating informed, evidence-based decisions.\n",
    "\n",
    "Exact inference on Bayesian networks is \\#P-hard. That is why usually approximate inference is used to sample from the distribution on query variables given evidence variables. QBI efficiently utilizes the structure of Bayesian networks represented by a quantum circuit that represent the probability distributions. By employing a quantum version of rejection sampling and leveraging amplitude amplification, quantum computation achieves a significant speedup, making it possible to obtain samples much faster. \n",
    "\n",
    "This tutorial will guide you through the process of using the QBayesian class to perform such inference tasks. This inference algorithm implements the algorithm from the paper \"Quantum inference on Bayesian networks\" by Low, Guang Hao et al. This leads to a speedup per sample from $O(nmP(e)^{-1})$ to $O(n2^{m}P(e)^{-\\frac{1}{2}})$, where n is the number of nodes in the Bayesian network with at most m parents per node and e the evidence.\n",
    "\n",
    "### 1.2. Implementation in `qiskit-machine-learning`\n",
    "\n",
    "The QBI in `qiskit-machine-learning` can be used for different quantum circuits representing Bayesian networks with. The implementation is based on the `Sampler` primitive from [qiskit primitives](https://qiskit.org/documentation/apidoc/primitives.html). The primitive is the entry point to run QBI on either a simulator or real quantum hardware. QBI takes in an optional instance of its corresponding primitive, which can be any subclass of `BaseSampler`.\n",
    "\n",
    "The `qiskit.primitives` module provides a reference implementation for the `Sampler` class to run statevector simulations. By default, if no instance is passed to a QBI class, an instance of the corresponding reference primitive of `Sampler` is created automatically by QBI.\n",
    "For more information about primitives please refer to the [primitives documentation](https://qiskit.org/documentation/apidoc/primitives.html).\n",
    "\n",
    "The `QBayesian` class is used for QBI in `qiskit-machine-learning`. It is initialized with a quantum circuit that represents a Bayesian network. This enables the execution of quantum rejection sampling and inference.\n"
   ]
  },
  {
   "cell_type": "markdown",
   "id": "36c0c73ab1fe5686",
   "metadata": {
    "collapsed": false
   },
   "source": [
    "## 2. How to Instantiate QBI"
   ]
  },
  {
   "cell_type": "markdown",
   "id": "6adf88f1d249b336",
   "metadata": {
    "collapsed": false
   },
   "source": [
    "### 2.1. Create Rotations for the Bayesian Networks\n",
    "In quantum computing, the rotation matrix around the y-axis, denoted as $R_y(\\theta)$, is used to rotate the state of a qubit around the y-axis of the Bloch sphere by an angle $\\theta$. This approach allows for precise control over the quantum state of a qubit, enabling the encoding of specific probabilities in quantum algorithms. When this rotation is applied to a qubit initially in the $|0\\rangle$ state, the resulting state $|\\psi\\rangle$ is:\n",
    "$$ |\\psi\\rangle = R_y(\\theta)|0\\rangle = \\begin{pmatrix} \\cos\\left(\\frac{\\theta}{2}\\right) \\\\ \\sin\\left(\\frac{\\theta}{2}\\right) \\end{pmatrix} $$\n",
    "\n",
    "where\n",
    "\n",
    "* $R_y(\\theta) = \\begin{pmatrix} \\cos\\left(\\frac{\\theta}{2}\\right) & -\\sin\\left(\\frac{\\theta}{2}\\right) \\\\ \\sin\\left(\\frac{\\theta}{2}\\right) & \\cos\\left(\\frac{\\theta}{2}\\right) \\end{pmatrix}$\n",
    "\n",
    "\n",
    "This state is a superposition of $|0\\rangle$ and $|1\\rangle$ with respective amplitudes $\\cos\\left(\\frac{\\theta}{2}\\right) $ and $\\sin\\left(\\frac{\\theta}{2}\\right) $. To set a specific probability $p$ for measuring the qubit in the $|1\\rangle$ state, you can determine $\\theta$ using $\\arcsin$:\n",
    "$$ (\\sin^2\\left(\\frac{\\theta}{2}\\right) = p) \\Leftrightarrow (\\theta = 2\\arcsin\\left(\\sqrt{p}\\right)) $$\n",
    "\n",
    "The counter probability $q = 1 - p$, which is the probability of measuring the qubit in the $|0\\rangle$ state, is given by:\n",
    "$$ q = \\cos^2\\left(\\frac{\\theta}{2}\\right) $$\n",
    "\n",
    "This approach can be extended for conditional probabilities. For example, with the Bayesian network shown above, you can use the following formula to calculate the joint probability distribution:\n",
    "$$(X\\otimes{I})(I\\otimes{I}+P_1\\otimes{(R_y-I)})(X\\otimes{I})(I\\otimes{I}+P_1\\otimes{(R_y-I)})(R_y\\otimes{I})|00\\rangle$$"
   ]
  },
  {
   "cell_type": "markdown",
   "id": "f0be387a44da5bac",
   "metadata": {
    "collapsed": false
   },
   "source": [
    "#### 2.1.1. Two Node Bayesian Network Example\n",
    "\n",
    "In the first example we consider a simple Bayesian network that is only based on two nodes."
   ]
  },
  {
   "cell_type": "markdown",
   "id": "5a1d3cd4b14d9c1e",
   "metadata": {
    "collapsed": false
   },
   "source": [
    "![Two Node Bayesian Network Example](../images/Two_Node_Bayesian_Network.png)"
   ]
  },
  {
   "cell_type": "markdown",
   "id": "19b5a6da03a35a85",
   "metadata": {
    "collapsed": false
   },
   "source": [
    "For the quantum circuit we need rotation angles that represent the conditional probability tables. The corresponding rotation angles are:"
   ]
  },
  {
   "cell_type": "code",
   "execution_count": 1,
   "id": "326c1d2e72f41202",
   "metadata": {
    "ExecuteTime": {
     "end_time": "2024-03-15T12:25:43.964092Z",
     "start_time": "2024-03-15T12:25:43.916109Z"
    },
    "collapsed": false,
    "execution": {
     "iopub.execute_input": "2024-11-18T17:09:31.563829Z",
     "iopub.status.busy": "2024-11-18T17:09:31.563619Z",
     "iopub.status.idle": "2024-11-18T17:09:31.615988Z",
     "shell.execute_reply": "2024-11-18T17:09:31.615383Z"
    }
   },
   "outputs": [],
   "source": [
    "# Include libraries\n",
    "import numpy as np\n",
    "\n",
    "# Define rotation angles\n",
    "theta_X = 2 * np.arcsin(np.sqrt(0.2))\n",
    "theta_Y_X = 2 * np.arcsin(np.sqrt(0.9))\n",
    "theta_Y_nX = 2 * np.arcsin(np.sqrt(0.3))"
   ]
  },
  {
   "cell_type": "markdown",
   "id": "e1dd146c9d2bdad3",
   "metadata": {
    "collapsed": false
   },
   "source": [
    "#### 2.1.2. Burglary Alarm Example\n",
    "\n",
    "Now consider a more complex network. Imagine you have an alarm system in your house that is triggered by either a burglary or an earthquake. You also have two neighbors, John and Mary, who will call you if they hear the alarm. The network has directed edges from the Burglary and Earthquake nodes to the Alarm node, indicating that both burglary and earthquake can cause the alarm to ring. There are also edges from the Alarm node to the John Calls and Mary Calls nodes, indicating that the alarm influences whether John and Mary call you."
   ]
  },
  {
   "cell_type": "markdown",
   "id": "69003c40f9bcbafd",
   "metadata": {
    "collapsed": false
   },
   "source": [
    "![Burglary Alarm](../images/Burglary_Alarm.png)"
   ]
  },
  {
   "cell_type": "markdown",
   "id": "587dc2c38a0a3ca9",
   "metadata": {
    "collapsed": false
   },
   "source": [
    "The Bayesian Network for this scenario involves the following variables:\n",
    "\n",
    "Burglary (B): Whether a burglary has occurred.\n",
    "Earthquake (E): Whether an earthquake has occurred.\n",
    "Alarm (A): Whether the alarm goes off.\n",
    "John Calls (J): Whether John calls you.\n",
    "Mary Calls (M): Whether Mary calls you.\n",
    "\n",
    "Use the conditional probability tables:\n"
   ]
  },
  {
   "cell_type": "code",
   "execution_count": 2,
   "id": "a815411b4f10c78c",
   "metadata": {
    "ExecuteTime": {
     "end_time": "2024-03-15T12:25:43.977309Z",
     "start_time": "2024-03-15T12:25:43.922941Z"
    },
    "collapsed": false,
    "execution": {
     "iopub.execute_input": "2024-11-18T17:09:31.619592Z",
     "iopub.status.busy": "2024-11-18T17:09:31.618710Z",
     "iopub.status.idle": "2024-11-18T17:09:31.625427Z",
     "shell.execute_reply": "2024-11-18T17:09:31.624860Z"
    }
   },
   "outputs": [],
   "source": [
    "theta_B = 2 * np.arcsin(np.sqrt(0.001))\n",
    "theta_E = 2 * np.arcsin(np.sqrt(0.002))\n",
    "theta_A_nBnE = 2 * np.arcsin(np.sqrt(0.001))\n",
    "theta_A_nBE = 2 * np.arcsin(np.sqrt(0.29))\n",
    "theta_A_BnE = 2 * np.arcsin(np.sqrt(0.94))\n",
    "theta_A_BE = 2 * np.arcsin(np.sqrt(0.95))\n",
    "theta_J_nA = 2 * np.arcsin(np.sqrt(0.05))\n",
    "theta_J_A = 2 * np.arcsin(np.sqrt(0.9))\n",
    "theta_M_nA = 2 * np.arcsin(np.sqrt(0.9))\n",
    "theta_M_A = 2 * np.arcsin(np.sqrt(0.3))"
   ]
  },
  {
   "cell_type": "markdown",
   "id": "473ea24e63019832",
   "metadata": {
    "collapsed": false
   },
   "source": [
    "### 2.2. Create a Quantum Circuit for the Bayesian Networks\n",
    "A Bayesian network can be represented as a quantum circuit where each node is a qubit, and the edges are quantum gates that represent the conditional dependencies."
   ]
  },
  {
   "cell_type": "markdown",
   "id": "33797564f68ae67",
   "metadata": {
    "collapsed": false
   },
   "source": [
    "#### 2.2.1 Two Node Bayesian Network Example"
   ]
  },
  {
   "cell_type": "code",
   "execution_count": 3,
   "id": "4f99dbe56bc6910a",
   "metadata": {
    "ExecuteTime": {
     "start_time": "2024-03-15T12:25:43.936275Z"
    },
    "collapsed": false,
    "execution": {
     "iopub.execute_input": "2024-11-18T17:09:31.628738Z",
     "iopub.status.busy": "2024-11-18T17:09:31.627911Z",
     "iopub.status.idle": "2024-11-18T17:09:32.351690Z",
     "shell.execute_reply": "2024-11-18T17:09:32.351019Z"
    },
    "is_executing": true
   },
   "outputs": [
    {
     "data": {
      "image/png": "[encoded data removed]",
      "text/plain": [
       "<Figure size 521.493x200.667 with 1 Axes>"
      ]
     },
     "execution_count": 3,
     "metadata": {},
     "output_type": "execute_result"
    }
   ],
   "source": [
    "from qiskit import QuantumRegister\n",
    "from qiskit import QuantumCircuit\n",
    "\n",
    "# Define quantum registers\n",
    "qrX = QuantumRegister(1, name=\"X\")\n",
    "qrY = QuantumRegister(1, name=\"Y\")\n",
    "# Define a 2-qubit quantum circuit\n",
    "qc_2n = QuantumCircuit(qrX, qrY, name=\"Bayes net small\")\n",
    "# Apply the R_Y_theta rotation gate on the first qubit\n",
    "qc_2n.ry(theta_X, 0)\n",
    "# Apply the controlled-R_Y_theta rotation gate\n",
    "qc_2n.cry(theta_Y_X, control_qubit=qrX, target_qubit=qrY)\n",
    "# Apply the X gate on the first qubit\n",
    "qc_2n.x(0)\n",
    "# Apply the controlled-R_Y_theta rotation gate\n",
    "qc_2n.cry(theta_Y_nX, control_qubit=qrX, target_qubit=qrY)\n",
    "# Apply another X gate on the first qubit\n",
    "qc_2n.x(0)\n",
    "qc_2n.draw(\"mpl\", style=\"bw\", plot_barriers=False, justify=\"none\", fold=-1)"
   ]
  },
  {
   "cell_type": "markdown",
   "id": "7596c28a61daad7d",
   "metadata": {
    "collapsed": false
   },
   "source": [
    "#### 2.2.2. Burglary Alarm Example"
   ]
  },
  {
   "cell_type": "code",
   "execution_count": 4,
   "id": "79045cc1a7706f87",
   "metadata": {
    "ExecuteTime": {
     "end_time": "2024-03-15T12:25:44.289098Z",
     "start_time": "2024-03-15T12:25:43.993735Z"
    },
    "collapsed": false,
    "execution": {
     "iopub.execute_input": "2024-11-18T17:09:32.354079Z",
     "iopub.status.busy": "2024-11-18T17:09:32.353552Z",
     "iopub.status.idle": "2024-11-18T17:09:32.708952Z",
     "shell.execute_reply": "2024-11-18T17:09:32.708250Z"
    }
   },
   "outputs": [
    {
     "data": {
      "image/png": "[encoded data removed]",
      "text/plain": [
       "<Figure size 2784x451.5 with 1 Axes>"
      ]
     },
     "execution_count": 4,
     "metadata": {},
     "output_type": "execute_result"
    }
   ],
   "source": [
    "# Initialize register\n",
    "var = [\"B\", \"E\", \"A\", \"J\", \"M\"]\n",
    "qr = [QuantumRegister(1, name=v) for v in var]\n",
    "qc_ba = QuantumCircuit(*qr, name=\"State preparation\")\n",
    "# Specify control qubits\n",
    "# P(B)\n",
    "qc_ba.ry(theta_B, qr[0])\n",
    "# P(E)\n",
    "qc_ba.ry(theta_E, qr[1])\n",
    "# P(A|B,E)\n",
    "qc_ba.mcry(theta_E, [qr[0][0], qr[1][0]], qr[2])\n",
    "# P(A|-B,E)\n",
    "qc_ba.x(qr[0])\n",
    "qc_ba.mcry(theta_A_BnE, [qr[0][0], qr[1][0]], qr[2])\n",
    "qc_ba.x(qr[0])\n",
    "# P(A|B,-E)\n",
    "qc_ba.x(qr[1])\n",
    "qc_ba.mcry(theta_A_nBE, [qr[0][0], qr[1][0]], qr[2])\n",
    "qc_ba.x(qr[1])\n",
    "# P(A|-B,-E)\n",
    "qc_ba.x(qr[0])\n",
    "qc_ba.x(qr[1])\n",
    "qc_ba.mcry(theta_A_nBnE, [qr[0][0], qr[1][0]], qr[2])\n",
    "qc_ba.x(qr[0])\n",
    "qc_ba.x(qr[1])\n",
    "# P(J|A)\n",
    "qc_ba.cry(theta_J_A, qr[2], qr[3])\n",
    "# P(M|A)\n",
    "qc_ba.cry(theta_M_A, qr[2], qr[4])\n",
    "# P(J|-A) + P(M|-A)\n",
    "qc_ba.x(qr[2])\n",
    "qc_ba.cry(theta_J_nA, qr[2], qr[3])\n",
    "qc_ba.cry(theta_M_nA, qr[2], qr[4])\n",
    "qc_ba.x(qr[2])\n",
    "# Draw circuit\n",
    "qc_ba.draw(\"mpl\", style=\"bw\", plot_barriers=False, justify=\"none\", fold=-1)"
   ]
  },
  {
   "cell_type": "markdown",
   "id": "b8cc65c8d0c64c91",
   "metadata": {
    "collapsed": false
   },
   "source": [
    "## 3. How to Run Rejection Sampling"
   ]
  },
  {
   "cell_type": "markdown",
   "id": "eff9038bd1a6a91e",
   "metadata": {
    "collapsed": false
   },
   "source": [
    "### 3.1. Set up\n",
    "\n",
    "Rejection sampling is a basic technique used in probabilistic computing for generating observations from a distribution. It's particularly useful when direct sampling from the desired distribution is difficult. The core idea is to use a simpler distribution (referred to as the proposal distribution) from which we can easily sample, and then to \"reject\" or \"accept\" these samples based on a certain criterion (evidence) so that the accepted samples follow the desired target distribution. \n",
    "\n",
    "Quantum rejection sampling adapts the classical rejection sampling method to the quantum computing context, utilizing quantum algorithms and states to perform efficient sampling. Once the state is prepared by the given quantum circuit representing the Bayesian network, it is measured, resulting in the collapse to one of its possible outcomes. This step is analogous to drawing a sample in classical rejection sampling. However, quantum rejection sampling primarily focuses on post-selection, where only specific measurement outcomes that meet desired criteria, here evidence, are retained, and others are disregarded.\n",
    "\n",
    "In this implementation, Grover's algorithm is employed for amplitude amplification. This step is designed to increase the probability amplitudes of the desired outcomes, thereby reducing the number of samples needed. The efficiency of quantum rejection sampling lies in its utilization of quantum parallelism, which allows for the simultaneous evaluation of multiple probabilities, and quantum interference, which can be used to increase the likelihood of obtaining desired outcomes.\n",
    "\n",
    "Quantum rejection sampling is particularly beneficial in complex or high-dimensional probability distribution scenarios, where classical computers face challenges. Its applications extend to quantum machine learning, probabilistic modeling, and other areas of quantum computing. \n",
    "\n",
    "To use the `QBayesian` class, instantiate it with a quantum circuit that represents the Bayesian network. You can then use the rejection sampling method to estimate probabilities given evidence."
   ]
  },
  {
   "cell_type": "markdown",
   "id": "c3fd5b7532b845c4",
   "metadata": {
    "collapsed": false
   },
   "source": [
    "#### 3.1.1 Two Node Bayesian Network Example\n",
    "If we want to carry out a rejection sampling with X=1 as evidence, we can do this in the following way:"
   ]
  },
  {
   "cell_type": "code",
   "execution_count": 5,
   "id": "1e602fda98a6356d",
   "metadata": {
    "ExecuteTime": {
     "end_time": "2024-03-15T12:25:44.414966Z",
     "start_time": "2024-03-15T12:25:44.300268Z"
    },
    "collapsed": false,
    "execution": {
     "iopub.execute_input": "2024-11-18T17:09:32.711368Z",
     "iopub.status.busy": "2024-11-18T17:09:32.710974Z",
     "iopub.status.idle": "2024-11-18T17:09:34.079600Z",
     "shell.execute_reply": "2024-11-18T17:09:34.078914Z"
    }
   },
   "outputs": [
    {
     "name": "stderr",
     "output_type": "stream",
     "text": [
      "/tmp/ipykernel_14551/2947965752.py:6: DeprecationWarning: V1 Primitives are deprecated as of qiskit-machine-learning 0.8.0 and will be removed no sooner than 4 months after the release date. Use V2 primitives for continued compatibility and support.\n",
      "  qb_2n = QBayesian(circuit=qc_2n)\n"
     ]
    },
    {
     "data": {
      "image/png": "[encoded data removed]",
      "text/plain": [
       "<Figure size 640x480 with 1 Axes>"
      ]
     },
     "execution_count": 5,
     "metadata": {},
     "output_type": "execute_result"
    }
   ],
   "source": [
    "from qiskit_machine_learning.algorithms import QBayesian\n",
    "from qiskit.visualization import plot_histogram\n",
    "\n",
    "evidence = {\"X\": 1}\n",
    "# Initialize QBayesian\n",
    "qb_2n = QBayesian(circuit=qc_2n)\n",
    "# Sampling\n",
    "samples = qb_2n.rejection_sampling(evidence=evidence)\n",
    "plot_histogram(samples)"
   ]
  },
  {
   "cell_type": "markdown",
   "id": "166108a390743bd4",
   "metadata": {
    "collapsed": false
   },
   "source": [
    "We can also set the threshold to accept the evidence. For example, if set to 0.9, this means that each evidence qubit must be equal to the value of the evidence variable at least 90% of the time in order to be accepted. Sometimes we can also improve our result by setting the threshold for acceptance of the evidence higher:"
   ]
  },
  {
   "cell_type": "code",
   "execution_count": 6,
   "id": "a6fc4d5d394d301a",
   "metadata": {
    "ExecuteTime": {
     "end_time": "2024-03-15T12:25:44.544878Z",
     "start_time": "2024-03-15T12:25:44.427867Z"
    },
    "collapsed": false,
    "execution": {
     "iopub.execute_input": "2024-11-18T17:09:34.082089Z",
     "iopub.status.busy": "2024-11-18T17:09:34.081528Z",
     "iopub.status.idle": "2024-11-18T17:09:34.378507Z",
     "shell.execute_reply": "2024-11-18T17:09:34.377903Z"
    }
   },
   "outputs": [
    {
     "data": {
      "image/png": "[encoded data removed]",
      "text/plain": [
       "<Figure size 640x480 with 1 Axes>"
      ]
     },
     "execution_count": 6,
     "metadata": {},
     "output_type": "execute_result"
    }
   ],
   "source": [
    "# Sampling\n",
    "qb_2n.threshold = 0.97\n",
    "samples = qb_2n.rejection_sampling(evidence=evidence)\n",
    "plot_histogram(samples)"
   ]
  },
  {
   "cell_type": "markdown",
   "id": "5bf133a4bdd8a976",
   "metadata": {
    "collapsed": false
   },
   "source": [
    "We can also print the result in a better format to understand which values belong to which variables:"
   ]
  },
  {
   "cell_type": "code",
   "execution_count": 7,
   "id": "4f019762e7f6b861",
   "metadata": {
    "ExecuteTime": {
     "end_time": "2024-03-15T12:25:44.619555Z",
     "start_time": "2024-03-15T12:25:44.540091Z"
    },
    "collapsed": false,
    "execution": {
     "iopub.execute_input": "2024-11-18T17:09:34.380730Z",
     "iopub.status.busy": "2024-11-18T17:09:34.380355Z",
     "iopub.status.idle": "2024-11-18T17:09:34.509460Z",
     "shell.execute_reply": "2024-11-18T17:09:34.508885Z"
    }
   },
   "outputs": [
    {
     "name": "stdout",
     "output_type": "stream",
     "text": [
      "{'P(Y=0|X=1)': np.float64(0.1004712084149367), 'P(Y=1|X=1)': np.float64(0.899528791585059)}\n"
     ]
    }
   ],
   "source": [
    "qb_2n.threshold = 0.97\n",
    "samples = qb_2n.rejection_sampling(evidence=evidence, format_res=True)\n",
    "print(samples)"
   ]
  },
  {
   "cell_type": "markdown",
   "id": "9f6ab51740b00957",
   "metadata": {
    "collapsed": false
   },
   "source": [
    "#### 3.1.2. Burglary Alarm Example\n",
    "For the advanced example, we can follow the steps from above in the same way. However, we look at the trivial case of how to obtain the joint probability of the network. This can be calculated by providing no evidence for the rejection sampling method. (For optical reasons, we only plot probabilities that are greater than 0.01%.)"
   ]
  },
  {
   "cell_type": "code",
   "execution_count": 8,
   "id": "8d4904619b35503a",
   "metadata": {
    "ExecuteTime": {
     "end_time": "2024-03-15T12:25:44.729578Z",
     "start_time": "2024-03-15T12:25:44.618613Z"
    },
    "collapsed": false,
    "execution": {
     "iopub.execute_input": "2024-11-18T17:09:34.511596Z",
     "iopub.status.busy": "2024-11-18T17:09:34.511231Z",
     "iopub.status.idle": "2024-11-18T17:09:34.632430Z",
     "shell.execute_reply": "2024-11-18T17:09:34.631841Z"
    }
   },
   "outputs": [
    {
     "name": "stderr",
     "output_type": "stream",
     "text": [
      "/tmp/ipykernel_14551/2141156116.py:2: DeprecationWarning: V1 Primitives are deprecated as of qiskit-machine-learning 0.8.0 and will be removed no sooner than 4 months after the release date. Use V2 primitives for continued compatibility and support.\n",
      "  qb_ba = QBayesian(circuit=qc_ba)\n"
     ]
    },
    {
     "data": {
      "image/png": "[encoded data removed]",
      "text/plain": [
       "<Figure size 640x480 with 1 Axes>"
      ]
     },
     "execution_count": 8,
     "metadata": {},
     "output_type": "execute_result"
    }
   ],
   "source": [
    "# Initialize quantum bayesian inference framework\n",
    "qb_ba = QBayesian(circuit=qc_ba)\n",
    "# Inference\n",
    "counts = qb_ba.rejection_sampling(evidence={})\n",
    "plot_histogram({c_key: c_val for c_key, c_val in counts.items() if c_val > 0.0001})"
   ]
  },
  {
   "cell_type": "markdown",
   "id": "5d22c72ca6352a56",
   "metadata": {
    "collapsed": false
   },
   "source": [
    "## 4. How to Run an Inference"
   ]
  },
  {
   "cell_type": "markdown",
   "id": "d66d7e40d62819b6",
   "metadata": {
    "collapsed": false
   },
   "source": [
    "### 4.1 Set Up\n",
    "Quantum Bayesian inference is here based on quantum rejection sampling. Quantum rejection sampling plays a pivotal role in the inference process that follows. After the quantum state is manipulated to include evidence, measurement is performed. However, in quantum rejection sampling, only those measurement outcomes that align with the evidence are considered, effectively 'rejecting' irrelevant outcomes, similar to the traditional rejection sampling method.\n",
    "\n",
    "The synergy of quantum state manipulation with quantum rejection sampling leads to a more efficient inference process compared to classical approaches, harnessing the inherent parallelism of quantum computing to simultaneously process multiple probabilities. This advanced method has significant implications in areas like quantum machine learning and data analysis, where it could outperform classical algorithms in tasks such as pattern recognition and decision-making.\n",
    "\n",
    "You can use the `inference` method from `QBayesian` to estimate probabilities given evidence."
   ]
  },
  {
   "cell_type": "markdown",
   "id": "b3916bfec5e40bfc",
   "metadata": {
    "collapsed": false
   },
   "source": [
    "#### 4.1. Two Node Bayesian Network Example\n",
    "Using `QBayesian`, you can draw various probabilistic conclusions. For the Bayesian network with two nodes, this is limited due to the number of variables. However, if we want to know what the probability of P(Y=0|X=1) is, we can do the following:"
   ]
  },
  {
   "cell_type": "code",
   "execution_count": 9,
   "id": "841bce19ea097bf1",
   "metadata": {
    "ExecuteTime": {
     "end_time": "2024-03-15T12:25:44.795158Z",
     "start_time": "2024-03-15T12:25:44.744036Z"
    },
    "collapsed": false,
    "execution": {
     "iopub.execute_input": "2024-11-18T17:09:34.634667Z",
     "iopub.status.busy": "2024-11-18T17:09:34.634206Z",
     "iopub.status.idle": "2024-11-18T17:09:34.765308Z",
     "shell.execute_reply": "2024-11-18T17:09:34.764728Z"
    }
   },
   "outputs": [
    {
     "data": {
      "text/plain": [
       "np.float64(0.1004712084149367)"
      ]
     },
     "execution_count": 9,
     "metadata": {},
     "output_type": "execute_result"
    }
   ],
   "source": [
    "query = {\"Y\": 0}\n",
    "evidence = {\"X\": 1}\n",
    "# Inference\n",
    "qb_2n.inference(query=query, evidence=evidence)"
   ]
  },
  {
   "cell_type": "markdown",
   "id": "fe7797d512bc1470",
   "metadata": {
    "collapsed": false
   },
   "source": [
    "#### 4.2. Burglary Alarm Example"
   ]
  },
  {
   "cell_type": "markdown",
   "id": "bb0e805d2f7fb30c",
   "metadata": {
    "collapsed": false
   },
   "source": [
    "Here we have more options to choose from. For example, if John calls, you can calculate the probability of a burglary having occurred. Bayesian networks are particularly useful in such scenarios where you have uncertain information (like John calling) and you want to infer the state of a more fundamental variable (like a burglary)."
   ]
  },
  {
   "cell_type": "code",
   "execution_count": 10,
   "id": "5468619791203a79",
   "metadata": {
    "ExecuteTime": {
     "end_time": "2024-03-15T12:25:45.014942Z",
     "start_time": "2024-03-15T12:25:44.794874Z"
    },
    "collapsed": false,
    "execution": {
     "iopub.execute_input": "2024-11-18T17:09:34.767455Z",
     "iopub.status.busy": "2024-11-18T17:09:34.767092Z",
     "iopub.status.idle": "2024-11-18T17:09:35.482708Z",
     "shell.execute_reply": "2024-11-18T17:09:35.482103Z"
    }
   },
   "outputs": [
    {
     "data": {
      "text/plain": [
       "np.float64(0.0054042995153299)"
      ]
     },
     "execution_count": 10,
     "metadata": {},
     "output_type": "execute_result"
    }
   ],
   "source": [
    "query = {\"B\": 1}\n",
    "evidence = {\"J\": 1}\n",
    "# Inference\n",
    "qb_ba.inference(query=query, evidence=evidence)"
   ]
  },
  {
   "cell_type": "markdown",
   "id": "5316dde91cf95cc8",
   "metadata": {
    "collapsed": false
   },
   "source": [
    "We can also set the threshold to accept the evidence higher for the inference, and sometimes we can also improve our result by setting the evidence acceptance threshold higher:"
   ]
  },
  {
   "cell_type": "code",
   "execution_count": 11,
   "id": "a5434c7c7c45040a",
   "metadata": {
    "ExecuteTime": {
     "end_time": "2024-03-15T12:25:45.806883Z",
     "start_time": "2024-03-15T12:25:45.028762Z"
    },
    "collapsed": false,
    "execution": {
     "iopub.execute_input": "2024-11-18T17:09:35.484816Z",
     "iopub.status.busy": "2024-11-18T17:09:35.484484Z",
     "iopub.status.idle": "2024-11-18T17:09:38.002542Z",
     "shell.execute_reply": "2024-11-18T17:09:38.001970Z"
    }
   },
   "outputs": [
    {
     "data": {
      "text/plain": [
       "np.float64(0.0056128979765628)"
      ]
     },
     "execution_count": 11,
     "metadata": {},
     "output_type": "execute_result"
    }
   ],
   "source": [
    "# Inference\n",
    "qb_ba.threshold = 0.97\n",
    "qb_ba.inference(query=query, evidence=evidence)"
   ]
  },
  {
   "cell_type": "markdown",
   "id": "cf43ad224f163d80",
   "metadata": {
    "collapsed": false
   },
   "source": [
    "And we can also check whether the algorithm converges:"
   ]
  },
  {
   "cell_type": "code",
   "execution_count": 12,
   "id": "d01e712eb69a686e",
   "metadata": {
    "ExecuteTime": {
     "end_time": "2024-03-15T12:25:45.810056Z",
     "start_time": "2024-03-15T12:25:45.806688Z"
    },
    "collapsed": false,
    "execution": {
     "iopub.execute_input": "2024-11-18T17:09:38.004627Z",
     "iopub.status.busy": "2024-11-18T17:09:38.004307Z",
     "iopub.status.idle": "2024-11-18T17:09:38.007590Z",
     "shell.execute_reply": "2024-11-18T17:09:38.007076Z"
    }
   },
   "outputs": [
    {
     "name": "stdout",
     "output_type": "stream",
     "text": [
      "Converged:  True\n"
     ]
    }
   ],
   "source": [
    "print(\"Converged: \", qb_ba.converged)"
   ]
  }
 ],
 "metadata": {
  "kernelspec": {
   "display_name": "Python 3 (ipykernel)",
   "language": "python",
   "name": "python3"
  },
  "language_info": {
   "codemirror_mode": {
    "name": "ipython",
    "version": 3
   },
   "file_extension": ".py",
   "mimetype": "text/x-python",
   "name": "python",
   "nbconvert_exporter": "python",
   "pygments_lexer": "ipython3",
   "version": "3.10.15"
  }
 },
 "nbformat": 4,
 "nbformat_minor": 5
}
