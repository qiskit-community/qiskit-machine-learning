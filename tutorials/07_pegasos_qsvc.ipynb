{
 "cells": [
  {
   "cell_type": "markdown",
   "id": "opened-florist",
   "metadata": {},
   "source": [
    "# Pegasos Quantum Support Vector Classifier\n",
    "\n",
    "There's another SVM based algorithm that benefits from the quantum kernel method. Here, we introduce an implementation of a another classification algorithm, which is an alternative version to the `QSVC` available in Qiskit Machine Learning and shown in the [\"Quantum Kernel Machine Learning\"](./03_quantum_kernel.ipynb) tutorial. This classification algorithm implements the Pegasos algorithm from the paper \"Pegasos: Primal Estimated sub-GrAdient SOlver for SVM\" by Shalev-Shwartz et al., see: https://home.ttic.edu/~nati/Publications/PegasosMPB.pdf.\n",
    "\n",
    "This algorithm is an alternative to the dual optimization from the `scikit-learn` package, benefits from the kernel trick, and yields a training complexity that is independent of the size of the training set. Thus, the `PegasosQSVC` is expected to train faster than QSVC for sufficiently large training sets.\n",
    "\n",
    "The algorithm can be used as direct replacement of `QSVC` with some hyper-parameterization."
   ]
  },
  {
   "cell_type": "markdown",
   "id": "thirty-painting",
   "metadata": {},
   "source": [
    "Let's generate some data:"
   ]
  },
  {
   "cell_type": "code",
   "execution_count": 1,
   "id": "impressed-laser",
   "metadata": {
    "execution": {
     "iopub.execute_input": "2024-12-09T12:15:34.894549Z",
     "iopub.status.busy": "2024-12-09T12:15:34.894062Z",
     "iopub.status.idle": "2024-12-09T12:15:35.530772Z",
     "shell.execute_reply": "2024-12-09T12:15:35.530128Z"
    }
   },
   "outputs": [],
   "source": [
    "from sklearn.datasets import make_blobs\n",
    "\n",
    "# example dataset\n",
    "features, labels = make_blobs(n_samples=20, n_features=2, centers=2, random_state=3, shuffle=True)"
   ]
  },
  {
   "cell_type": "markdown",
   "id": "moderate-yugoslavia",
   "metadata": {},
   "source": [
    "We pre-process the data to ensure compatibility with the rotation encoding and split it into the training and test datasets."
   ]
  },
  {
   "cell_type": "code",
   "execution_count": 2,
   "id": "adolescent-composer",
   "metadata": {
    "execution": {
     "iopub.execute_input": "2024-12-09T12:15:35.533082Z",
     "iopub.status.busy": "2024-12-09T12:15:35.532842Z",
     "iopub.status.idle": "2024-12-09T12:15:35.559548Z",
     "shell.execute_reply": "2024-12-09T12:15:35.558881Z"
    }
   },
   "outputs": [],
   "source": [
    "import numpy as np\n",
    "\n",
    "from sklearn.model_selection import train_test_split\n",
    "from sklearn.preprocessing import MinMaxScaler\n",
    "\n",
    "features = MinMaxScaler(feature_range=(0, np.pi)).fit_transform(features)\n",
    "\n",
    "train_features, test_features, train_labels, test_labels = train_test_split(\n",
    "    features, labels, train_size=15, shuffle=False\n",
    ")"
   ]
  },
  {
   "cell_type": "markdown",
   "id": "central-poverty",
   "metadata": {},
   "source": [
    "We have two features in the dataset, so we set a number of qubits to the number of features in the dataset.\n",
    "\n",
    "Then we set $\\tau$ to the number of steps performed during the training procedure. Please note that, there is no early stopping criterion in the algorithm. The algorithm iterates over all $\\tau$ steps.\n",
    "\n",
    "And the last one is the hyperparameter $C$. This is a positive regularization parameter. The strength of the regularization is inversely proportional to $C$. Smaller $C$ induce smaller weights which generally helps preventing overfitting. However, due to the nature of this algorithm, some of the computation steps become trivial for larger $C$. Thus, larger $C$ improve the performance of the algorithm drastically. If the data is linearly separable in feature space, $C$ should be chosen to be large. If the separation is not perfect, $C$ should be chosen smaller to prevent overfitting."
   ]
  },
  {
   "cell_type": "code",
   "execution_count": 3,
   "id": "dying-dispatch",
   "metadata": {
    "execution": {
     "iopub.execute_input": "2024-12-09T12:15:35.561792Z",
     "iopub.status.busy": "2024-12-09T12:15:35.561381Z",
     "iopub.status.idle": "2024-12-09T12:15:35.564437Z",
     "shell.execute_reply": "2024-12-09T12:15:35.563815Z"
    }
   },
   "outputs": [],
   "source": [
    "# number of qubits is equal to the number of features\n",
    "num_qubits = 2\n",
    "\n",
    "# number of steps performed during the training procedure\n",
    "tau = 100\n",
    "\n",
    "# regularization parameter\n",
    "C = 1000"
   ]
  },
  {
   "cell_type": "markdown",
   "id": "improving-wilderness",
   "metadata": {},
   "source": [
    "The algorithm will run using:\n",
    "\n",
    "- The default fidelity instantiated in `FidelityQuantumKernel`\n",
    "- A quantum kernel created from `ZFeatureMap`"
   ]
  },
  {
   "cell_type": "code",
   "execution_count": 4,
   "id": "automated-allergy",
   "metadata": {
    "execution": {
     "iopub.execute_input": "2024-12-09T12:15:35.566755Z",
     "iopub.status.busy": "2024-12-09T12:15:35.566167Z",
     "iopub.status.idle": "2024-12-09T12:15:35.849051Z",
     "shell.execute_reply": "2024-12-09T12:15:35.848414Z"
    }
   },
   "outputs": [],
   "source": [
    "from qiskit.circuit.library import ZFeatureMap\n",
    "from qiskit_machine_learning.utils import algorithm_globals\n",
    "\n",
    "from qiskit_machine_learning.kernels import FidelityQuantumKernel\n",
    "\n",
    "from qiskit_machine_learning.state_fidelities import ComputeUncompute\n",
    "from qiskit.primitives import StatevectorSampler as Sampler\n",
    "\n",
    "sampler = Sampler()\n",
    "fidelity = ComputeUncompute(sampler=sampler)\n",
    "\n",
    "algorithm_globals.random_seed = 12345\n",
    "\n",
    "feature_map = ZFeatureMap(feature_dimension=num_qubits, reps=1)\n",
    "\n",
    "qkernel = FidelityQuantumKernel(fidelity=fidelity, feature_map=feature_map)"
   ]
  },
  {
   "cell_type": "markdown",
   "id": "attractive-stationery",
   "metadata": {},
   "source": [
    "The implementation `PegasosQSVC` is compatible with the `scikit-learn` interfaces and has a pretty standard way of training a model. In the constructor we pass parameters of the algorithm, in this case there are a regularization hyper-parameter $C$ and a number of steps.\n",
    "\n",
    "Then we pass training features and labels to the `fit` method, which trains a models and returns a fitted classifier.\n",
    "\n",
    "Afterwards, we score our model using test features and labels."
   ]
  },
  {
   "cell_type": "code",
   "execution_count": 5,
   "id": "representative-thumb",
   "metadata": {
    "execution": {
     "iopub.execute_input": "2024-12-09T12:15:35.851497Z",
     "iopub.status.busy": "2024-12-09T12:15:35.851024Z",
     "iopub.status.idle": "2024-12-09T12:15:37.636897Z",
     "shell.execute_reply": "2024-12-09T12:15:37.636230Z"
    }
   },
   "outputs": [
    {
     "name": "stdout",
     "output_type": "stream",
     "text": [
      "PegasosQSVC classification test score: 1.0\n"
     ]
    }
   ],
   "source": [
    "from qiskit_machine_learning.algorithms import PegasosQSVC\n",
    "\n",
    "pegasos_qsvc = PegasosQSVC(quantum_kernel=qkernel, C=C, num_steps=tau)\n",
    "\n",
    "# training\n",
    "pegasos_qsvc.fit(train_features, train_labels)\n",
    "\n",
    "# testing\n",
    "pegasos_score = pegasos_qsvc.score(test_features, test_labels)\n",
    "print(f\"PegasosQSVC classification test score: {pegasos_score}\")"
   ]
  },
  {
   "cell_type": "markdown",
   "id": "sustainable-empire",
   "metadata": {},
   "source": [
    "For visualization purposes we create a mesh grid of a predefined step that spans our minimum and maximum values we applied in MinMaxScaler. We also add some margin to the grid for better representation of the training and test samples."
   ]
  },
  {
   "cell_type": "code",
   "execution_count": 6,
   "id": "judicial-pottery",
   "metadata": {
    "execution": {
     "iopub.execute_input": "2024-12-09T12:15:37.639167Z",
     "iopub.status.busy": "2024-12-09T12:15:37.638728Z",
     "iopub.status.idle": "2024-12-09T12:15:37.642295Z",
     "shell.execute_reply": "2024-12-09T12:15:37.641689Z"
    }
   },
   "outputs": [],
   "source": [
    "grid_step = 0.2\n",
    "margin = 0.2\n",
    "grid_x, grid_y = np.meshgrid(\n",
    "    np.arange(-margin, np.pi + margin, grid_step), np.arange(-margin, np.pi + margin, grid_step)\n",
    ")"
   ]
  },
  {
   "cell_type": "markdown",
   "id": "marine-constitution",
   "metadata": {},
   "source": [
    "We convert the grid to the shape compatible with the model, the shape should be `(n_samples, n_features)`.\n",
    "Then for each grid point we predict a label. In our case predicted labels will be used for coloring the grid."
   ]
  },
  {
   "cell_type": "code",
   "execution_count": 7,
   "id": "competitive-outdoors",
   "metadata": {
    "execution": {
     "iopub.execute_input": "2024-12-09T12:15:37.644218Z",
     "iopub.status.busy": "2024-12-09T12:15:37.643867Z",
     "iopub.status.idle": "2024-12-09T12:15:42.612659Z",
     "shell.execute_reply": "2024-12-09T12:15:42.611945Z"
    }
   },
   "outputs": [],
   "source": [
    "meshgrid_features = np.column_stack((grid_x.ravel(), grid_y.ravel()))\n",
    "meshgrid_colors = pegasos_qsvc.predict(meshgrid_features)"
   ]
  },
  {
   "cell_type": "markdown",
   "id": "former-constraint",
   "metadata": {},
   "source": [
    "Finally, we plot our grid according to the labels/colors we obtained from the model. We also plot training and test samples."
   ]
  },
  {
   "cell_type": "code",
   "execution_count": 8,
   "id": "monetary-knife",
   "metadata": {
    "execution": {
     "iopub.execute_input": "2024-12-09T12:15:42.615479Z",
     "iopub.status.busy": "2024-12-09T12:15:42.614896Z",
     "iopub.status.idle": "2024-12-09T12:15:43.034944Z",
     "shell.execute_reply": "2024-12-09T12:15:43.034262Z"
    },
    "tags": [
     "nbsphinx-thumbnail"
    ]
   },
   "outputs": [
    {
     "data": {
      "image/png": "[encoded data removed]",
      "text/plain": [
       "<Figure size 500x500 with 1 Axes>"
      ]
     },
     "metadata": {},
     "output_type": "display_data"
    }
   ],
   "source": [
    "import matplotlib.pyplot as plt\n",
    "\n",
    "plt.figure(figsize=(5, 5))\n",
    "meshgrid_colors = meshgrid_colors.reshape(grid_x.shape)\n",
    "plt.pcolormesh(grid_x, grid_y, meshgrid_colors, cmap=\"RdBu\", shading=\"auto\")\n",
    "\n",
    "plt.scatter(\n",
    "    train_features[:, 0][train_labels == 0],\n",
    "    train_features[:, 1][train_labels == 0],\n",
    "    marker=\"s\",\n",
    "    facecolors=\"w\",\n",
    "    edgecolors=\"r\",\n",
    "    label=\"A train\",\n",
    ")\n",
    "plt.scatter(\n",
    "    train_features[:, 0][train_labels == 1],\n",
    "    train_features[:, 1][train_labels == 1],\n",
    "    marker=\"o\",\n",
    "    facecolors=\"w\",\n",
    "    edgecolors=\"b\",\n",
    "    label=\"B train\",\n",
    ")\n",
    "\n",
    "plt.scatter(\n",
    "    test_features[:, 0][test_labels == 0],\n",
    "    test_features[:, 1][test_labels == 0],\n",
    "    marker=\"s\",\n",
    "    facecolors=\"r\",\n",
    "    edgecolors=\"r\",\n",
    "    label=\"A test\",\n",
    ")\n",
    "plt.scatter(\n",
    "    test_features[:, 0][test_labels == 1],\n",
    "    test_features[:, 1][test_labels == 1],\n",
    "    marker=\"o\",\n",
    "    facecolors=\"b\",\n",
    "    edgecolors=\"b\",\n",
    "    label=\"B test\",\n",
    ")\n",
    "\n",
    "plt.legend(bbox_to_anchor=(1.05, 1), loc=\"upper left\", borderaxespad=0.0)\n",
    "plt.title(\"Pegasos Classification\")\n",
    "plt.show()"
   ]
  },
  {
   "cell_type": "code",
   "execution_count": 9,
   "id": "imperial-promise",
   "metadata": {
    "execution": {
     "iopub.execute_input": "2024-12-09T12:15:43.037342Z",
     "iopub.status.busy": "2024-12-09T12:15:43.036912Z",
     "iopub.status.idle": "2024-12-09T12:15:43.044565Z",
     "shell.execute_reply": "2024-12-09T12:15:43.044047Z"
    }
   },
   "outputs": [
    {
     "data": {
      "text/html": [
       "<h3>Version Information</h3><table><tr><th>Software</th><th>Version</th></tr><tr><td><code>qiskit</code></td><td>1.2.4</td></tr><tr><td><code>qiskit_machine_learning</code></td><td>0.8.1</td></tr><tr><th colspan='2'>System information</th></tr><tr><td>Python version</td><td>3.10.15</td></tr><tr><td>OS</td><td>Linux</td></tr><tr><td colspan='2'>Mon Dec 09 12:15:43 2024 UTC</td></tr></table>"
      ],
      "text/plain": [
       "<IPython.core.display.HTML object>"
      ]
     },
     "metadata": {},
     "output_type": "display_data"
    },
    {
     "data": {
      "text/html": [
       "<div style='width: 100%; background-color:#d5d9e0;padding-left: 10px; padding-bottom: 10px; padding-right: 10px; padding-top: 5px'><h3>This code is a part of a Qiskit project</h3><p>&copy; Copyright IBM 2017, 2024.</p><p>This code is licensed under the Apache License, Version 2.0. You may<br>obtain a copy of this license in the LICENSE.txt file in the root directory<br> of this source tree or at http://www.apache.org/licenses/LICENSE-2.0.<p>Any modifications or derivative works of this code must retain this<br>copyright notice, and modified files need to carry a notice indicating<br>that they have been altered from the originals.</p></div>"
      ],
      "text/plain": [
       "<IPython.core.display.HTML object>"
      ]
     },
     "metadata": {},
     "output_type": "display_data"
    }
   ],
   "source": [
    "import tutorial_magics\n",
    "\n",
    "%qiskit_version_table\n",
    "%qiskit_copyright"
   ]
  }
 ],
 "metadata": {
  "celltoolbar": "Tags",
  "kernelspec": {
   "display_name": "Python 3 (ipykernel)",
   "language": "python",
   "name": "python3"
  },
  "language_info": {
   "codemirror_mode": {
    "name": "ipython",
    "version": 3
   },
   "file_extension": ".py",
   "mimetype": "text/x-python",
   "name": "python",
   "nbconvert_exporter": "python",
   "pygments_lexer": "ipython3",
   "version": "3.10.15"
  }
 },
 "nbformat": 4,
 "nbformat_minor": 5
}
